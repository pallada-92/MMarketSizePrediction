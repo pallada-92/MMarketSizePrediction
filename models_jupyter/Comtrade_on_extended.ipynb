{
 "cells": [
  {
   "cell_type": "code",
   "execution_count": 34,
   "metadata": {},
   "outputs": [],
   "source": [
    "import pandas as pd\n",
    "import numpy as np\n",
    "from numpy import unique\n",
    "from numpy import ravel\n",
    "from numpy import transpose\n",
    "import sklearn\n",
    "import seaborn\n",
    "import matplotlib.pyplot as plt\n",
    "from matplotlib.ticker import ScalarFormatter\n",
    "\n",
    "from sklearn.svm import SVR\n",
    "from sklearn.ensemble import RandomForestRegressor\n",
    "from sklearn.preprocessing import StandardScaler\n",
    "from sklearn.metrics import r2_score\n",
    "from sklearn.metrics import mean_squared_error\n",
    "import warnings\n",
    "warnings.filterwarnings('ignore')\n",
    "seaborn.set(style=\"ticks\")"
   ]
  },
  {
   "cell_type": "code",
   "execution_count": 3,
   "metadata": {},
   "outputs": [],
   "source": [
    "\n",
    "# url = \"https://docs.google.com/spreadsheets/d/e/2PACX-1vTKQyU5xY2jjMFQy24fWFs2CWrPlHKo4RedaQyoDHn1TNotqrhKPFD7z1dEaydEHe4fLPlXw-QQn38o/pub?gid=1805190093&single=true&output=csv\"\n",
    "url = \"https://docs.google.com/spreadsheets/d/e/2PACX-1vQ5JE66pQB1KJItYr2QUVldTeOGDUfgWwV8u5VdmGkkm6fjZgwCU0-owOzBFakl_aYfsF2aL6xNxRwc/pub?gid=1426322464&single=true&output=csv\"\n",
    "# colmns = [\"name\", \"date\", \"imp_trade_value_usd\", \"exp_trade_value_usd\", \"freq_sum\", \"t\", \"log_imp_value\", \"log_exp_value\", \"log_freq\"]\n",
    "colmns = [\"name\", \"date\", \"exp_imp_sum\", \"freq_sum\", \"t\"]\n",
    "data = pd.read_csv(url, usecols = colmns)\n",
    "unique_items = data.loc[:, \"name\"].unique()"
   ]
  },
  {
   "cell_type": "code",
   "execution_count": 4,
   "metadata": {},
   "outputs": [
    {
     "data": {
      "text/html": [
       "<div>\n",
       "<style scoped>\n",
       "    .dataframe tbody tr th:only-of-type {\n",
       "        vertical-align: middle;\n",
       "    }\n",
       "\n",
       "    .dataframe tbody tr th {\n",
       "        vertical-align: top;\n",
       "    }\n",
       "\n",
       "    .dataframe thead th {\n",
       "        text-align: right;\n",
       "    }\n",
       "</style>\n",
       "<table border=\"1\" class=\"dataframe\">\n",
       "  <thead>\n",
       "    <tr style=\"text-align: right;\">\n",
       "      <th></th>\n",
       "      <th>name</th>\n",
       "      <th>date</th>\n",
       "      <th>freq_sum</th>\n",
       "      <th>t</th>\n",
       "      <th>exp_imp_sum</th>\n",
       "    </tr>\n",
       "  </thead>\n",
       "  <tbody>\n",
       "    <tr>\n",
       "      <th>0</th>\n",
       "      <td>Пальмовое масло</td>\n",
       "      <td>1990</td>\n",
       "      <td>15</td>\n",
       "      <td>1</td>\n",
       "      <td>2511854778</td>\n",
       "    </tr>\n",
       "    <tr>\n",
       "      <th>1</th>\n",
       "      <td>Пальмовое масло</td>\n",
       "      <td>1991</td>\n",
       "      <td>5</td>\n",
       "      <td>2</td>\n",
       "      <td>3134348074</td>\n",
       "    </tr>\n",
       "    <tr>\n",
       "      <th>2</th>\n",
       "      <td>Пальмовое масло</td>\n",
       "      <td>1992</td>\n",
       "      <td>18</td>\n",
       "      <td>3</td>\n",
       "      <td>4157283328</td>\n",
       "    </tr>\n",
       "  </tbody>\n",
       "</table>\n",
       "</div>"
      ],
      "text/plain": [
       "              name  date  freq_sum  t  exp_imp_sum\n",
       "0  Пальмовое масло  1990        15  1   2511854778\n",
       "1  Пальмовое масло  1991         5  2   3134348074\n",
       "2  Пальмовое масло  1992        18  3   4157283328"
      ]
     },
     "execution_count": 4,
     "metadata": {},
     "output_type": "execute_result"
    }
   ],
   "source": [
    "data.head(3)"
   ]
  },
  {
   "cell_type": "code",
   "execution_count": 5,
   "metadata": {},
   "outputs": [
    {
     "data": {
      "text/plain": [
       "count      1247.000000\n",
       "mean      14905.119487\n",
       "std       60565.156285\n",
       "min           1.000000\n",
       "25%         519.500000\n",
       "50%        2176.000000\n",
       "75%        8062.500000\n",
       "max      968096.000000\n",
       "Name: freq_sum, dtype: float64"
      ]
     },
     "execution_count": 5,
     "metadata": {},
     "output_type": "execute_result"
    }
   ],
   "source": [
    "data['freq_sum'].describe()"
   ]
  },
  {
   "cell_type": "code",
   "execution_count": 6,
   "metadata": {},
   "outputs": [
    {
     "data": {
      "text/plain": [
       "name           object\n",
       "date            int64\n",
       "freq_sum        int64\n",
       "t               int64\n",
       "exp_imp_sum     int64\n",
       "dtype: object"
      ]
     },
     "execution_count": 6,
     "metadata": {},
     "output_type": "execute_result"
    }
   ],
   "source": [
    "data.dtypes"
   ]
  },
  {
   "cell_type": "code",
   "execution_count": 60,
   "metadata": {},
   "outputs": [],
   "source": [
    "palm = data[data.loc[:,\"name\"] == \"Пальмовое масло\"]\n",
    "strawberries = data[data.loc[:,\"name\"] == \"Клубника\"]\n",
    "silk = data[data.loc[:,\"name\"] == \"Шелк\"]"
   ]
  },
  {
   "cell_type": "code",
   "execution_count": 77,
   "metadata": {},
   "outputs": [
    {
     "data": {
      "image/png": "[encoded data removed]",
      "text/plain": [
       "<Figure size 432x288 with 1 Axes>"
      ]
     },
     "metadata": {},
     "output_type": "display_data"
    }
   ],
   "source": [
    "plt.plot(palm.date, palm.exp_imp_sum, color = \"#0b2247\")\n",
    "plt.xlabel(\"Год\")\n",
    "plt.ylabel(\"Объем рынка пальмового масла\\n(сумма экспорта и импота), млдр. $ США\")\n",
    "plt.title(\"Рынок пальмового масла\")\n",
    "values = [0, 5*10**10, 10*10**10]\n",
    "labels = [0, 5, 10]\n",
    "plt.yticks(values, labels)\n",
    "plt.xticks([1990, 1995, 2000, 2005, 2010, 2015, 2020], [1990, 1995, 2000, 2005, 2010, 2015, 2020])\n",
    "plt.show()"
   ]
  },
  {
   "cell_type": "code",
   "execution_count": 76,
   "metadata": {},
   "outputs": [
    {
     "data": {
      "image/png": "[encoded data removed]",
      "text/plain": [
       "<Figure size 432x288 with 1 Axes>"
      ]
     },
     "metadata": {},
     "output_type": "display_data"
    }
   ],
   "source": [
    "plt.plot(strawberries.date, strawberries.exp_imp_sum, color = \"#0b2247\")\n",
    "plt.xlabel(\"Год\")\n",
    "plt.ylabel(\"Объем рынка клубники \\n (сумма экспорта и импота), млдр. $ США\")\n",
    "plt.title(\"Рынок клубники\")\n",
    "values = [0, 0.4*10**10, 0.8*10**10]\n",
    "labels = [0, 0.4, 0.8]\n",
    "plt.yticks(values, labels)\n",
    "plt.xticks([1990, 1995, 2000, 2005, 2010, 2015, 2020], [1990, 1995, 2000, 2005, 2010, 2015, 2020])\n",
    "plt.show()"
   ]
  },
  {
   "cell_type": "code",
   "execution_count": 75,
   "metadata": {},
   "outputs": [
    {
     "data": {
      "image/png": "[encoded data removed]",
      "text/plain": [
       "<Figure size 432x288 with 1 Axes>"
      ]
     },
     "metadata": {},
     "output_type": "display_data"
    }
   ],
   "source": [
    "plt.plot(silk.date, silk.exp_imp_sum, color = \"#0b2247\")\n",
    "plt.xlabel(\"Год\")\n",
    "plt.ylabel(\"Объем рынка шелка \\n (сумма экспорта и импота), млдр. $ США\")\n",
    "plt.title(\"Рынок шелка\")\n",
    "values = [0, 0.5*10**10, 1*10**10]\n",
    "labels = [0, 0.5, 1]\n",
    "plt.yticks(values, labels)\n",
    "plt.xticks([1990, 1995, 2000, 2005, 2010, 2015, 2020], [1990, 1995, 2000, 2005, 2010, 2015, 2020])\n",
    "plt.show()"
   ]
  },
  {
   "cell_type": "code",
   "execution_count": null,
   "metadata": {},
   "outputs": [],
   "source": []
  },
  {
   "cell_type": "code",
   "execution_count": 7,
   "metadata": {},
   "outputs": [
    {
     "data": {
      "text/html": [
       "<div>\n",
       "<style scoped>\n",
       "    .dataframe tbody tr th:only-of-type {\n",
       "        vertical-align: middle;\n",
       "    }\n",
       "\n",
       "    .dataframe tbody tr th {\n",
       "        vertical-align: top;\n",
       "    }\n",
       "\n",
       "    .dataframe thead th {\n",
       "        text-align: right;\n",
       "    }\n",
       "</style>\n",
       "<table border=\"1\" class=\"dataframe\">\n",
       "  <thead>\n",
       "    <tr style=\"text-align: right;\">\n",
       "      <th></th>\n",
       "      <th>date</th>\n",
       "      <th>freq_sum</th>\n",
       "      <th>t</th>\n",
       "      <th>exp_imp_sum</th>\n",
       "    </tr>\n",
       "  </thead>\n",
       "  <tbody>\n",
       "    <tr>\n",
       "      <th>count</th>\n",
       "      <td>1247.000000</td>\n",
       "      <td>1247.000000</td>\n",
       "      <td>1247.000000</td>\n",
       "      <td>1.247000e+03</td>\n",
       "    </tr>\n",
       "    <tr>\n",
       "      <th>mean</th>\n",
       "      <td>2004.000000</td>\n",
       "      <td>14905.119487</td>\n",
       "      <td>15.000000</td>\n",
       "      <td>4.947228e+10</td>\n",
       "    </tr>\n",
       "    <tr>\n",
       "      <th>std</th>\n",
       "      <td>8.369957</td>\n",
       "      <td>60565.156285</td>\n",
       "      <td>8.369957</td>\n",
       "      <td>2.506710e+11</td>\n",
       "    </tr>\n",
       "    <tr>\n",
       "      <th>min</th>\n",
       "      <td>1990.000000</td>\n",
       "      <td>1.000000</td>\n",
       "      <td>1.000000</td>\n",
       "      <td>8.968629e+07</td>\n",
       "    </tr>\n",
       "    <tr>\n",
       "      <th>25%</th>\n",
       "      <td>1997.000000</td>\n",
       "      <td>519.500000</td>\n",
       "      <td>8.000000</td>\n",
       "      <td>1.808279e+09</td>\n",
       "    </tr>\n",
       "    <tr>\n",
       "      <th>50%</th>\n",
       "      <td>2004.000000</td>\n",
       "      <td>2176.000000</td>\n",
       "      <td>15.000000</td>\n",
       "      <td>6.427610e+09</td>\n",
       "    </tr>\n",
       "    <tr>\n",
       "      <th>75%</th>\n",
       "      <td>2011.000000</td>\n",
       "      <td>8062.500000</td>\n",
       "      <td>22.000000</td>\n",
       "      <td>1.850857e+10</td>\n",
       "    </tr>\n",
       "    <tr>\n",
       "      <th>max</th>\n",
       "      <td>2018.000000</td>\n",
       "      <td>968096.000000</td>\n",
       "      <td>29.000000</td>\n",
       "      <td>3.170000e+12</td>\n",
       "    </tr>\n",
       "  </tbody>\n",
       "</table>\n",
       "</div>"
      ],
      "text/plain": [
       "              date       freq_sum            t   exp_imp_sum\n",
       "count  1247.000000    1247.000000  1247.000000  1.247000e+03\n",
       "mean   2004.000000   14905.119487    15.000000  4.947228e+10\n",
       "std       8.369957   60565.156285     8.369957  2.506710e+11\n",
       "min    1990.000000       1.000000     1.000000  8.968629e+07\n",
       "25%    1997.000000     519.500000     8.000000  1.808279e+09\n",
       "50%    2004.000000    2176.000000    15.000000  6.427610e+09\n",
       "75%    2011.000000    8062.500000    22.000000  1.850857e+10\n",
       "max    2018.000000  968096.000000    29.000000  3.170000e+12"
      ]
     },
     "execution_count": 7,
     "metadata": {},
     "output_type": "execute_result"
    }
   ],
   "source": [
    "data.describe()"
   ]
  },
  {
   "cell_type": "code",
   "execution_count": 58,
   "metadata": {},
   "outputs": [
    {
     "data": {
      "text/html": [
       "<div>\n",
       "<style scoped>\n",
       "    .dataframe tbody tr th:only-of-type {\n",
       "        vertical-align: middle;\n",
       "    }\n",
       "\n",
       "    .dataframe tbody tr th {\n",
       "        vertical-align: top;\n",
       "    }\n",
       "\n",
       "    .dataframe thead th {\n",
       "        text-align: right;\n",
       "    }\n",
       "</style>\n",
       "<table border=\"1\" class=\"dataframe\">\n",
       "  <thead>\n",
       "    <tr style=\"text-align: right;\">\n",
       "      <th></th>\n",
       "      <th>date</th>\n",
       "      <th>freq_sum</th>\n",
       "      <th>t</th>\n",
       "      <th>exp_imp_sum</th>\n",
       "      <th>sum_volume_log10</th>\n",
       "      <th>freq_sum_log10</th>\n",
       "    </tr>\n",
       "  </thead>\n",
       "  <tbody>\n",
       "    <tr>\n",
       "      <th>date</th>\n",
       "      <td>1.000000</td>\n",
       "      <td>0.220260</td>\n",
       "      <td>1.000000</td>\n",
       "      <td>0.131586</td>\n",
       "      <td>0.405324</td>\n",
       "      <td>0.563090</td>\n",
       "    </tr>\n",
       "    <tr>\n",
       "      <th>freq_sum</th>\n",
       "      <td>0.220260</td>\n",
       "      <td>1.000000</td>\n",
       "      <td>0.220260</td>\n",
       "      <td>0.012602</td>\n",
       "      <td>0.090635</td>\n",
       "      <td>0.450107</td>\n",
       "    </tr>\n",
       "    <tr>\n",
       "      <th>t</th>\n",
       "      <td>1.000000</td>\n",
       "      <td>0.220260</td>\n",
       "      <td>1.000000</td>\n",
       "      <td>0.131586</td>\n",
       "      <td>0.405324</td>\n",
       "      <td>0.563090</td>\n",
       "    </tr>\n",
       "    <tr>\n",
       "      <th>exp_imp_sum</th>\n",
       "      <td>0.131586</td>\n",
       "      <td>0.012602</td>\n",
       "      <td>0.131586</td>\n",
       "      <td>1.000000</td>\n",
       "      <td>0.480900</td>\n",
       "      <td>0.121480</td>\n",
       "    </tr>\n",
       "    <tr>\n",
       "      <th>sum_volume_log10</th>\n",
       "      <td>0.405324</td>\n",
       "      <td>0.090635</td>\n",
       "      <td>0.405324</td>\n",
       "      <td>0.480900</td>\n",
       "      <td>1.000000</td>\n",
       "      <td>0.386486</td>\n",
       "    </tr>\n",
       "    <tr>\n",
       "      <th>freq_sum_log10</th>\n",
       "      <td>0.563090</td>\n",
       "      <td>0.450107</td>\n",
       "      <td>0.563090</td>\n",
       "      <td>0.121480</td>\n",
       "      <td>0.386486</td>\n",
       "      <td>1.000000</td>\n",
       "    </tr>\n",
       "  </tbody>\n",
       "</table>\n",
       "</div>"
      ],
      "text/plain": [
       "                      date  freq_sum         t  exp_imp_sum  sum_volume_log10  \\\n",
       "date              1.000000  0.220260  1.000000     0.131586          0.405324   \n",
       "freq_sum          0.220260  1.000000  0.220260     0.012602          0.090635   \n",
       "t                 1.000000  0.220260  1.000000     0.131586          0.405324   \n",
       "exp_imp_sum       0.131586  0.012602  0.131586     1.000000          0.480900   \n",
       "sum_volume_log10  0.405324  0.090635  0.405324     0.480900          1.000000   \n",
       "freq_sum_log10    0.563090  0.450107  0.563090     0.121480          0.386486   \n",
       "\n",
       "                  freq_sum_log10  \n",
       "date                    0.563090  \n",
       "freq_sum                0.450107  \n",
       "t                       0.563090  \n",
       "exp_imp_sum             0.121480  \n",
       "sum_volume_log10        0.386486  \n",
       "freq_sum_log10          1.000000  "
      ]
     },
     "execution_count": 58,
     "metadata": {},
     "output_type": "execute_result"
    }
   ],
   "source": [
    "data.corr()"
   ]
  },
  {
   "cell_type": "code",
   "execution_count": 9,
   "metadata": {},
   "outputs": [],
   "source": [
    "from scipy.stats.stats import pearsonr"
   ]
  },
  {
   "cell_type": "code",
   "execution_count": 10,
   "metadata": {},
   "outputs": [
    {
     "name": "stdout",
     "output_type": "stream",
     "text": [
      "Пальмовое масло : 0.876, стат. значим на уровне дов. вер-ти в 95%\n",
      "Сахар : 0.829, стат. значим на уровне дов. вер-ти в 95%\n",
      "Железная руда : 0.861, стат. значим на уровне дов. вер-ти в 95%\n",
      "Медь : 0.931, стат. значим на уровне дов. вер-ти в 95%\n",
      "Никель : 0.813, стат. значим на уровне дов. вер-ти в 95%\n",
      "Алюминий : 0.919, стат. значим на уровне дов. вер-ти в 95%\n",
      "Свинец : 0.831, стат. значим на уровне дов. вер-ти в 95%\n",
      "Цинк : 0.844, стат. значим на уровне дов. вер-ти в 95%\n",
      "Олово : 0.775, стат. значим на уровне дов. вер-ти в 95%\n",
      "Сырая нефть : 0.587, стат. значим на уровне дов. вер-ти в 95%\n",
      "Серебро : 0.813, стат. значим на уровне дов. вер-ти в 95%\n",
      "Платина : 0.748, стат. значим на уровне дов. вер-ти в 95%\n",
      "Хлористый калий : 0.837, стат. значим на уровне дов. вер-ти в 95%\n",
      "Говядина : 0.941, стат. значим на уровне дов. вер-ти в 95%\n",
      "Свинина : 0.894, стат. значим на уровне дов. вер-ти в 95%\n",
      "Баранина : 0.886, стат. значим на уровне дов. вер-ти в 95%\n",
      "Конина : 0.204, стат. НЕ значим на уровне дов. вер-ти в 95%\n",
      "Ячмень : 0.853, стат. значим на уровне дов. вер-ти в 95%\n",
      "Маис : 0.891, стат. значим на уровне дов. вер-ти в 95%\n",
      "Золото : 0.93, стат. значим на уровне дов. вер-ти в 95%\n",
      "Чай : 0.924, стат. значим на уровне дов. вер-ти в 95%\n",
      "Рожь : 0.326, стат. НЕ значим на уровне дов. вер-ти в 95%\n",
      "Овес : 0.886, стат. значим на уровне дов. вер-ти в 95%\n",
      "Рис : 0.881, стат. значим на уровне дов. вер-ти в 95%\n",
      "Какао : 0.918, стат. значим на уровне дов. вер-ти в 95%\n",
      "Резина : 0.672, стат. значим на уровне дов. вер-ти в 95%\n",
      "Молоко : 0.891, стат. значим на уровне дов. вер-ти в 95%\n",
      "Сыр : 0.89, стат. значим на уровне дов. вер-ти в 95%\n",
      "Яйца : 0.892, стат. значим на уровне дов. вер-ти в 95%\n",
      "Мед : 0.918, стат. значим на уровне дов. вер-ти в 95%\n",
      "Виноград : 0.88, стат. значим на уровне дов. вер-ти в 95%\n",
      "Дыни : 0.919, стат. значим на уровне дов. вер-ти в 95%\n",
      "Яблоки : 0.895, стат. значим на уровне дов. вер-ти в 95%\n",
      "Абрикосы : 0.875, стат. значим на уровне дов. вер-ти в 95%\n",
      "Грецкие орехи : 0.872, стат. значим на уровне дов. вер-ти в 95%\n",
      "Финики : 0.908, стат. значим на уровне дов. вер-ти в 95%\n",
      "Инжир : 0.95, стат. значим на уровне дов. вер-ти в 95%\n",
      "Авокадо : 0.927, стат. значим на уровне дов. вер-ти в 95%\n",
      "Гуава : 0.912, стат. значим на уровне дов. вер-ти в 95%\n",
      "Апельсины : 0.844, стат. значим на уровне дов. вер-ти в 95%\n",
      "Мандарины : 0.719, стат. значим на уровне дов. вер-ти в 95%\n",
      "Клубника : 0.909, стат. значим на уровне дов. вер-ти в 95%\n",
      "Шелк : 0.0251, стат. НЕ значим на уровне дов. вер-ти в 95%\n",
      "\n",
      "0.8161777815166482\n"
     ]
    }
   ],
   "source": [
    "list_ = []\n",
    "results = []\n",
    "for item_name in unique_items:\n",
    "\n",
    "    a = data[data[\"name\"] == item_name].exp_imp_sum\n",
    "    b = data[data[\"name\"] == item_name].freq_sum\n",
    "    list_.append(pearsonr(a, b)[0])\n",
    "    results.append({\"Товар\":item_name, \"Коэффициент Пирсона\":pearsonr(a, b)[0], \"Значимость\":pearsonr(a, b)[1]})\n",
    "    if pearsonr(a, b)[1] < 0.05:\n",
    "        print(f\"{item_name} : {pearsonr(a, b)[0]:.3}, стат. значим на уровне дов. вер-ти в 95%\")\n",
    "    else:\n",
    "        print(f\"{item_name} : {pearsonr(a, b)[0]:.3}, стат. НЕ значим на уровне дов. вер-ти в 95%\")\n",
    "print(\"\")\n",
    "print(np.array(list_).mean())"
   ]
  },
  {
   "cell_type": "code",
   "execution_count": 57,
   "metadata": {},
   "outputs": [],
   "source": [
    "correlations.to_csv(\"corr_comtrade.csv\")"
   ]
  },
  {
   "cell_type": "code",
   "execution_count": 11,
   "metadata": {},
   "outputs": [
    {
     "data": {
      "text/html": [
       "<div>\n",
       "<style scoped>\n",
       "    .dataframe tbody tr th:only-of-type {\n",
       "        vertical-align: middle;\n",
       "    }\n",
       "\n",
       "    .dataframe tbody tr th {\n",
       "        vertical-align: top;\n",
       "    }\n",
       "\n",
       "    .dataframe thead th {\n",
       "        text-align: right;\n",
       "    }\n",
       "</style>\n",
       "<table border=\"1\" class=\"dataframe\">\n",
       "  <thead>\n",
       "    <tr style=\"text-align: right;\">\n",
       "      <th></th>\n",
       "      <th>Товар</th>\n",
       "      <th>Коэффициент Пирсона</th>\n",
       "      <th>Значимость</th>\n",
       "    </tr>\n",
       "  </thead>\n",
       "  <tbody>\n",
       "    <tr>\n",
       "      <th>0</th>\n",
       "      <td>Пальмовое масло</td>\n",
       "      <td>0.876477</td>\n",
       "      <td>4.611030e-10</td>\n",
       "    </tr>\n",
       "    <tr>\n",
       "      <th>1</th>\n",
       "      <td>Сахар</td>\n",
       "      <td>0.828959</td>\n",
       "      <td>2.777974e-08</td>\n",
       "    </tr>\n",
       "    <tr>\n",
       "      <th>2</th>\n",
       "      <td>Железная руда</td>\n",
       "      <td>0.861241</td>\n",
       "      <td>2.017851e-09</td>\n",
       "    </tr>\n",
       "    <tr>\n",
       "      <th>3</th>\n",
       "      <td>Медь</td>\n",
       "      <td>0.930741</td>\n",
       "      <td>2.599133e-13</td>\n",
       "    </tr>\n",
       "    <tr>\n",
       "      <th>4</th>\n",
       "      <td>Никель</td>\n",
       "      <td>0.813353</td>\n",
       "      <td>8.182674e-08</td>\n",
       "    </tr>\n",
       "    <tr>\n",
       "      <th>5</th>\n",
       "      <td>Алюминий</td>\n",
       "      <td>0.918606</td>\n",
       "      <td>2.136513e-12</td>\n",
       "    </tr>\n",
       "    <tr>\n",
       "      <th>6</th>\n",
       "      <td>Свинец</td>\n",
       "      <td>0.830920</td>\n",
       "      <td>2.406965e-08</td>\n",
       "    </tr>\n",
       "    <tr>\n",
       "      <th>7</th>\n",
       "      <td>Цинк</td>\n",
       "      <td>0.844458</td>\n",
       "      <td>8.491871e-09</td>\n",
       "    </tr>\n",
       "    <tr>\n",
       "      <th>8</th>\n",
       "      <td>Олово</td>\n",
       "      <td>0.775119</td>\n",
       "      <td>7.931267e-07</td>\n",
       "    </tr>\n",
       "    <tr>\n",
       "      <th>9</th>\n",
       "      <td>Сырая нефть</td>\n",
       "      <td>0.587100</td>\n",
       "      <td>8.138459e-04</td>\n",
       "    </tr>\n",
       "    <tr>\n",
       "      <th>10</th>\n",
       "      <td>Серебро</td>\n",
       "      <td>0.812626</td>\n",
       "      <td>8.583955e-08</td>\n",
       "    </tr>\n",
       "    <tr>\n",
       "      <th>11</th>\n",
       "      <td>Платина</td>\n",
       "      <td>0.748307</td>\n",
       "      <td>3.048997e-06</td>\n",
       "    </tr>\n",
       "    <tr>\n",
       "      <th>12</th>\n",
       "      <td>Хлористый калий</td>\n",
       "      <td>0.836687</td>\n",
       "      <td>1.562169e-08</td>\n",
       "    </tr>\n",
       "    <tr>\n",
       "      <th>13</th>\n",
       "      <td>Говядина</td>\n",
       "      <td>0.940752</td>\n",
       "      <td>3.353620e-14</td>\n",
       "    </tr>\n",
       "    <tr>\n",
       "      <th>14</th>\n",
       "      <td>Свинина</td>\n",
       "      <td>0.894052</td>\n",
       "      <td>6.467655e-11</td>\n",
       "    </tr>\n",
       "    <tr>\n",
       "      <th>15</th>\n",
       "      <td>Баранина</td>\n",
       "      <td>0.885914</td>\n",
       "      <td>1.671115e-10</td>\n",
       "    </tr>\n",
       "    <tr>\n",
       "      <th>16</th>\n",
       "      <td>Конина</td>\n",
       "      <td>0.204402</td>\n",
       "      <td>2.875095e-01</td>\n",
       "    </tr>\n",
       "    <tr>\n",
       "      <th>17</th>\n",
       "      <td>Ячмень</td>\n",
       "      <td>0.852509</td>\n",
       "      <td>4.356795e-09</td>\n",
       "    </tr>\n",
       "    <tr>\n",
       "      <th>18</th>\n",
       "      <td>Маис</td>\n",
       "      <td>0.890601</td>\n",
       "      <td>9.761510e-11</td>\n",
       "    </tr>\n",
       "    <tr>\n",
       "      <th>19</th>\n",
       "      <td>Золото</td>\n",
       "      <td>0.929622</td>\n",
       "      <td>3.205263e-13</td>\n",
       "    </tr>\n",
       "    <tr>\n",
       "      <th>20</th>\n",
       "      <td>Чай</td>\n",
       "      <td>0.923856</td>\n",
       "      <td>8.963858e-13</td>\n",
       "    </tr>\n",
       "    <tr>\n",
       "      <th>21</th>\n",
       "      <td>Рожь</td>\n",
       "      <td>0.326237</td>\n",
       "      <td>8.413568e-02</td>\n",
       "    </tr>\n",
       "    <tr>\n",
       "      <th>22</th>\n",
       "      <td>Овес</td>\n",
       "      <td>0.886301</td>\n",
       "      <td>1.600029e-10</td>\n",
       "    </tr>\n",
       "    <tr>\n",
       "      <th>23</th>\n",
       "      <td>Рис</td>\n",
       "      <td>0.881290</td>\n",
       "      <td>2.777254e-10</td>\n",
       "    </tr>\n",
       "    <tr>\n",
       "      <th>24</th>\n",
       "      <td>Какао</td>\n",
       "      <td>0.917509</td>\n",
       "      <td>2.542884e-12</td>\n",
       "    </tr>\n",
       "    <tr>\n",
       "      <th>25</th>\n",
       "      <td>Резина</td>\n",
       "      <td>0.671923</td>\n",
       "      <td>6.566235e-05</td>\n",
       "    </tr>\n",
       "    <tr>\n",
       "      <th>26</th>\n",
       "      <td>Молоко</td>\n",
       "      <td>0.891422</td>\n",
       "      <td>8.861736e-11</td>\n",
       "    </tr>\n",
       "    <tr>\n",
       "      <th>27</th>\n",
       "      <td>Сыр</td>\n",
       "      <td>0.890341</td>\n",
       "      <td>1.006351e-10</td>\n",
       "    </tr>\n",
       "    <tr>\n",
       "      <th>28</th>\n",
       "      <td>Яйца</td>\n",
       "      <td>0.891988</td>\n",
       "      <td>8.286287e-11</td>\n",
       "    </tr>\n",
       "    <tr>\n",
       "      <th>29</th>\n",
       "      <td>Мед</td>\n",
       "      <td>0.917769</td>\n",
       "      <td>2.440405e-12</td>\n",
       "    </tr>\n",
       "    <tr>\n",
       "      <th>30</th>\n",
       "      <td>Виноград</td>\n",
       "      <td>0.880272</td>\n",
       "      <td>3.097437e-10</td>\n",
       "    </tr>\n",
       "    <tr>\n",
       "      <th>31</th>\n",
       "      <td>Дыни</td>\n",
       "      <td>0.918784</td>\n",
       "      <td>2.076528e-12</td>\n",
       "    </tr>\n",
       "    <tr>\n",
       "      <th>32</th>\n",
       "      <td>Яблоки</td>\n",
       "      <td>0.894961</td>\n",
       "      <td>5.789533e-11</td>\n",
       "    </tr>\n",
       "    <tr>\n",
       "      <th>33</th>\n",
       "      <td>Абрикосы</td>\n",
       "      <td>0.874965</td>\n",
       "      <td>5.384191e-10</td>\n",
       "    </tr>\n",
       "    <tr>\n",
       "      <th>34</th>\n",
       "      <td>Грецкие орехи</td>\n",
       "      <td>0.872028</td>\n",
       "      <td>7.234010e-10</td>\n",
       "    </tr>\n",
       "    <tr>\n",
       "      <th>35</th>\n",
       "      <td>Финики</td>\n",
       "      <td>0.907523</td>\n",
       "      <td>1.119571e-11</td>\n",
       "    </tr>\n",
       "    <tr>\n",
       "      <th>36</th>\n",
       "      <td>Инжир</td>\n",
       "      <td>0.949681</td>\n",
       "      <td>3.898749e-15</td>\n",
       "    </tr>\n",
       "    <tr>\n",
       "      <th>37</th>\n",
       "      <td>Авокадо</td>\n",
       "      <td>0.927234</td>\n",
       "      <td>4.957762e-13</td>\n",
       "    </tr>\n",
       "    <tr>\n",
       "      <th>38</th>\n",
       "      <td>Гуава</td>\n",
       "      <td>0.911606</td>\n",
       "      <td>6.237457e-12</td>\n",
       "    </tr>\n",
       "    <tr>\n",
       "      <th>39</th>\n",
       "      <td>Апельсины</td>\n",
       "      <td>0.844386</td>\n",
       "      <td>8.541047e-09</td>\n",
       "    </tr>\n",
       "    <tr>\n",
       "      <th>40</th>\n",
       "      <td>Мандарины</td>\n",
       "      <td>0.718680</td>\n",
       "      <td>1.127050e-05</td>\n",
       "    </tr>\n",
       "    <tr>\n",
       "      <th>41</th>\n",
       "      <td>Клубника</td>\n",
       "      <td>0.909317</td>\n",
       "      <td>8.687742e-12</td>\n",
       "    </tr>\n",
       "    <tr>\n",
       "      <th>42</th>\n",
       "      <td>Шелк</td>\n",
       "      <td>0.025129</td>\n",
       "      <td>8.970463e-01</td>\n",
       "    </tr>\n",
       "  </tbody>\n",
       "</table>\n",
       "</div>"
      ],
      "text/plain": [
       "              Товар  Коэффициент Пирсона    Значимость\n",
       "0   Пальмовое масло             0.876477  4.611030e-10\n",
       "1             Сахар             0.828959  2.777974e-08\n",
       "2     Железная руда             0.861241  2.017851e-09\n",
       "3              Медь             0.930741  2.599133e-13\n",
       "4            Никель             0.813353  8.182674e-08\n",
       "5          Алюминий             0.918606  2.136513e-12\n",
       "6            Свинец             0.830920  2.406965e-08\n",
       "7              Цинк             0.844458  8.491871e-09\n",
       "8             Олово             0.775119  7.931267e-07\n",
       "9       Сырая нефть             0.587100  8.138459e-04\n",
       "10          Серебро             0.812626  8.583955e-08\n",
       "11          Платина             0.748307  3.048997e-06\n",
       "12  Хлористый калий             0.836687  1.562169e-08\n",
       "13         Говядина             0.940752  3.353620e-14\n",
       "14          Свинина             0.894052  6.467655e-11\n",
       "15         Баранина             0.885914  1.671115e-10\n",
       "16           Конина             0.204402  2.875095e-01\n",
       "17           Ячмень             0.852509  4.356795e-09\n",
       "18             Маис             0.890601  9.761510e-11\n",
       "19           Золото             0.929622  3.205263e-13\n",
       "20              Чай             0.923856  8.963858e-13\n",
       "21             Рожь             0.326237  8.413568e-02\n",
       "22             Овес             0.886301  1.600029e-10\n",
       "23              Рис             0.881290  2.777254e-10\n",
       "24            Какао             0.917509  2.542884e-12\n",
       "25           Резина             0.671923  6.566235e-05\n",
       "26           Молоко             0.891422  8.861736e-11\n",
       "27              Сыр             0.890341  1.006351e-10\n",
       "28             Яйца             0.891988  8.286287e-11\n",
       "29              Мед             0.917769  2.440405e-12\n",
       "30         Виноград             0.880272  3.097437e-10\n",
       "31             Дыни             0.918784  2.076528e-12\n",
       "32           Яблоки             0.894961  5.789533e-11\n",
       "33         Абрикосы             0.874965  5.384191e-10\n",
       "34    Грецкие орехи             0.872028  7.234010e-10\n",
       "35           Финики             0.907523  1.119571e-11\n",
       "36            Инжир             0.949681  3.898749e-15\n",
       "37          Авокадо             0.927234  4.957762e-13\n",
       "38            Гуава             0.911606  6.237457e-12\n",
       "39        Апельсины             0.844386  8.541047e-09\n",
       "40        Мандарины             0.718680  1.127050e-05\n",
       "41         Клубника             0.909317  8.687742e-12\n",
       "42             Шелк             0.025129  8.970463e-01"
      ]
     },
     "execution_count": 11,
     "metadata": {},
     "output_type": "execute_result"
    }
   ],
   "source": [
    "correlations = pd.DataFrame(results)[['Товар', 'Коэффициент Пирсона', 'Значимость']]\n",
    "correlations"
   ]
  },
  {
   "cell_type": "code",
   "execution_count": 35,
   "metadata": {},
   "outputs": [
    {
     "data": {
      "image/png": "[encoded data removed]",
      "text/plain": [
       "<Figure size 432x288 with 1 Axes>"
      ]
     },
     "metadata": {},
     "output_type": "display_data"
    }
   ],
   "source": [
    "plt.locator_params(nbins=4)\n",
    "seaborn.distplot(data.exp_imp_sum).ticklabel_format(axis = 'x',style = \"plain\")\n",
    "name = \"Частотное распределение для суммарного объема\\nэкспорта и импорта\"\n",
    "plt.title(name)\n",
    "plt.xlabel(\"Суммарный объем экспорта и импорта, $ США\")\n",
    "plt.ylabel(\"\")\n",
    "plt.savefig(name)\n",
    "plt.show()"
   ]
  },
  {
   "cell_type": "code",
   "execution_count": 36,
   "metadata": {},
   "outputs": [
    {
     "data": {
      "image/png": "[encoded data removed]",
      "text/plain": [
       "<Figure size 432x288 with 1 Axes>"
      ]
     },
     "metadata": {},
     "output_type": "display_data"
    }
   ],
   "source": [
    "plt.locator_params(nbins=5)\n",
    "plot = seaborn.distplot(data.freq_sum).ticklabel_format(axis = 'x',style = \"plain\")\n",
    "name = \"Частотное распределение для встречаемости термина\"\n",
    "plt.title(name)\n",
    "plt.xlabel(\"Частота встречаемости\")\n",
    "plt.ylabel(\"\")\n",
    "# plt.show()\n",
    "plt.savefig(name)"
   ]
  },
  {
   "cell_type": "code",
   "execution_count": 37,
   "metadata": {},
   "outputs": [],
   "source": [
    "data['sum_volume_log10'] = np.log10(data['exp_imp_sum'])\n",
    "data['freq_sum_log10'] = np.log10(data['freq_sum'])"
   ]
  },
  {
   "cell_type": "code",
   "execution_count": 40,
   "metadata": {},
   "outputs": [
    {
     "data": {
      "text/plain": [
       "Text(0.5, 1.0, 'Частотное распределение для суммарного объема\\nэкспорта и импорта после логарифмирования')"
      ]
     },
     "execution_count": 40,
     "metadata": {},
     "output_type": "execute_result"
    },
    {
     "data": {
      "image/png": "[encoded data removed]",
      "text/plain": [
       "<Figure size 432x288 with 1 Axes>"
      ]
     },
     "metadata": {},
     "output_type": "display_data"
    }
   ],
   "source": [
    "seaborn.distplot(data.sum_volume_log10).ticklabel_format(axis = 'x',style = \"plain\")\n",
    "plt.xlabel(\"Суммарный объем экспорта и импорта, log10 $ США\")\n",
    "plt.ylabel(\"\")\n",
    "name = \"Частотное распределение для суммарного объема\\nэкспорта и импорта после логарифмирования\"\n",
    "plt.title(name)"
   ]
  },
  {
   "cell_type": "code",
   "execution_count": 43,
   "metadata": {},
   "outputs": [
    {
     "data": {
      "image/png": "[encoded data removed]",
      "text/plain": [
       "<Figure size 432x288 with 1 Axes>"
      ]
     },
     "metadata": {},
     "output_type": "display_data"
    }
   ],
   "source": [
    "seaborn.distplot(data.freq_sum_log10).ticklabel_format(axis = 'x',style = \"plain\")\n",
    "name = \"Частотное распределение для встречаемости термина\\nпосле логарифмирования\"\n",
    "plt.title(name)\n",
    "plt.xlabel(\"Частота встречаемости, log10\")\n",
    "plt.ylabel(\"\")\n",
    "plt.show()"
   ]
  },
  {
   "cell_type": "markdown",
   "metadata": {},
   "source": [
    "# Linear regression"
   ]
  },
  {
   "cell_type": "code",
   "execution_count": 17,
   "metadata": {},
   "outputs": [],
   "source": [
    "import sklearn\n",
    "from sklearn.preprocessing import StandardScaler\n",
    "scaler = StandardScaler()"
   ]
  },
  {
   "cell_type": "code",
   "execution_count": 18,
   "metadata": {},
   "outputs": [],
   "source": [
    "from sklearn.linear_model import LinearRegression\n",
    "import statsmodels.api as sm\n",
    "from sklearn.metrics import r2_score"
   ]
  },
  {
   "cell_type": "code",
   "execution_count": 19,
   "metadata": {},
   "outputs": [
    {
     "name": "stdout",
     "output_type": "stream",
     "text": [
      "                            OLS Regression Results                            \n",
      "==============================================================================\n",
      "Dep. Variable:       sum_volume_log10   R-squared:                       0.939\n",
      "Model:                            OLS   Adj. R-squared:                  0.939\n",
      "Method:                 Least Squares   F-statistic:                 1.931e+04\n",
      "Date:                Mon, 30 Dec 2019   Prob (F-statistic):               0.00\n",
      "Time:                        02:44:36   Log-Likelihood:                -2870.7\n",
      "No. Observations:                1247   AIC:                             5743.\n",
      "Df Residuals:                    1246   BIC:                             5749.\n",
      "Df Model:                           1                                         \n",
      "Covariance Type:            nonrobust                                         \n",
      "==================================================================================\n",
      "                     coef    std err          t      P>|t|      [0.025      0.975]\n",
      "----------------------------------------------------------------------------------\n",
      "freq_sum_log10     2.7788      0.020    138.974      0.000       2.740       2.818\n",
      "==============================================================================\n",
      "Omnibus:                       21.009   Durbin-Watson:                   0.116\n",
      "Prob(Omnibus):                  0.000   Jarque-Bera (JB):               29.920\n",
      "Skew:                           0.176   Prob(JB):                     3.18e-07\n",
      "Kurtosis:                       3.672   Cond. No.                         1.00\n",
      "==============================================================================\n",
      "\n",
      "Warnings:\n",
      "[1] Standard Errors assume that the covariance matrix of the errors is correctly specified.\n"
     ]
    }
   ],
   "source": [
    "mod = sm.OLS(data.sum_volume_log10, data.freq_sum_log10)\n",
    "res = mod.fit()\n",
    "print(res.summary())"
   ]
  },
  {
   "cell_type": "code",
   "execution_count": 20,
   "metadata": {},
   "outputs": [
    {
     "data": {
      "text/plain": [
       "0.1493712767887715"
      ]
     },
     "execution_count": 20,
     "metadata": {},
     "output_type": "execute_result"
    }
   ],
   "source": [
    "linear_regressor = LinearRegression(fit_intercept = True)\n",
    "fitt = linear_regressor.fit(data[['freq_sum_log10']], data[['sum_volume_log10']])\n",
    "Y_pred = linear_regressor.predict(data[['freq_sum_log10']])\n",
    "linear_regressor.score(data[['freq_sum_log10']], data[['sum_volume_log10']])"
   ]
  },
  {
   "cell_type": "code",
   "execution_count": 50,
   "metadata": {},
   "outputs": [
    {
     "data": {
      "text/plain": [
       "3170000000000"
      ]
     },
     "execution_count": 50,
     "metadata": {},
     "output_type": "execute_result"
    }
   ],
   "source": [
    "data.exp_imp_sum.max()"
   ]
  },
  {
   "cell_type": "code",
   "execution_count": 55,
   "metadata": {},
   "outputs": [
    {
     "data": {
      "image/png": "[encoded data removed]",
      "text/plain": [
       "<Figure size 432x288 with 1 Axes>"
      ]
     },
     "metadata": {},
     "output_type": "display_data"
    }
   ],
   "source": [
    "plt.scatter(data.freq_sum, data.exp_imp_sum, color = \"#0b2247\")\n",
    "plt.xlabel(\"Частота встречаемости\")\n",
    "plt.ylabel(\"Суммарный объем экспорта\\nи импорта, тыс. млдр. $ США\")\n",
    "plt.title(\"Соотношение суммы экспорта и импорта\\nи частоты встречаемости\")\n",
    "values = [0, 1*10**12, 2*10**12, 3*10**12, 4*10**12]\n",
    "labels = [0, 10, 20, 30, 40]\n",
    "plt.yticks(values, labels)\n",
    "plt.show()"
   ]
  },
  {
   "cell_type": "code",
   "execution_count": 56,
   "metadata": {},
   "outputs": [
    {
     "data": {
      "image/png": "[encoded data removed]",
      "text/plain": [
       "<Figure size 432x288 with 1 Axes>"
      ]
     },
     "metadata": {},
     "output_type": "display_data"
    }
   ],
   "source": [
    "plt.scatter(data[['freq_sum_log10']], data[['sum_volume_log10']], color = \"#0b2247\")\n",
    "plt.xlabel(\"Частота встречаемости, log10\")\n",
    "plt.ylabel(\"Суммарный объем экспорта\\nи импорта,log10 $ США\")\n",
    "plt.title(\"Соотношение суммы экспорта и импорта\\nи частоты встречаемости\")\n",
    "plt.show()"
   ]
  },
  {
   "cell_type": "code",
   "execution_count": null,
   "metadata": {},
   "outputs": [],
   "source": []
  },
  {
   "cell_type": "code",
   "execution_count": 23,
   "metadata": {},
   "outputs": [],
   "source": [
    "logged_data = data[['name', 'sum_volume_log10', 'freq_sum_log10', 't']]"
   ]
  },
  {
   "cell_type": "code",
   "execution_count": 24,
   "metadata": {},
   "outputs": [
    {
     "data": {
      "text/html": [
       "<div>\n",
       "<style scoped>\n",
       "    .dataframe tbody tr th:only-of-type {\n",
       "        vertical-align: middle;\n",
       "    }\n",
       "\n",
       "    .dataframe tbody tr th {\n",
       "        vertical-align: top;\n",
       "    }\n",
       "\n",
       "    .dataframe thead th {\n",
       "        text-align: right;\n",
       "    }\n",
       "</style>\n",
       "<table border=\"1\" class=\"dataframe\">\n",
       "  <thead>\n",
       "    <tr style=\"text-align: right;\">\n",
       "      <th></th>\n",
       "      <th>sum_volume_log10</th>\n",
       "      <th>freq_sum_log10</th>\n",
       "      <th>t</th>\n",
       "    </tr>\n",
       "  </thead>\n",
       "  <tbody>\n",
       "    <tr>\n",
       "      <th>sum_volume_log10</th>\n",
       "      <td>1.000000</td>\n",
       "      <td>0.386486</td>\n",
       "      <td>0.405324</td>\n",
       "    </tr>\n",
       "    <tr>\n",
       "      <th>freq_sum_log10</th>\n",
       "      <td>0.386486</td>\n",
       "      <td>1.000000</td>\n",
       "      <td>0.563090</td>\n",
       "    </tr>\n",
       "    <tr>\n",
       "      <th>t</th>\n",
       "      <td>0.405324</td>\n",
       "      <td>0.563090</td>\n",
       "      <td>1.000000</td>\n",
       "    </tr>\n",
       "  </tbody>\n",
       "</table>\n",
       "</div>"
      ],
      "text/plain": [
       "                  sum_volume_log10  freq_sum_log10         t\n",
       "sum_volume_log10          1.000000        0.386486  0.405324\n",
       "freq_sum_log10            0.386486        1.000000  0.563090\n",
       "t                         0.405324        0.563090  1.000000"
      ]
     },
     "execution_count": 24,
     "metadata": {},
     "output_type": "execute_result"
    }
   ],
   "source": [
    "logged_data.corr()"
   ]
  },
  {
   "cell_type": "code",
   "execution_count": 25,
   "metadata": {},
   "outputs": [],
   "source": [
    "X_log = logged_data[['freq_sum_log10']]\n",
    "Y_log = logged_data['sum_volume_log10']"
   ]
  },
  {
   "cell_type": "code",
   "execution_count": 26,
   "metadata": {},
   "outputs": [
    {
     "name": "stdout",
     "output_type": "stream",
     "text": [
      "                            OLS Regression Results                            \n",
      "==============================================================================\n",
      "Dep. Variable:       sum_volume_log10   R-squared:                       0.939\n",
      "Model:                            OLS   Adj. R-squared:                  0.939\n",
      "Method:                 Least Squares   F-statistic:                 1.931e+04\n",
      "Date:                Mon, 30 Dec 2019   Prob (F-statistic):               0.00\n",
      "Time:                        02:44:37   Log-Likelihood:                -2870.7\n",
      "No. Observations:                1247   AIC:                             5743.\n",
      "Df Residuals:                    1246   BIC:                             5749.\n",
      "Df Model:                           1                                         \n",
      "Covariance Type:            nonrobust                                         \n",
      "==================================================================================\n",
      "                     coef    std err          t      P>|t|      [0.025      0.975]\n",
      "----------------------------------------------------------------------------------\n",
      "freq_sum_log10     2.7788      0.020    138.974      0.000       2.740       2.818\n",
      "==============================================================================\n",
      "Omnibus:                       21.009   Durbin-Watson:                   0.116\n",
      "Prob(Omnibus):                  0.000   Jarque-Bera (JB):               29.920\n",
      "Skew:                           0.176   Prob(JB):                     3.18e-07\n",
      "Kurtosis:                       3.672   Cond. No.                         1.00\n",
      "==============================================================================\n",
      "\n",
      "Warnings:\n",
      "[1] Standard Errors assume that the covariance matrix of the errors is correctly specified.\n"
     ]
    }
   ],
   "source": [
    "mod = sm.OLS(Y_log, X_log)\n",
    "res = mod.fit()\n",
    "print(res.summary())"
   ]
  },
  {
   "cell_type": "code",
   "execution_count": 27,
   "metadata": {},
   "outputs": [
    {
     "data": {
      "text/plain": [
       "0.7856485263331301"
      ]
     },
     "execution_count": 27,
     "metadata": {},
     "output_type": "execute_result"
    }
   ],
   "source": [
    "model__ = RandomForestRegressor(n_estimators=200, random_state=12)\n",
    "model__.fit(X_log, ravel(Y_log))\n",
    "prediction_1 = model__.predict(X_log)\n",
    "r2_score(Y_log, prediction_1)"
   ]
  },
  {
   "cell_type": "code",
   "execution_count": 28,
   "metadata": {},
   "outputs": [
    {
     "data": {
      "text/plain": [
       "0.1492909828126292"
      ]
     },
     "execution_count": 28,
     "metadata": {},
     "output_type": "execute_result"
    }
   ],
   "source": [
    "model__ = SVR(kernel='linear')\n",
    "model__.fit(X_log, ravel(Y_log))\n",
    "prediction_1 = model__.predict(X_log)\n",
    "r2_score(Y_log, prediction_1)"
   ]
  },
  {
   "cell_type": "code",
   "execution_count": null,
   "metadata": {},
   "outputs": [],
   "source": []
  },
  {
   "cell_type": "code",
   "execution_count": 29,
   "metadata": {},
   "outputs": [
    {
     "name": "stdout",
     "output_type": "stream",
     "text": [
      "Для Пальмовое масло скор составляет 0.39\n",
      "Для Сахар скор составляет 0.68\n",
      "Для Железная руда скор составляет 0.111\n",
      "Для Медь скор составляет 0.767\n",
      "Для Никель скор составляет 0.656\n",
      "Для Алюминий скор составляет 0.116\n",
      "Для Свинец скор составляет 0.992\n",
      "Для Цинк скор составляет 0.804\n",
      "Для Олово скор составляет -3.59\n",
      "Для Сырая нефть скор составляет -1.34\n",
      "Для Серебро скор составляет 0.966\n",
      "Для Платина скор составляет 0.578\n",
      "Для Хлористый калий скор составляет 0.517\n",
      "Для Говядина скор составляет 0.683\n",
      "Для Свинина скор составляет 0.201\n",
      "Для Баранина скор составляет 0.749\n",
      "Для Конина скор составляет -3.14\n",
      "Для Ячмень скор составляет 0.452\n",
      "Для Маис скор составляет -0.167\n",
      "Для Золото скор составляет 0.569\n",
      "Для Чай скор составляет 0.606\n",
      "Для Рожь скор составляет -4.15\n",
      "Для Овес скор составляет -0.143\n",
      "Для Рис скор составляет 0.937\n",
      "Для Какао скор составляет 0.661\n",
      "Для Резина скор составляет 0.759\n",
      "Для Молоко скор составляет 0.853\n",
      "Для Сыр скор составляет 0.727\n",
      "Для Яйца скор составляет 0.485\n",
      "Для Мед скор составляет -0.178\n",
      "Для Виноград скор составляет 0.594\n",
      "Для Дыни скор составляет 0.638\n",
      "Для Яблоки скор составляет 0.445\n",
      "Для Абрикосы скор составляет 0.93\n",
      "Для Грецкие орехи скор составляет 0.209\n",
      "Для Финики скор составляет -0.659\n",
      "Для Инжир скор составляет -0.823\n",
      "Для Авокадо скор составляет 0.803\n",
      "Для Гуава скор составляет 0.643\n",
      "Для Апельсины скор составляет 0.436\n",
      "Для Мандарины скор составляет 0.67\n",
      "Для Клубника скор составляет 0.0936\n",
      "Для Шелк скор составляет -5.76\n",
      "Средний скор для данных составляет -0.005473733348032733\n"
     ]
    }
   ],
   "source": [
    "model__ = RandomForestRegressor(n_estimators=250, random_state=12)\n",
    "train = logged_data.copy(deep=True)\n",
    "# X_train, y_train = train.loc[:, [\"freq_sum_log10\", \"t\"]], train.loc[:, [\"sum_volume_log10\"]]\n",
    "# model__.fit(X_train, y_train)\n",
    "\n",
    "score_list = []\n",
    "\n",
    "table_names = []\n",
    "actuals = []\n",
    "model_predicts = []\n",
    "\n",
    "\n",
    "for item in unique_items:\n",
    "    test = logged_data[logged_data.loc[:, \"name\"] == item]\n",
    "    X_test, y_test = test.loc[:, [\"freq_sum_log10\", \"t\"]], pd.DataFrame(test.loc[:, [\"sum_volume_log10\"]])\n",
    "    preds = []\n",
    "    for item_ in unique_items:      \n",
    "        train_ = logged_data[logged_data.loc[:, \"name\"] != item_]\n",
    "        X_train, y_train = train_.loc[:, [\"freq_sum_log10\", \"t\"]], pd.DataFrame(train_.loc[:, [\"sum_volume_log10\"]])\n",
    "        model__.fit(X_train, ravel(y_train)) #fit on train set, that contains all the obs except for item_\n",
    "        preds.append(model__.predict(X_test))\n",
    "        \n",
    "    matrix__ = np.array(preds).transpose()\n",
    "    df_pred = pd.DataFrame(matrix__)\n",
    "    df_pred[\"prediction\"] = df_pred.mean(axis = 1)\n",
    "    y_test_unlogged = np.power(y_test, 10)\n",
    "    y_pred_unlogged = np.power(df_pred[\"prediction\"], 10)\n",
    "    actuals.append(list(y_test_unlogged.sum_volume_log10))\n",
    "    model_predicts.append(list(y_pred_unlogged))\n",
    "#     result_out2 = r2_score(y_test, df_pred[\"prediction\"])\n",
    "    result_out2 = r2_score(y_test_unlogged, y_pred_unlogged)\n",
    "    score_list.append(result_out2)\n",
    "    print(\"Для {} скор составляет {:.3}\".format(item, result_out2))\n",
    "print(\"Средний скор для данных составляет {}\".format(np.mean(score_list)))"
   ]
  },
  {
   "cell_type": "code",
   "execution_count": 30,
   "metadata": {},
   "outputs": [],
   "source": [
    "actuals_new = []\n",
    "for i in range(len(actuals)):\n",
    "    actuals_new.append(actuals[i][-1])"
   ]
  },
  {
   "cell_type": "code",
   "execution_count": 31,
   "metadata": {},
   "outputs": [],
   "source": [
    "model_predicts_new = []\n",
    "for i in range(len(model_predicts)):\n",
    "    model_predicts_new.append(model_predicts[i][-1])"
   ]
  },
  {
   "cell_type": "code",
   "execution_count": 32,
   "metadata": {},
   "outputs": [
    {
     "data": {
      "text/plain": [
       "0.7059785492182193"
      ]
     },
     "execution_count": 32,
     "metadata": {},
     "output_type": "execute_result"
    }
   ],
   "source": [
    "R2 = r2_score(actuals_new, model_predicts_new)\n",
    "R2"
   ]
  },
  {
   "cell_type": "code",
   "execution_count": 33,
   "metadata": {},
   "outputs": [
    {
     "ename": "SyntaxError",
     "evalue": "invalid syntax (<ipython-input-33-9099894dc4af>, line 1)",
     "output_type": "error",
     "traceback": [
      "\u001b[0;36m  File \u001b[0;32m\"<ipython-input-33-9099894dc4af>\"\u001b[0;36m, line \u001b[0;32m1\u001b[0m\n\u001b[0;31m    RFR _ MSE = mean_squared_error(actuals_new, model_predicts_new)\u001b[0m\n\u001b[0m        ^\u001b[0m\n\u001b[0;31mSyntaxError\u001b[0m\u001b[0;31m:\u001b[0m invalid syntax\n"
     ]
    }
   ],
   "source": [
    "RFR _ MSE = mean_squared_error(actuals_new, model_predicts_new)"
   ]
  },
  {
   "cell_type": "code",
   "execution_count": null,
   "metadata": {},
   "outputs": [],
   "source": [
    "import matplotlib.pyplot as plt\n",
    "import matplotlib.patches as mpatches\n",
    "a = list(range(43))\n",
    "\n",
    "plt.figure(figsize=(12, 8))\n",
    "plot1, = plt.plot(actuals_new, color = \"#0b2247\")\n",
    "plot2, = plt.plot(model_predicts_new, color = \"#8c0432\") #520821\n",
    "plt.xticks(a, unique_items, rotation='vertical')\n",
    "values = [0, 2*10**10, 4*10**10, 6*10**10, 8*10**10]\n",
    "labels = [0, 20, 40, 60, 80]\n",
    "plt.yticks(values, labels)\n",
    "# plt.xlabel(\"Товар\")\n",
    "plt.ylabel(\"Реальный и предсказанный объемы рынка\\n(сумма экспорта и импорта), млрд. $ США\")\n",
    "plt.legend([plot1, plot2], [\"Реальные значения\", f\"Предсказанные значения \\n R2 = {R2:.3}\"])\n",
    "ax = plt.gca()\n",
    "plt.show()"
   ]
  },
  {
   "cell_type": "code",
   "execution_count": null,
   "metadata": {},
   "outputs": [],
   "source": []
  },
  {
   "cell_type": "code",
   "execution_count": null,
   "metadata": {},
   "outputs": [],
   "source": [
    "seaborn.lineplot(a, actuals_new, color= \"r\").ticklabel_format(axis = 'y',style = \"plain\")"
   ]
  },
  {
   "cell_type": "code",
   "execution_count": null,
   "metadata": {},
   "outputs": [],
   "source": []
  }
 ],
 "metadata": {
  "kernelspec": {
   "display_name": "Python 3",
   "language": "python",
   "name": "python3"
  },
  "language_info": {
   "codemirror_mode": {
    "name": "ipython",
    "version": 3
   },
   "file_extension": ".py",
   "mimetype": "text/x-python",
   "name": "python",
   "nbconvert_exporter": "python",
   "pygments_lexer": "ipython3",
   "version": "3.6.8"
  }
 },
 "nbformat": 4,
 "nbformat_minor": 2
}
