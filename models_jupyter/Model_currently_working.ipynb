{
 "cells": [
  {
   "cell_type": "code",
   "execution_count": 3,
   "metadata": {},
   "outputs": [],
   "source": [
    "import pandas as pd\n",
    "import numpy as np\n",
    "from numpy import ravel\n",
    "from numpy import unique\n",
    "from numpy import transpose\n",
    "from matplotlib import pyplot as plt\n",
    "from sklearn.metrics import r2_score"
   ]
  },
  {
   "cell_type": "code",
   "execution_count": 4,
   "metadata": {},
   "outputs": [],
   "source": [
    "url = \"https://docs.google.com/spreadsheets/d/e/2PACX-1vQ5JE66pQB1KJItYr2QUVldTeOGDUfgWwV8u5VdmGkkm6fjZgwCU0-owOzBFakl_aYfsF2aL6xNxRwc/pub?gid=161992597&single=true&output=csv\"\n",
    "colmns = [\"name\", \"date\", \"freq_sum\", \"market\", \"t\"]\n",
    "\n",
    "data = pd.read_csv(url, usecols = colmns)\n",
    "unique_items = data.loc[:, \"name\"].unique()\n",
    "data['freq_sum_log10'] = np.log10(data['freq_sum'])\n",
    "data['market_log10'] = np.log10(data['market'])\n",
    "#data_ = data[(data.loc[:, \"name\"] != 'Серебро') & (data.loc[:, \"name\"] != 'Сырая нефть')]\n",
    "data_ = data.copy(deep = True)"
   ]
  },
  {
   "cell_type": "markdown",
   "metadata": {},
   "source": [
    "На всех данных (без исключения коммодов)"
   ]
  },
  {
   "cell_type": "code",
   "execution_count": 3,
   "metadata": {},
   "outputs": [
    {
     "data": {
      "text/plain": [
       "0.015817716624768385"
      ]
     },
     "execution_count": 3,
     "metadata": {},
     "output_type": "execute_result"
    },
    {
     "data": {
      "image/png": "[encoded data removed]",
      "text/plain": [
       "<Figure size 432x288 with 1 Axes>"
      ]
     },
     "metadata": {
      "needs_background": "light"
     },
     "output_type": "display_data"
    }
   ],
   "source": [
    "from sklearn.isotonic import IsotonicRegression\n",
    "\n",
    "iso_model = IsotonicRegression(out_of_bounds='clip')\n",
    "data2017 = np.array(\n",
    "    data_[data_['t'] == 20]\n",
    "        .loc[:, ['freq_sum_log10', 'market_log10']]\n",
    "        .sort_values(by='freq_sum_log10'))\n",
    "X_2017 = data2017[:, 0]\n",
    "y_2017 = data2017[:, 1]\n",
    "iso_model.fit(X_2017, y_2017)\n",
    "plt.plot(X_2017, iso_model.predict(X_2017))\n",
    "plt.scatter(X_2017, y_2017)\n",
    "r2_score(y_2017, iso_model.predict(X_2017))"
   ]
  },
  {
   "cell_type": "markdown",
   "metadata": {},
   "source": [
    "На данных с `На данных с iloc[9:,]`"
   ]
  },
  {
   "cell_type": "code",
   "execution_count": 4,
   "metadata": {},
   "outputs": [
    {
     "data": {
      "text/plain": [
       "0.04568299750814475"
      ]
     },
     "execution_count": 4,
     "metadata": {},
     "output_type": "execute_result"
    },
    {
     "data": {
      "image/png": "[encoded data removed]",
      "text/plain": [
       "<Figure size 432x288 with 1 Axes>"
      ]
     },
     "metadata": {
      "needs_background": "light"
     },
     "output_type": "display_data"
    }
   ],
   "source": [
    "from sklearn.isotonic import IsotonicRegression\n",
    "\n",
    "iso_model = IsotonicRegression(out_of_bounds='clip')\n",
    "data2017 = np.array(data_[data_['t'] == 20].\n",
    "                    loc[:, ['freq_sum_log10', 'market_log10']].\n",
    "                    sort_values(by='freq_sum_log10').\n",
    "                    iloc[9:,])\n",
    "X_2017 = data2017[:, 0]\n",
    "y_2017 = data2017[:, 1]\n",
    "iso_model.fit(X_2017, y_2017)\n",
    "plt.plot(X_2017, iso_model.predict(X_2017))\n",
    "plt.scatter(X_2017, y_2017)\n",
    "r2_score(y_2017, iso_model.predict(X_2017))"
   ]
  },
  {
   "cell_type": "markdown",
   "metadata": {},
   "source": [
    "На данных с отбором"
   ]
  },
  {
   "cell_type": "code",
   "execution_count": 5,
   "metadata": {},
   "outputs": [],
   "source": [
    "data_2 = data[(data.loc[:, \"name\"] != 'Серебро') & (data.loc[:, \"name\"] != 'Сырая нефть')]"
   ]
  },
  {
   "cell_type": "code",
   "execution_count": 6,
   "metadata": {},
   "outputs": [
    {
     "data": {
      "text/html": [
       "<div>\n",
       "<style scoped>\n",
       "    .dataframe tbody tr th:only-of-type {\n",
       "        vertical-align: middle;\n",
       "    }\n",
       "\n",
       "    .dataframe tbody tr th {\n",
       "        vertical-align: top;\n",
       "    }\n",
       "\n",
       "    .dataframe thead th {\n",
       "        text-align: right;\n",
       "    }\n",
       "</style>\n",
       "<table border=\"1\" class=\"dataframe\">\n",
       "  <thead>\n",
       "    <tr style=\"text-align: right;\">\n",
       "      <th></th>\n",
       "      <th>name</th>\n",
       "      <th>date</th>\n",
       "      <th>t</th>\n",
       "      <th>freq_sum</th>\n",
       "      <th>market</th>\n",
       "      <th>freq_sum_log10</th>\n",
       "      <th>market_log10</th>\n",
       "    </tr>\n",
       "  </thead>\n",
       "  <tbody>\n",
       "    <tr>\n",
       "      <th>64</th>\n",
       "      <td>Арахисовое масло</td>\n",
       "      <td>2002</td>\n",
       "      <td>5</td>\n",
       "      <td>2</td>\n",
       "      <td>8015933565</td>\n",
       "      <td>0.301030</td>\n",
       "      <td>9.903954</td>\n",
       "    </tr>\n",
       "    <tr>\n",
       "      <th>62</th>\n",
       "      <td>Арахисовое масло</td>\n",
       "      <td>2000</td>\n",
       "      <td>3</td>\n",
       "      <td>2</td>\n",
       "      <td>7388859185</td>\n",
       "      <td>0.301030</td>\n",
       "      <td>9.868577</td>\n",
       "    </tr>\n",
       "    <tr>\n",
       "      <th>63</th>\n",
       "      <td>Арахисовое масло</td>\n",
       "      <td>2001</td>\n",
       "      <td>4</td>\n",
       "      <td>4</td>\n",
       "      <td>8469893835</td>\n",
       "      <td>0.602060</td>\n",
       "      <td>9.927878</td>\n",
       "    </tr>\n",
       "    <tr>\n",
       "      <th>20</th>\n",
       "      <td>Кокосовое масло</td>\n",
       "      <td>1998</td>\n",
       "      <td>1</td>\n",
       "      <td>5</td>\n",
       "      <td>3091766871</td>\n",
       "      <td>0.698970</td>\n",
       "      <td>9.490207</td>\n",
       "    </tr>\n",
       "    <tr>\n",
       "      <th>69</th>\n",
       "      <td>Арахисовое масло</td>\n",
       "      <td>2007</td>\n",
       "      <td>10</td>\n",
       "      <td>6</td>\n",
       "      <td>12037908567</td>\n",
       "      <td>0.778151</td>\n",
       "      <td>10.080551</td>\n",
       "    </tr>\n",
       "    <tr>\n",
       "      <th>60</th>\n",
       "      <td>Арахисовое масло</td>\n",
       "      <td>1998</td>\n",
       "      <td>1</td>\n",
       "      <td>6</td>\n",
       "      <td>8675010644</td>\n",
       "      <td>0.778151</td>\n",
       "      <td>9.938270</td>\n",
       "    </tr>\n",
       "    <tr>\n",
       "      <th>61</th>\n",
       "      <td>Арахисовое масло</td>\n",
       "      <td>1999</td>\n",
       "      <td>2</td>\n",
       "      <td>6</td>\n",
       "      <td>7352635712</td>\n",
       "      <td>0.778151</td>\n",
       "      <td>9.866443</td>\n",
       "    </tr>\n",
       "    <tr>\n",
       "      <th>23</th>\n",
       "      <td>Кокосовое масло</td>\n",
       "      <td>2001</td>\n",
       "      <td>4</td>\n",
       "      <td>7</td>\n",
       "      <td>1712177612</td>\n",
       "      <td>0.845098</td>\n",
       "      <td>9.233549</td>\n",
       "    </tr>\n",
       "    <tr>\n",
       "      <th>67</th>\n",
       "      <td>Арахисовое масло</td>\n",
       "      <td>2005</td>\n",
       "      <td>8</td>\n",
       "      <td>8</td>\n",
       "      <td>11282124688</td>\n",
       "      <td>0.903090</td>\n",
       "      <td>10.052391</td>\n",
       "    </tr>\n",
       "    <tr>\n",
       "      <th>24</th>\n",
       "      <td>Кокосовое масло</td>\n",
       "      <td>2002</td>\n",
       "      <td>5</td>\n",
       "      <td>9</td>\n",
       "      <td>1962368755</td>\n",
       "      <td>0.954243</td>\n",
       "      <td>9.292781</td>\n",
       "    </tr>\n",
       "    <tr>\n",
       "      <th>72</th>\n",
       "      <td>Арахисовое масло</td>\n",
       "      <td>2010</td>\n",
       "      <td>13</td>\n",
       "      <td>10</td>\n",
       "      <td>11835742974</td>\n",
       "      <td>1.000000</td>\n",
       "      <td>10.073196</td>\n",
       "    </tr>\n",
       "    <tr>\n",
       "      <th>45</th>\n",
       "      <td>Арахис</td>\n",
       "      <td>2003</td>\n",
       "      <td>6</td>\n",
       "      <td>12</td>\n",
       "      <td>68661109969</td>\n",
       "      <td>1.079181</td>\n",
       "      <td>10.836711</td>\n",
       "    </tr>\n",
       "    <tr>\n",
       "      <th>68</th>\n",
       "      <td>Арахисовое масло</td>\n",
       "      <td>2006</td>\n",
       "      <td>9</td>\n",
       "      <td>12</td>\n",
       "      <td>8592475235</td>\n",
       "      <td>1.079181</td>\n",
       "      <td>9.934118</td>\n",
       "    </tr>\n",
       "    <tr>\n",
       "      <th>22</th>\n",
       "      <td>Кокосовое масло</td>\n",
       "      <td>2000</td>\n",
       "      <td>3</td>\n",
       "      <td>13</td>\n",
       "      <td>2110103228</td>\n",
       "      <td>1.113943</td>\n",
       "      <td>9.324304</td>\n",
       "    </tr>\n",
       "    <tr>\n",
       "      <th>71</th>\n",
       "      <td>Арахисовое масло</td>\n",
       "      <td>2009</td>\n",
       "      <td>12</td>\n",
       "      <td>13</td>\n",
       "      <td>10458901965</td>\n",
       "      <td>1.113943</td>\n",
       "      <td>10.019486</td>\n",
       "    </tr>\n",
       "    <tr>\n",
       "      <th>65</th>\n",
       "      <td>Арахисовое масло</td>\n",
       "      <td>2003</td>\n",
       "      <td>6</td>\n",
       "      <td>15</td>\n",
       "      <td>13320489040</td>\n",
       "      <td>1.176091</td>\n",
       "      <td>10.124520</td>\n",
       "    </tr>\n",
       "    <tr>\n",
       "      <th>0</th>\n",
       "      <td>Какао</td>\n",
       "      <td>1998</td>\n",
       "      <td>1</td>\n",
       "      <td>16</td>\n",
       "      <td>6737791560</td>\n",
       "      <td>1.204120</td>\n",
       "      <td>9.828518</td>\n",
       "    </tr>\n",
       "    <tr>\n",
       "      <th>41</th>\n",
       "      <td>Арахис</td>\n",
       "      <td>1999</td>\n",
       "      <td>2</td>\n",
       "      <td>16</td>\n",
       "      <td>52724617953</td>\n",
       "      <td>1.204120</td>\n",
       "      <td>10.722013</td>\n",
       "    </tr>\n",
       "    <tr>\n",
       "      <th>66</th>\n",
       "      <td>Арахисовое масло</td>\n",
       "      <td>2004</td>\n",
       "      <td>7</td>\n",
       "      <td>17</td>\n",
       "      <td>12423691059</td>\n",
       "      <td>1.230449</td>\n",
       "      <td>10.094251</td>\n",
       "    </tr>\n",
       "    <tr>\n",
       "      <th>73</th>\n",
       "      <td>Арахисовое масло</td>\n",
       "      <td>2011</td>\n",
       "      <td>14</td>\n",
       "      <td>20</td>\n",
       "      <td>13815375267</td>\n",
       "      <td>1.301030</td>\n",
       "      <td>10.140363</td>\n",
       "    </tr>\n",
       "    <tr>\n",
       "      <th>21</th>\n",
       "      <td>Кокосовое масло</td>\n",
       "      <td>1999</td>\n",
       "      <td>2</td>\n",
       "      <td>20</td>\n",
       "      <td>2758724610</td>\n",
       "      <td>1.301030</td>\n",
       "      <td>9.440708</td>\n",
       "    </tr>\n",
       "    <tr>\n",
       "      <th>76</th>\n",
       "      <td>Арахисовое масло</td>\n",
       "      <td>2014</td>\n",
       "      <td>17</td>\n",
       "      <td>24</td>\n",
       "      <td>9821351567</td>\n",
       "      <td>1.380211</td>\n",
       "      <td>9.992171</td>\n",
       "    </tr>\n",
       "    <tr>\n",
       "      <th>70</th>\n",
       "      <td>Арахисовое масло</td>\n",
       "      <td>2008</td>\n",
       "      <td>11</td>\n",
       "      <td>25</td>\n",
       "      <td>16413091574</td>\n",
       "      <td>1.397940</td>\n",
       "      <td>10.215190</td>\n",
       "    </tr>\n",
       "    <tr>\n",
       "      <th>74</th>\n",
       "      <td>Арахисовое масло</td>\n",
       "      <td>2012</td>\n",
       "      <td>15</td>\n",
       "      <td>25</td>\n",
       "      <td>17300249229</td>\n",
       "      <td>1.397940</td>\n",
       "      <td>10.238052</td>\n",
       "    </tr>\n",
       "    <tr>\n",
       "      <th>26</th>\n",
       "      <td>Кокосовое масло</td>\n",
       "      <td>2004</td>\n",
       "      <td>7</td>\n",
       "      <td>25</td>\n",
       "      <td>3040236845</td>\n",
       "      <td>1.397940</td>\n",
       "      <td>9.482907</td>\n",
       "    </tr>\n",
       "    <tr>\n",
       "      <th>44</th>\n",
       "      <td>Арахис</td>\n",
       "      <td>2002</td>\n",
       "      <td>5</td>\n",
       "      <td>27</td>\n",
       "      <td>50388617106</td>\n",
       "      <td>1.431364</td>\n",
       "      <td>10.702332</td>\n",
       "    </tr>\n",
       "    <tr>\n",
       "      <th>84</th>\n",
       "      <td>Пальмовое масло</td>\n",
       "      <td>2002</td>\n",
       "      <td>5</td>\n",
       "      <td>27</td>\n",
       "      <td>4278235781</td>\n",
       "      <td>1.431364</td>\n",
       "      <td>9.631265</td>\n",
       "    </tr>\n",
       "    <tr>\n",
       "      <th>43</th>\n",
       "      <td>Арахис</td>\n",
       "      <td>2001</td>\n",
       "      <td>4</td>\n",
       "      <td>27</td>\n",
       "      <td>62719498284</td>\n",
       "      <td>1.431364</td>\n",
       "      <td>10.797403</td>\n",
       "    </tr>\n",
       "    <tr>\n",
       "      <th>120</th>\n",
       "      <td>Соевое масло</td>\n",
       "      <td>1998</td>\n",
       "      <td>1</td>\n",
       "      <td>28</td>\n",
       "      <td>22339032771</td>\n",
       "      <td>1.447158</td>\n",
       "      <td>10.349064</td>\n",
       "    </tr>\n",
       "    <tr>\n",
       "      <th>42</th>\n",
       "      <td>Арахис</td>\n",
       "      <td>2000</td>\n",
       "      <td>3</td>\n",
       "      <td>29</td>\n",
       "      <td>59478588181</td>\n",
       "      <td>1.462398</td>\n",
       "      <td>10.774361</td>\n",
       "    </tr>\n",
       "    <tr>\n",
       "      <th>...</th>\n",
       "      <td>...</td>\n",
       "      <td>...</td>\n",
       "      <td>...</td>\n",
       "      <td>...</td>\n",
       "      <td>...</td>\n",
       "      <td>...</td>\n",
       "      <td>...</td>\n",
       "    </tr>\n",
       "    <tr>\n",
       "      <th>217</th>\n",
       "      <td>Апельсин</td>\n",
       "      <td>2015</td>\n",
       "      <td>18</td>\n",
       "      <td>38110</td>\n",
       "      <td>55701785250</td>\n",
       "      <td>4.581039</td>\n",
       "      <td>10.745869</td>\n",
       "    </tr>\n",
       "    <tr>\n",
       "      <th>302</th>\n",
       "      <td>Свинец</td>\n",
       "      <td>2000</td>\n",
       "      <td>3</td>\n",
       "      <td>41417</td>\n",
       "      <td>3754350600</td>\n",
       "      <td>4.617179</td>\n",
       "      <td>9.574535</td>\n",
       "    </tr>\n",
       "    <tr>\n",
       "      <th>391</th>\n",
       "      <td>Золото</td>\n",
       "      <td>2009</td>\n",
       "      <td>12</td>\n",
       "      <td>42580</td>\n",
       "      <td>80747720852</td>\n",
       "      <td>4.629206</td>\n",
       "      <td>10.907130</td>\n",
       "    </tr>\n",
       "    <tr>\n",
       "      <th>390</th>\n",
       "      <td>Золото</td>\n",
       "      <td>2008</td>\n",
       "      <td>11</td>\n",
       "      <td>43678</td>\n",
       "      <td>62137992257</td>\n",
       "      <td>4.640263</td>\n",
       "      <td>10.793357</td>\n",
       "    </tr>\n",
       "    <tr>\n",
       "      <th>303</th>\n",
       "      <td>Свинец</td>\n",
       "      <td>2001</td>\n",
       "      <td>4</td>\n",
       "      <td>44809</td>\n",
       "      <td>4023046000</td>\n",
       "      <td>4.651365</td>\n",
       "      <td>9.604555</td>\n",
       "    </tr>\n",
       "    <tr>\n",
       "      <th>301</th>\n",
       "      <td>Свинец</td>\n",
       "      <td>1999</td>\n",
       "      <td>2</td>\n",
       "      <td>46574</td>\n",
       "      <td>3847982200</td>\n",
       "      <td>4.668144</td>\n",
       "      <td>9.585233</td>\n",
       "    </tr>\n",
       "    <tr>\n",
       "      <th>392</th>\n",
       "      <td>Золото</td>\n",
       "      <td>2010</td>\n",
       "      <td>13</td>\n",
       "      <td>53857</td>\n",
       "      <td>101977821519</td>\n",
       "      <td>4.731242</td>\n",
       "      <td>11.008506</td>\n",
       "    </tr>\n",
       "    <tr>\n",
       "      <th>304</th>\n",
       "      <td>Свинец</td>\n",
       "      <td>2002</td>\n",
       "      <td>5</td>\n",
       "      <td>56032</td>\n",
       "      <td>3822050700</td>\n",
       "      <td>4.748436</td>\n",
       "      <td>9.582296</td>\n",
       "    </tr>\n",
       "    <tr>\n",
       "      <th>393</th>\n",
       "      <td>Золото</td>\n",
       "      <td>2011</td>\n",
       "      <td>14</td>\n",
       "      <td>58521</td>\n",
       "      <td>119496712228</td>\n",
       "      <td>4.767312</td>\n",
       "      <td>11.077356</td>\n",
       "    </tr>\n",
       "    <tr>\n",
       "      <th>305</th>\n",
       "      <td>Свинец</td>\n",
       "      <td>2003</td>\n",
       "      <td>6</td>\n",
       "      <td>67167</td>\n",
       "      <td>4521691200</td>\n",
       "      <td>4.827156</td>\n",
       "      <td>9.655301</td>\n",
       "    </tr>\n",
       "    <tr>\n",
       "      <th>395</th>\n",
       "      <td>Золото</td>\n",
       "      <td>2013</td>\n",
       "      <td>16</td>\n",
       "      <td>76482</td>\n",
       "      <td>121153556757</td>\n",
       "      <td>4.883559</td>\n",
       "      <td>11.083336</td>\n",
       "    </tr>\n",
       "    <tr>\n",
       "      <th>399</th>\n",
       "      <td>Золото</td>\n",
       "      <td>2017</td>\n",
       "      <td>20</td>\n",
       "      <td>78139</td>\n",
       "      <td>125527995466</td>\n",
       "      <td>4.892868</td>\n",
       "      <td>11.098741</td>\n",
       "    </tr>\n",
       "    <tr>\n",
       "      <th>394</th>\n",
       "      <td>Золото</td>\n",
       "      <td>2012</td>\n",
       "      <td>15</td>\n",
       "      <td>81185</td>\n",
       "      <td>133913372249</td>\n",
       "      <td>4.909476</td>\n",
       "      <td>11.126824</td>\n",
       "    </tr>\n",
       "    <tr>\n",
       "      <th>306</th>\n",
       "      <td>Свинец</td>\n",
       "      <td>2004</td>\n",
       "      <td>7</td>\n",
       "      <td>83980</td>\n",
       "      <td>7371676900</td>\n",
       "      <td>4.924176</td>\n",
       "      <td>9.867566</td>\n",
       "    </tr>\n",
       "    <tr>\n",
       "      <th>396</th>\n",
       "      <td>Золото</td>\n",
       "      <td>2014</td>\n",
       "      <td>17</td>\n",
       "      <td>93516</td>\n",
       "      <td>113895616608</td>\n",
       "      <td>4.970886</td>\n",
       "      <td>11.056507</td>\n",
       "    </tr>\n",
       "    <tr>\n",
       "      <th>307</th>\n",
       "      <td>Свинец</td>\n",
       "      <td>2005</td>\n",
       "      <td>8</td>\n",
       "      <td>98382</td>\n",
       "      <td>8505230000</td>\n",
       "      <td>4.992916</td>\n",
       "      <td>9.929686</td>\n",
       "    </tr>\n",
       "    <tr>\n",
       "      <th>397</th>\n",
       "      <td>Золото</td>\n",
       "      <td>2015</td>\n",
       "      <td>18</td>\n",
       "      <td>103436</td>\n",
       "      <td>117818989035</td>\n",
       "      <td>5.014672</td>\n",
       "      <td>11.071215</td>\n",
       "    </tr>\n",
       "    <tr>\n",
       "      <th>398</th>\n",
       "      <td>Золото</td>\n",
       "      <td>2016</td>\n",
       "      <td>19</td>\n",
       "      <td>115039</td>\n",
       "      <td>133237001898</td>\n",
       "      <td>5.060845</td>\n",
       "      <td>11.124625</td>\n",
       "    </tr>\n",
       "    <tr>\n",
       "      <th>308</th>\n",
       "      <td>Свинец</td>\n",
       "      <td>2006</td>\n",
       "      <td>9</td>\n",
       "      <td>118667</td>\n",
       "      <td>11315838000</td>\n",
       "      <td>5.074330</td>\n",
       "      <td>10.053687</td>\n",
       "    </tr>\n",
       "    <tr>\n",
       "      <th>309</th>\n",
       "      <td>Свинец</td>\n",
       "      <td>2007</td>\n",
       "      <td>10</td>\n",
       "      <td>138793</td>\n",
       "      <td>22493536000</td>\n",
       "      <td>5.142368</td>\n",
       "      <td>10.352058</td>\n",
       "    </tr>\n",
       "    <tr>\n",
       "      <th>310</th>\n",
       "      <td>Свинец</td>\n",
       "      <td>2008</td>\n",
       "      <td>11</td>\n",
       "      <td>216851</td>\n",
       "      <td>17870509500</td>\n",
       "      <td>5.336161</td>\n",
       "      <td>10.252137</td>\n",
       "    </tr>\n",
       "    <tr>\n",
       "      <th>311</th>\n",
       "      <td>Свинец</td>\n",
       "      <td>2009</td>\n",
       "      <td>12</td>\n",
       "      <td>217608</td>\n",
       "      <td>15916117600</td>\n",
       "      <td>5.337675</td>\n",
       "      <td>10.201837</td>\n",
       "    </tr>\n",
       "    <tr>\n",
       "      <th>312</th>\n",
       "      <td>Свинец</td>\n",
       "      <td>2010</td>\n",
       "      <td>13</td>\n",
       "      <td>242448</td>\n",
       "      <td>20646604500</td>\n",
       "      <td>5.384619</td>\n",
       "      <td>10.314849</td>\n",
       "    </tr>\n",
       "    <tr>\n",
       "      <th>313</th>\n",
       "      <td>Свинец</td>\n",
       "      <td>2011</td>\n",
       "      <td>14</td>\n",
       "      <td>307582</td>\n",
       "      <td>22054032000</td>\n",
       "      <td>5.487961</td>\n",
       "      <td>10.343488</td>\n",
       "    </tr>\n",
       "    <tr>\n",
       "      <th>314</th>\n",
       "      <td>Свинец</td>\n",
       "      <td>2012</td>\n",
       "      <td>15</td>\n",
       "      <td>368046</td>\n",
       "      <td>19479824000</td>\n",
       "      <td>5.565902</td>\n",
       "      <td>10.289585</td>\n",
       "    </tr>\n",
       "    <tr>\n",
       "      <th>315</th>\n",
       "      <td>Свинец</td>\n",
       "      <td>2013</td>\n",
       "      <td>16</td>\n",
       "      <td>387381</td>\n",
       "      <td>20862325000</td>\n",
       "      <td>5.588138</td>\n",
       "      <td>10.319363</td>\n",
       "    </tr>\n",
       "    <tr>\n",
       "      <th>319</th>\n",
       "      <td>Свинец</td>\n",
       "      <td>2017</td>\n",
       "      <td>20</td>\n",
       "      <td>592565</td>\n",
       "      <td>19378702500</td>\n",
       "      <td>5.772736</td>\n",
       "      <td>10.287325</td>\n",
       "    </tr>\n",
       "    <tr>\n",
       "      <th>316</th>\n",
       "      <td>Свинец</td>\n",
       "      <td>2014</td>\n",
       "      <td>17</td>\n",
       "      <td>627674</td>\n",
       "      <td>20519586000</td>\n",
       "      <td>5.797734</td>\n",
       "      <td>10.312169</td>\n",
       "    </tr>\n",
       "    <tr>\n",
       "      <th>317</th>\n",
       "      <td>Свинец</td>\n",
       "      <td>2015</td>\n",
       "      <td>18</td>\n",
       "      <td>836991</td>\n",
       "      <td>18998408000</td>\n",
       "      <td>5.922721</td>\n",
       "      <td>10.278717</td>\n",
       "    </tr>\n",
       "    <tr>\n",
       "      <th>318</th>\n",
       "      <td>Свинец</td>\n",
       "      <td>2016</td>\n",
       "      <td>19</td>\n",
       "      <td>854040</td>\n",
       "      <td>19758997000</td>\n",
       "      <td>5.931478</td>\n",
       "      <td>10.295765</td>\n",
       "    </tr>\n",
       "  </tbody>\n",
       "</table>\n",
       "<p>420 rows × 7 columns</p>\n",
       "</div>"
      ],
      "text/plain": [
       "                 name  date   t  freq_sum        market  freq_sum_log10  \\\n",
       "64   Арахисовое масло  2002   5         2    8015933565        0.301030   \n",
       "62   Арахисовое масло  2000   3         2    7388859185        0.301030   \n",
       "63   Арахисовое масло  2001   4         4    8469893835        0.602060   \n",
       "20    Кокосовое масло  1998   1         5    3091766871        0.698970   \n",
       "69   Арахисовое масло  2007  10         6   12037908567        0.778151   \n",
       "60   Арахисовое масло  1998   1         6    8675010644        0.778151   \n",
       "61   Арахисовое масло  1999   2         6    7352635712        0.778151   \n",
       "23    Кокосовое масло  2001   4         7    1712177612        0.845098   \n",
       "67   Арахисовое масло  2005   8         8   11282124688        0.903090   \n",
       "24    Кокосовое масло  2002   5         9    1962368755        0.954243   \n",
       "72   Арахисовое масло  2010  13        10   11835742974        1.000000   \n",
       "45             Арахис  2003   6        12   68661109969        1.079181   \n",
       "68   Арахисовое масло  2006   9        12    8592475235        1.079181   \n",
       "22    Кокосовое масло  2000   3        13    2110103228        1.113943   \n",
       "71   Арахисовое масло  2009  12        13   10458901965        1.113943   \n",
       "65   Арахисовое масло  2003   6        15   13320489040        1.176091   \n",
       "0               Какао  1998   1        16    6737791560        1.204120   \n",
       "41             Арахис  1999   2        16   52724617953        1.204120   \n",
       "66   Арахисовое масло  2004   7        17   12423691059        1.230449   \n",
       "73   Арахисовое масло  2011  14        20   13815375267        1.301030   \n",
       "21    Кокосовое масло  1999   2        20    2758724610        1.301030   \n",
       "76   Арахисовое масло  2014  17        24    9821351567        1.380211   \n",
       "70   Арахисовое масло  2008  11        25   16413091574        1.397940   \n",
       "74   Арахисовое масло  2012  15        25   17300249229        1.397940   \n",
       "26    Кокосовое масло  2004   7        25    3040236845        1.397940   \n",
       "44             Арахис  2002   5        27   50388617106        1.431364   \n",
       "84    Пальмовое масло  2002   5        27    4278235781        1.431364   \n",
       "43             Арахис  2001   4        27   62719498284        1.431364   \n",
       "120      Соевое масло  1998   1        28   22339032771        1.447158   \n",
       "42             Арахис  2000   3        29   59478588181        1.462398   \n",
       "..                ...   ...  ..       ...           ...             ...   \n",
       "217          Апельсин  2015  18     38110   55701785250        4.581039   \n",
       "302            Свинец  2000   3     41417    3754350600        4.617179   \n",
       "391            Золото  2009  12     42580   80747720852        4.629206   \n",
       "390            Золото  2008  11     43678   62137992257        4.640263   \n",
       "303            Свинец  2001   4     44809    4023046000        4.651365   \n",
       "301            Свинец  1999   2     46574    3847982200        4.668144   \n",
       "392            Золото  2010  13     53857  101977821519        4.731242   \n",
       "304            Свинец  2002   5     56032    3822050700        4.748436   \n",
       "393            Золото  2011  14     58521  119496712228        4.767312   \n",
       "305            Свинец  2003   6     67167    4521691200        4.827156   \n",
       "395            Золото  2013  16     76482  121153556757        4.883559   \n",
       "399            Золото  2017  20     78139  125527995466        4.892868   \n",
       "394            Золото  2012  15     81185  133913372249        4.909476   \n",
       "306            Свинец  2004   7     83980    7371676900        4.924176   \n",
       "396            Золото  2014  17     93516  113895616608        4.970886   \n",
       "307            Свинец  2005   8     98382    8505230000        4.992916   \n",
       "397            Золото  2015  18    103436  117818989035        5.014672   \n",
       "398            Золото  2016  19    115039  133237001898        5.060845   \n",
       "308            Свинец  2006   9    118667   11315838000        5.074330   \n",
       "309            Свинец  2007  10    138793   22493536000        5.142368   \n",
       "310            Свинец  2008  11    216851   17870509500        5.336161   \n",
       "311            Свинец  2009  12    217608   15916117600        5.337675   \n",
       "312            Свинец  2010  13    242448   20646604500        5.384619   \n",
       "313            Свинец  2011  14    307582   22054032000        5.487961   \n",
       "314            Свинец  2012  15    368046   19479824000        5.565902   \n",
       "315            Свинец  2013  16    387381   20862325000        5.588138   \n",
       "319            Свинец  2017  20    592565   19378702500        5.772736   \n",
       "316            Свинец  2014  17    627674   20519586000        5.797734   \n",
       "317            Свинец  2015  18    836991   18998408000        5.922721   \n",
       "318            Свинец  2016  19    854040   19758997000        5.931478   \n",
       "\n",
       "     market_log10  \n",
       "64       9.903954  \n",
       "62       9.868577  \n",
       "63       9.927878  \n",
       "20       9.490207  \n",
       "69      10.080551  \n",
       "60       9.938270  \n",
       "61       9.866443  \n",
       "23       9.233549  \n",
       "67      10.052391  \n",
       "24       9.292781  \n",
       "72      10.073196  \n",
       "45      10.836711  \n",
       "68       9.934118  \n",
       "22       9.324304  \n",
       "71      10.019486  \n",
       "65      10.124520  \n",
       "0        9.828518  \n",
       "41      10.722013  \n",
       "66      10.094251  \n",
       "73      10.140363  \n",
       "21       9.440708  \n",
       "76       9.992171  \n",
       "70      10.215190  \n",
       "74      10.238052  \n",
       "26       9.482907  \n",
       "44      10.702332  \n",
       "84       9.631265  \n",
       "43      10.797403  \n",
       "120     10.349064  \n",
       "42      10.774361  \n",
       "..            ...  \n",
       "217     10.745869  \n",
       "302      9.574535  \n",
       "391     10.907130  \n",
       "390     10.793357  \n",
       "303      9.604555  \n",
       "301      9.585233  \n",
       "392     11.008506  \n",
       "304      9.582296  \n",
       "393     11.077356  \n",
       "305      9.655301  \n",
       "395     11.083336  \n",
       "399     11.098741  \n",
       "394     11.126824  \n",
       "306      9.867566  \n",
       "396     11.056507  \n",
       "307      9.929686  \n",
       "397     11.071215  \n",
       "398     11.124625  \n",
       "308     10.053687  \n",
       "309     10.352058  \n",
       "310     10.252137  \n",
       "311     10.201837  \n",
       "312     10.314849  \n",
       "313     10.343488  \n",
       "314     10.289585  \n",
       "315     10.319363  \n",
       "319     10.287325  \n",
       "316     10.312169  \n",
       "317     10.278717  \n",
       "318     10.295765  \n",
       "\n",
       "[420 rows x 7 columns]"
      ]
     },
     "execution_count": 6,
     "metadata": {},
     "output_type": "execute_result"
    }
   ],
   "source": [
    "data_2.sort_values(by='freq_sum_log10')"
   ]
  },
  {
   "cell_type": "markdown",
   "metadata": {},
   "source": [
    "Скор выше, но сами значения, которые может дать модель, большие"
   ]
  },
  {
   "cell_type": "code",
   "execution_count": 7,
   "metadata": {},
   "outputs": [
    {
     "data": {
      "text/plain": [
       "0.27851011470888887"
      ]
     },
     "execution_count": 7,
     "metadata": {},
     "output_type": "execute_result"
    },
    {
     "data": {
      "image/png": "[encoded data removed]",
      "text/plain": [
       "<Figure size 432x288 with 1 Axes>"
      ]
     },
     "metadata": {
      "needs_background": "light"
     },
     "output_type": "display_data"
    }
   ],
   "source": [
    "from sklearn.isotonic import IsotonicRegression\n",
    "\n",
    "iso_model = IsotonicRegression(out_of_bounds='clip')\n",
    "data2017 = np.array(\n",
    "    data_2[data_2['t'] == 20]\n",
    "        .loc[:, ['freq_sum_log10', 'market_log10']]\n",
    "        .sort_values(by='freq_sum_log10'))\n",
    "X_2017 = data2017[:, 0]\n",
    "y_2017 = data2017[:, 1]\n",
    "iso_model.fit(X_2017, y_2017)\n",
    "plt.plot(X_2017, iso_model.predict(X_2017))\n",
    "plt.scatter(X_2017, y_2017)\n",
    "r2_score(y_2017, iso_model.predict(X_2017))"
   ]
  },
  {
   "cell_type": "code",
   "execution_count": null,
   "metadata": {},
   "outputs": [],
   "source": []
  },
  {
   "cell_type": "code",
   "execution_count": null,
   "metadata": {},
   "outputs": [],
   "source": []
  },
  {
   "cell_type": "markdown",
   "metadata": {},
   "source": [
    "Linear regression"
   ]
  },
  {
   "cell_type": "code",
   "execution_count": 8,
   "metadata": {},
   "outputs": [],
   "source": [
    "from sklearn.linear_model import LinearRegression\n",
    "import statsmodels.api as sm\n",
    "from sklearn.metrics import r2_score"
   ]
  },
  {
   "cell_type": "markdown",
   "metadata": {},
   "source": [
    "Вывод statsmodels позволяет сказать, насколько хорошо модель описывает данные. Предиктор статистически значим"
   ]
  },
  {
   "cell_type": "code",
   "execution_count": 9,
   "metadata": {},
   "outputs": [
    {
     "name": "stdout",
     "output_type": "stream",
     "text": [
      "                            OLS Regression Results                            \n",
      "==============================================================================\n",
      "Dep. Variable:                      y   R-squared:                       0.947\n",
      "Model:                            OLS   Adj. R-squared:                  0.944\n",
      "Method:                 Least Squares   F-statistic:                     358.0\n",
      "Date:                Wed, 26 Feb 2020   Prob (F-statistic):           3.11e-14\n",
      "Time:                        19:56:35   Log-Likelihood:                -48.542\n",
      "No. Observations:                  21   AIC:                             99.08\n",
      "Df Residuals:                      20   BIC:                             100.1\n",
      "Df Model:                           1                                         \n",
      "Covariance Type:            nonrobust                                         \n",
      "==============================================================================\n",
      "                 coef    std err          t      P>|t|      [0.025      0.975]\n",
      "------------------------------------------------------------------------------\n",
      "x1             2.7262      0.144     18.920      0.000       2.426       3.027\n",
      "==============================================================================\n",
      "Omnibus:                        2.023   Durbin-Watson:                   0.211\n",
      "Prob(Omnibus):                  0.364   Jarque-Bera (JB):                0.619\n",
      "Skew:                          -0.018   Prob(JB):                        0.734\n",
      "Kurtosis:                       3.840   Cond. No.                         1.00\n",
      "==============================================================================\n",
      "\n",
      "Warnings:\n",
      "[1] Standard Errors assume that the covariance matrix of the errors is correctly specified.\n"
     ]
    }
   ],
   "source": [
    "mod = sm.OLS(y_2017, X_2017)\n",
    "res = mod.fit()\n",
    "print(res.summary())"
   ]
  },
  {
   "cell_type": "code",
   "execution_count": 10,
   "metadata": {},
   "outputs": [
    {
     "data": {
      "text/plain": [
       "array([[ 1.50514998, 10.00986872],\n",
       "       [ 2.33845649, 11.03433244],\n",
       "       [ 2.78103694, 10.73882974],\n",
       "       [ 2.9740509 , 10.03624233],\n",
       "       [ 3.01452054, 10.39966208],\n",
       "       [ 3.12645611, 10.0475246 ],\n",
       "       [ 3.26339933, 11.38752053],\n",
       "       [ 3.27230584, 10.12935398],\n",
       "       [ 3.38524868, 10.2179288 ],\n",
       "       [ 3.7394141 ,  9.74393226],\n",
       "       [ 3.83689352, 10.4365653 ],\n",
       "       [ 3.9164013 , 10.37328298],\n",
       "       [ 3.96142109, 11.21231117],\n",
       "       [ 3.99799764, 11.09253962],\n",
       "       [ 4.0147305 ,  9.79501249],\n",
       "       [ 4.28996779, 11.0826026 ],\n",
       "       [ 4.38194495, 10.83288613],\n",
       "       [ 4.39539629, 11.51846265],\n",
       "       [ 4.40659127, 11.12368799],\n",
       "       [ 4.89286785, 11.09874059],\n",
       "       [ 5.772736  , 10.2873247 ]])"
      ]
     },
     "execution_count": 10,
     "metadata": {},
     "output_type": "execute_result"
    }
   ],
   "source": [
    "data2017"
   ]
  },
  {
   "cell_type": "code",
   "execution_count": null,
   "metadata": {},
   "outputs": [],
   "source": []
  },
  {
   "cell_type": "code",
   "execution_count": 11,
   "metadata": {},
   "outputs": [
    {
     "data": {
      "text/plain": [
       "0.07388739798210853"
      ]
     },
     "execution_count": 11,
     "metadata": {},
     "output_type": "execute_result"
    }
   ],
   "source": [
    "linear_regressor = LinearRegression(fit_intercept = True)\n",
    "fitt = linear_regressor.fit(X_2017.reshape(-1, 1), y_2017)\n",
    "Y_pred = linear_regressor.predict(X_2017.reshape(-1, 1))\n",
    "r2_score(y_2017.reshape(-1, 1), Y_pred)"
   ]
  },
  {
   "cell_type": "code",
   "execution_count": 12,
   "metadata": {},
   "outputs": [
    {
     "data": {
      "text/plain": [
       "<matplotlib.collections.PathCollection at 0x7fe96eea1e80>"
      ]
     },
     "execution_count": 12,
     "metadata": {},
     "output_type": "execute_result"
    },
    {
     "data": {
      "image/png": "[encoded data removed]",
      "text/plain": [
       "<Figure size 432x288 with 1 Axes>"
      ]
     },
     "metadata": {
      "needs_background": "light"
     },
     "output_type": "display_data"
    }
   ],
   "source": [
    "plt.plot(X_2017, Y_pred)\n",
    "plt.scatter(X_2017, y_2017)"
   ]
  },
  {
   "cell_type": "markdown",
   "metadata": {},
   "source": [
    "## Wrk with original data"
   ]
  },
  {
   "cell_type": "code",
   "execution_count": 13,
   "metadata": {},
   "outputs": [
    {
     "data": {
      "text/html": [
       "<div>\n",
       "<style scoped>\n",
       "    .dataframe tbody tr th:only-of-type {\n",
       "        vertical-align: middle;\n",
       "    }\n",
       "\n",
       "    .dataframe tbody tr th {\n",
       "        vertical-align: top;\n",
       "    }\n",
       "\n",
       "    .dataframe thead th {\n",
       "        text-align: right;\n",
       "    }\n",
       "</style>\n",
       "<table border=\"1\" class=\"dataframe\">\n",
       "  <thead>\n",
       "    <tr style=\"text-align: right;\">\n",
       "      <th></th>\n",
       "      <th>name</th>\n",
       "      <th>date</th>\n",
       "      <th>t</th>\n",
       "      <th>freq_sum</th>\n",
       "      <th>market</th>\n",
       "      <th>freq_sum_log10</th>\n",
       "      <th>market_log10</th>\n",
       "    </tr>\n",
       "  </thead>\n",
       "  <tbody>\n",
       "    <tr>\n",
       "      <th>0</th>\n",
       "      <td>Какао</td>\n",
       "      <td>1998</td>\n",
       "      <td>1</td>\n",
       "      <td>16</td>\n",
       "      <td>6737791560</td>\n",
       "      <td>1.204120</td>\n",
       "      <td>9.828518</td>\n",
       "    </tr>\n",
       "    <tr>\n",
       "      <th>1</th>\n",
       "      <td>Какао</td>\n",
       "      <td>1999</td>\n",
       "      <td>2</td>\n",
       "      <td>44</td>\n",
       "      <td>4195377450</td>\n",
       "      <td>1.643453</td>\n",
       "      <td>9.622771</td>\n",
       "    </tr>\n",
       "    <tr>\n",
       "      <th>2</th>\n",
       "      <td>Какао</td>\n",
       "      <td>2000</td>\n",
       "      <td>3</td>\n",
       "      <td>31</td>\n",
       "      <td>3805830720</td>\n",
       "      <td>1.491362</td>\n",
       "      <td>9.580449</td>\n",
       "    </tr>\n",
       "    <tr>\n",
       "      <th>3</th>\n",
       "      <td>Какао</td>\n",
       "      <td>2001</td>\n",
       "      <td>4</td>\n",
       "      <td>111</td>\n",
       "      <td>4511574200</td>\n",
       "      <td>2.045323</td>\n",
       "      <td>9.654328</td>\n",
       "    </tr>\n",
       "    <tr>\n",
       "      <th>4</th>\n",
       "      <td>Какао</td>\n",
       "      <td>2002</td>\n",
       "      <td>5</td>\n",
       "      <td>208</td>\n",
       "      <td>7750779400</td>\n",
       "      <td>2.318063</td>\n",
       "      <td>9.889345</td>\n",
       "    </tr>\n",
       "  </tbody>\n",
       "</table>\n",
       "</div>"
      ],
      "text/plain": [
       "    name  date  t  freq_sum      market  freq_sum_log10  market_log10\n",
       "0  Какао  1998  1        16  6737791560        1.204120      9.828518\n",
       "1  Какао  1999  2        44  4195377450        1.643453      9.622771\n",
       "2  Какао  2000  3        31  3805830720        1.491362      9.580449\n",
       "3  Какао  2001  4       111  4511574200        2.045323      9.654328\n",
       "4  Какао  2002  5       208  7750779400        2.318063      9.889345"
      ]
     },
     "execution_count": 13,
     "metadata": {},
     "output_type": "execute_result"
    }
   ],
   "source": [
    "data_.head()\n"
   ]
  },
  {
   "cell_type": "code",
   "execution_count": 7,
   "metadata": {},
   "outputs": [],
   "source": [
    "data_unscaled = data_[data_['t'] == 20].loc[:, ['freq_sum', 'market']]"
   ]
  },
  {
   "cell_type": "code",
   "execution_count": 15,
   "metadata": {},
   "outputs": [
    {
     "data": {
      "text/plain": [
       "0.14226663958817254"
      ]
     },
     "execution_count": 15,
     "metadata": {},
     "output_type": "execute_result"
    },
    {
     "data": {
      "image/png": "[encoded data removed]",
      "text/plain": [
       "<Figure size 432x288 with 1 Axes>"
      ]
     },
     "metadata": {
      "needs_background": "light"
     },
     "output_type": "display_data"
    }
   ],
   "source": [
    "from sklearn.isotonic import IsotonicRegression\n",
    "\n",
    "iso_model = IsotonicRegression(out_of_bounds='clip')\n",
    "\n",
    "X_2017 = data_unscaled.sort_values(by='freq_sum')['freq_sum']\n",
    "y_2017 = data_unscaled.sort_values(by='freq_sum')['market']\n",
    "iso_model.fit(X_2017, y_2017)\n",
    "plt.plot(X_2017, iso_model.predict(X_2017))\n",
    "plt.scatter(X_2017, y_2017)\n",
    "r2_score(y_2017, iso_model.predict(X_2017))"
   ]
  },
  {
   "cell_type": "code",
   "execution_count": 16,
   "metadata": {},
   "outputs": [
    {
     "data": {
      "text/plain": [
       "0.24736372468163526"
      ]
     },
     "execution_count": 16,
     "metadata": {},
     "output_type": "execute_result"
    },
    {
     "data": {
      "image/png": "[encoded data removed]",
      "text/plain": [
       "<Figure size 432x288 with 1 Axes>"
      ]
     },
     "metadata": {
      "needs_background": "light"
     },
     "output_type": "display_data"
    }
   ],
   "source": [
    "from sklearn.isotonic import IsotonicRegression\n",
    "\n",
    "iso_model = IsotonicRegression(out_of_bounds='clip')\n",
    "data_unscaled_s = data_2[data_2['t'] == 20].loc[:, ['freq_sum', 'market']]\n",
    "# data_2 has crude oil silver removed\n",
    "\n",
    "X_2017 = data_unscaled_s.sort_values(by='freq_sum')['freq_sum']\n",
    "y_2017 = data_unscaled_s.sort_values(by='freq_sum')['market']\n",
    "iso_model.fit(X_2017, y_2017)\n",
    "plt.plot(X_2017, iso_model.predict(X_2017))\n",
    "plt.scatter(X_2017, y_2017)\n",
    "r2_score(y_2017, iso_model.predict(X_2017))"
   ]
  },
  {
   "cell_type": "code",
   "execution_count": 17,
   "metadata": {},
   "outputs": [
    {
     "data": {
      "text/plain": [
       "10229837223.0"
      ]
     },
     "execution_count": 17,
     "metadata": {},
     "output_type": "execute_result"
    }
   ],
   "source": [
    "min(iso_model.predict(X_2017))"
   ]
  },
  {
   "cell_type": "code",
   "execution_count": 18,
   "metadata": {},
   "outputs": [
    {
     "data": {
      "text/plain": [
       "151954405469.0"
      ]
     },
     "execution_count": 18,
     "metadata": {},
     "output_type": "execute_result"
    }
   ],
   "source": [
    "max(iso_model.predict(X_2017))"
   ]
  },
  {
   "cell_type": "markdown",
   "metadata": {},
   "source": [
    "## Linear regression"
   ]
  },
  {
   "cell_type": "code",
   "execution_count": 19,
   "metadata": {},
   "outputs": [
    {
     "data": {
      "text/plain": [
       "0.008518604360141846"
      ]
     },
     "execution_count": 19,
     "metadata": {},
     "output_type": "execute_result"
    }
   ],
   "source": [
    "linear_regressor = LinearRegression(fit_intercept = True)\n",
    "\n",
    "X_2017 = data_unscaled.sort_values(by='freq_sum')['freq_sum']\n",
    "y_2017 = data_unscaled.sort_values(by='freq_sum')['market']\n",
    "\n",
    "fitt = linear_regressor.fit(np.array(X_2017).reshape(-1, 1), y_2017)\n",
    "Y_pred = linear_regressor.predict(np.array(X_2017).reshape(-1, 1))\n",
    "r2_score(np.array(y_2017).reshape(-1, 1), Y_pred)"
   ]
  },
  {
   "cell_type": "code",
   "execution_count": 20,
   "metadata": {},
   "outputs": [
    {
     "data": {
      "text/plain": [
       "<matplotlib.collections.PathCollection at 0x7fe96ed12710>"
      ]
     },
     "execution_count": 20,
     "metadata": {},
     "output_type": "execute_result"
    },
    {
     "data": {
      "image/png": "[encoded data removed]",
      "text/plain": [
       "<Figure size 432x288 with 1 Axes>"
      ]
     },
     "metadata": {
      "needs_background": "light"
     },
     "output_type": "display_data"
    }
   ],
   "source": [
    "plt.plot(X_2017, Y_pred)\n",
    "plt.scatter(X_2017, y_2017)"
   ]
  },
  {
   "cell_type": "code",
   "execution_count": null,
   "metadata": {},
   "outputs": [],
   "source": []
  },
  {
   "cell_type": "code",
   "execution_count": 21,
   "metadata": {},
   "outputs": [
    {
     "data": {
      "text/plain": [
       "0.011283099635788219"
      ]
     },
     "execution_count": 21,
     "metadata": {},
     "output_type": "execute_result"
    }
   ],
   "source": [
    "linear_regressor = LinearRegression(fit_intercept = True)\n",
    "data_unscaled_s = data_2[data_2['t'] == 20].loc[:, ['freq_sum', 'market']]\n",
    "# data_2 has crude oil silver removed\n",
    "\n",
    "X_2017 = data_unscaled_s.sort_values(by='freq_sum')['freq_sum']\n",
    "y_2017 = data_unscaled_s.sort_values(by='freq_sum')['market']\n",
    "\n",
    "fitt = linear_regressor.fit(np.array(X_2017).reshape(-1, 1), y_2017)\n",
    "Y_pred = linear_regressor.predict(np.array(X_2017).reshape(-1, 1))\n",
    "r2_score(np.array(y_2017).reshape(-1, 1), Y_pred)"
   ]
  },
  {
   "cell_type": "code",
   "execution_count": 22,
   "metadata": {},
   "outputs": [
    {
     "data": {
      "text/plain": [
       "<matplotlib.collections.PathCollection at 0x7fe96ec7a320>"
      ]
     },
     "execution_count": 22,
     "metadata": {},
     "output_type": "execute_result"
    },
    {
     "data": {
      "image/png": "[encoded data removed]",
      "text/plain": [
       "<Figure size 432x288 with 1 Axes>"
      ]
     },
     "metadata": {
      "needs_background": "light"
     },
     "output_type": "display_data"
    }
   ],
   "source": [
    "plt.plot(X_2017, Y_pred)\n",
    "plt.scatter(X_2017, y_2017)"
   ]
  },
  {
   "cell_type": "markdown",
   "metadata": {},
   "source": [
    "Выводы:\n",
    "\n",
    "- Лучше в логарифмированием\n",
    "- Лучше без нетипичных наблюдений"
   ]
  },
  {
   "cell_type": "code",
   "execution_count": 8,
   "metadata": {},
   "outputs": [],
   "source": [
    "data_alt_1_values = data_[data_['t'] == 20].loc[:, ['name', 'freq_sum', 'market']]\n",
    "data_alt_2_values = data_2[data_2['t'] == 20].loc[:, ['name', 'freq_sum', 'market']]\n",
    "data_alt_1_logs = data_[data_['t'] == 20].loc[:, ['name', 'freq_sum_log10', 'market_log10']]\n",
    "data_alt_2_logs = data_2[data_2['t'] == 20].loc[:, ['name', 'freq_sum_log10', 'market_log10']]\n",
    "# data_2 has crude oil silver removed"
   ]
  },
  {
   "cell_type": "code",
   "execution_count": null,
   "metadata": {},
   "outputs": [],
   "source": []
  },
  {
   "cell_type": "code",
   "execution_count": 9,
   "metadata": {},
   "outputs": [
    {
     "data": {
      "text/plain": [
       "array(['Какао', 'Кокосовое масло', 'Арахис', 'Арахисовое масло',\n",
       "       'Пальмовое масло', 'Соевые бобы', 'Соевое масло', 'Ячмень', 'Маис',\n",
       "       'Сорго', 'Апельсин', 'Говядина', 'Хлопок', 'Алюминий', 'Медь',\n",
       "       'Свинец', 'Олово', 'Никель', 'Цинк', 'Золото', 'Платина',\n",
       "       'Серебро', 'Сырая нефть'], dtype=object)"
      ]
     },
     "execution_count": 9,
     "metadata": {},
     "output_type": "execute_result"
    }
   ],
   "source": [
    "unique_terms = unique_items = data_.loc[:, \"name\"].unique()\n",
    "unique_terms"
   ]
  },
  {
   "cell_type": "code",
   "execution_count": null,
   "metadata": {},
   "outputs": [],
   "source": [
    "def term_list_sim_getter(target, unique_names_list):\n",
    "    term_list = [target]\n",
    "    term_list.extend(unique_names_list)\n",
    "    results = []\n",
    "    for term in term_list:\n",
    "        for oppisite_term in term_list:\n",
    "            if term == oppisite_term:\n",
    "                pass\n",
    "            try:\n",
    "                url = f\"http://api.ifora.hse.ru/vector_space/v0.2/w2v_2019_02_18/{term}/similarity/{opposite_term}\"\n",
    "                r = requests.get(url=url)\n",
    "                data = r.json()\n",
    "                results.append({\"term\": term, \"opposite_term\": opposite_term, \"similarity\": data[\"data\"][\"similarity\"]})\n",
    "            except Exception:\n",
    "                pass\n",
    "    return results"
   ]
  },
  {
   "cell_type": "code",
   "execution_count": null,
   "metadata": {},
   "outputs": [],
   "source": [
    "def similarity(results):\n",
    "    similarity = []\n",
    "    "
   ]
  },
  {
   "cell_type": "code",
   "execution_count": null,
   "metadata": {},
   "outputs": [],
   "source": []
  },
  {
   "cell_type": "code",
   "execution_count": null,
   "metadata": {},
   "outputs": [],
   "source": []
  },
  {
   "cell_type": "markdown",
   "metadata": {},
   "source": [
    "kNN"
   ]
  },
  {
   "cell_type": "code",
   "execution_count": null,
   "metadata": {},
   "outputs": [],
   "source": [
    "from sklearn.neighbors import KNeighborsRegressor"
   ]
  },
  {
   "cell_type": "code",
   "execution_count": 30,
   "metadata": {},
   "outputs": [
    {
     "data": {
      "text/plain": [
       "0.30635057029858004"
      ]
     },
     "execution_count": 30,
     "metadata": {},
     "output_type": "execute_result"
    }
   ],
   "source": [
    "data_unscaled_s = data_2[data_2['t'] == 20].loc[:, ['freq_sum', 'market']]\n",
    "# data_2 has crude oil silver removed\n",
    "\n",
    "X_2017 = data_unscaled_s.sort_values(by='freq_sum')['freq_sum']\n",
    "y_2017 = data_unscaled_s.sort_values(by='freq_sum')['market']\n",
    "\n",
    "clf = KNeighborsRegressor(n_neighbors=3, \n",
    "                          metric='manhattan', \n",
    "                          #weights=gaussian_kernel\n",
    "                         ).fit(np.array(X_2017).reshape(-1, 1), y_2017)\n",
    "\n",
    "\n",
    "Y_pred = clf.predict(np.array(X_2017).reshape(-1, 1))\n",
    "r2_score(np.array(y_2017).reshape(-1, 1), Y_pred)"
   ]
  },
  {
   "cell_type": "code",
   "execution_count": 31,
   "metadata": {},
   "outputs": [
    {
     "data": {
      "text/plain": [
       "<matplotlib.collections.PathCollection at 0x7fbc6a618b38>"
      ]
     },
     "execution_count": 31,
     "metadata": {},
     "output_type": "execute_result"
    },
    {
     "data": {
      "image/png": "[encoded data removed]",
      "text/plain": [
       "<Figure size 432x288 with 1 Axes>"
      ]
     },
     "metadata": {
      "needs_background": "light"
     },
     "output_type": "display_data"
    }
   ],
   "source": [
    "plt.plot(X_2017, Y_pred)\n",
    "plt.scatter(X_2017, y_2017)"
   ]
  },
  {
   "cell_type": "code",
   "execution_count": 105,
   "metadata": {},
   "outputs": [],
   "source": [
    "n_heig = [3, 4, 5, 6, 7, 8, 9, 10]\n",
    "metrics = ['chebyshev', \"manhattan\", \"euclidean\"]"
   ]
  },
  {
   "cell_type": "code",
   "execution_count": 106,
   "metadata": {},
   "outputs": [
    {
     "name": "stdout",
     "output_type": "stream",
     "text": [
      "3 chebyshev 0.30635057029858004\n",
      "3 manhattan 0.30635057029858004\n",
      "3 euclidean 0.30635057029858004\n",
      "4 chebyshev 0.19485527399290803\n",
      "4 manhattan 0.19485527399290803\n",
      "4 euclidean 0.19485527399290803\n",
      "5 chebyshev 0.17482160212540498\n",
      "5 manhattan 0.17482160212540498\n",
      "5 euclidean 0.17482160212540498\n",
      "6 chebyshev 0.12350774532970099\n",
      "6 manhattan 0.12350774532970099\n",
      "6 euclidean 0.12350774532970099\n",
      "7 chebyshev 0.1628133972645649\n",
      "7 manhattan 0.1628133972645649\n",
      "7 euclidean 0.1628133972645649\n",
      "8 chebyshev 0.15000062955404792\n",
      "8 manhattan 0.15000062955404792\n",
      "8 euclidean 0.15000062955404792\n",
      "9 chebyshev 0.13672419055416019\n",
      "9 manhattan 0.13672419055416019\n",
      "9 euclidean 0.13672419055416019\n",
      "10 chebyshev 0.10915163422425123\n",
      "10 manhattan 0.10915163422425123\n",
      "10 euclidean 0.10915163422425123\n"
     ]
    }
   ],
   "source": [
    "\n",
    "data_unscaled_s = data_2[data_2['t'] == 20].loc[:, ['freq_sum', 'market']]\n",
    "# data_2 has crude oil silver removed\n",
    "\n",
    "X_2017 = data_unscaled_s.sort_values(by='freq_sum')['freq_sum']\n",
    "y_2017 = data_unscaled_s.sort_values(by='freq_sum')['market']\n",
    "for n in n_heig:\n",
    "    for metric_ in metrics:\n",
    "        clf = KNeighborsRegressor(n_neighbors=n, \n",
    "                                  metric=metric_, \n",
    "                                  #weights=gaussian_kernel\n",
    "                                 ).fit(np.array(X_2017).reshape(-1, 1), y_2017)\n",
    "\n",
    "\n",
    "        Y_pred = clf.predict(np.array(X_2017).reshape(-1, 1))\n",
    "        print(n, metric_, r2_score(np.array(y_2017).reshape(-1, 1), Y_pred))"
   ]
  },
  {
   "cell_type": "code",
   "execution_count": null,
   "metadata": {},
   "outputs": [],
   "source": []
  },
  {
   "cell_type": "code",
   "execution_count": null,
   "metadata": {},
   "outputs": [],
   "source": []
  },
  {
   "cell_type": "code",
   "execution_count": null,
   "metadata": {},
   "outputs": [],
   "source": []
  },
  {
   "cell_type": "code",
   "execution_count": 107,
   "metadata": {},
   "outputs": [],
   "source": [
    "data_16_17 = data[data['t'] == 20].loc[:,['freq_sum','market']]"
   ]
  },
  {
   "cell_type": "code",
   "execution_count": 47,
   "metadata": {},
   "outputs": [],
   "source": [
    "data_16_17['freq_sum_t-1'] = data[data['t'] == 19].freq_sum.tolist()"
   ]
  },
  {
   "cell_type": "code",
   "execution_count": 48,
   "metadata": {},
   "outputs": [
    {
     "data": {
      "text/html": [
       "<div>\n",
       "<style scoped>\n",
       "    .dataframe tbody tr th:only-of-type {\n",
       "        vertical-align: middle;\n",
       "    }\n",
       "\n",
       "    .dataframe tbody tr th {\n",
       "        vertical-align: top;\n",
       "    }\n",
       "\n",
       "    .dataframe thead th {\n",
       "        text-align: right;\n",
       "    }\n",
       "</style>\n",
       "<table border=\"1\" class=\"dataframe\">\n",
       "  <thead>\n",
       "    <tr style=\"text-align: right;\">\n",
       "      <th></th>\n",
       "      <th>freq_sum</th>\n",
       "      <th>market</th>\n",
       "      <th>freq_sum_t-1</th>\n",
       "    </tr>\n",
       "  </thead>\n",
       "  <tbody>\n",
       "    <tr>\n",
       "      <th>19</th>\n",
       "      <td>942</td>\n",
       "      <td>10870319900</td>\n",
       "      <td>1123</td>\n",
       "    </tr>\n",
       "    <tr>\n",
       "      <th>39</th>\n",
       "      <td>1034</td>\n",
       "      <td>25099327340</td>\n",
       "      <td>973</td>\n",
       "    </tr>\n",
       "    <tr>\n",
       "      <th>59</th>\n",
       "      <td>218</td>\n",
       "      <td>108226207717</td>\n",
       "      <td>260</td>\n",
       "    </tr>\n",
       "    <tr>\n",
       "      <th>79</th>\n",
       "      <td>32</td>\n",
       "      <td>10229837223</td>\n",
       "      <td>51</td>\n",
       "    </tr>\n",
       "    <tr>\n",
       "      <th>99</th>\n",
       "      <td>1872</td>\n",
       "      <td>13469577625</td>\n",
       "      <td>2906</td>\n",
       "    </tr>\n",
       "    <tr>\n",
       "      <th>119</th>\n",
       "      <td>9150</td>\n",
       "      <td>163046382909</td>\n",
       "      <td>8723</td>\n",
       "    </tr>\n",
       "    <tr>\n",
       "      <th>139</th>\n",
       "      <td>604</td>\n",
       "      <td>54806206589</td>\n",
       "      <td>759</td>\n",
       "    </tr>\n",
       "    <tr>\n",
       "      <th>159</th>\n",
       "      <td>2428</td>\n",
       "      <td>16516909829</td>\n",
       "      <td>3598</td>\n",
       "    </tr>\n",
       "    <tr>\n",
       "      <th>179</th>\n",
       "      <td>1834</td>\n",
       "      <td>244073442574</td>\n",
       "      <td>2325</td>\n",
       "    </tr>\n",
       "    <tr>\n",
       "      <th>199</th>\n",
       "      <td>1338</td>\n",
       "      <td>11156413313</td>\n",
       "      <td>1410</td>\n",
       "    </tr>\n",
       "    <tr>\n",
       "      <th>219</th>\n",
       "      <td>24096</td>\n",
       "      <td>68059088660</td>\n",
       "      <td>34898</td>\n",
       "    </tr>\n",
       "    <tr>\n",
       "      <th>239</th>\n",
       "      <td>24854</td>\n",
       "      <td>329961030410</td>\n",
       "      <td>24884</td>\n",
       "    </tr>\n",
       "    <tr>\n",
       "      <th>259</th>\n",
       "      <td>9954</td>\n",
       "      <td>123748407816</td>\n",
       "      <td>10597</td>\n",
       "    </tr>\n",
       "    <tr>\n",
       "      <th>279</th>\n",
       "      <td>19497</td>\n",
       "      <td>120949088000</td>\n",
       "      <td>22631</td>\n",
       "    </tr>\n",
       "    <tr>\n",
       "      <th>299</th>\n",
       "      <td>25503</td>\n",
       "      <td>132949893500</td>\n",
       "      <td>30990</td>\n",
       "    </tr>\n",
       "    <tr>\n",
       "      <th>319</th>\n",
       "      <td>592565</td>\n",
       "      <td>19378702500</td>\n",
       "      <td>854040</td>\n",
       "    </tr>\n",
       "    <tr>\n",
       "      <th>339</th>\n",
       "      <td>5488</td>\n",
       "      <td>5545392160</td>\n",
       "      <td>6452</td>\n",
       "    </tr>\n",
       "    <tr>\n",
       "      <th>359</th>\n",
       "      <td>8249</td>\n",
       "      <td>23620168000</td>\n",
       "      <td>9099</td>\n",
       "    </tr>\n",
       "    <tr>\n",
       "      <th>379</th>\n",
       "      <td>6869</td>\n",
       "      <td>27325323000</td>\n",
       "      <td>6589</td>\n",
       "    </tr>\n",
       "    <tr>\n",
       "      <th>399</th>\n",
       "      <td>78139</td>\n",
       "      <td>125527995466</td>\n",
       "      <td>115039</td>\n",
       "    </tr>\n",
       "    <tr>\n",
       "      <th>419</th>\n",
       "      <td>10345</td>\n",
       "      <td>6237527728</td>\n",
       "      <td>14187</td>\n",
       "    </tr>\n",
       "    <tr>\n",
       "      <th>439</th>\n",
       "      <td>34023</td>\n",
       "      <td>14512086</td>\n",
       "      <td>50203</td>\n",
       "    </tr>\n",
       "    <tr>\n",
       "      <th>459</th>\n",
       "      <td>11603</td>\n",
       "      <td>1791679</td>\n",
       "      <td>18018</td>\n",
       "    </tr>\n",
       "  </tbody>\n",
       "</table>\n",
       "</div>"
      ],
      "text/plain": [
       "     freq_sum        market  freq_sum_t-1\n",
       "19        942   10870319900          1123\n",
       "39       1034   25099327340           973\n",
       "59        218  108226207717           260\n",
       "79         32   10229837223            51\n",
       "99       1872   13469577625          2906\n",
       "119      9150  163046382909          8723\n",
       "139       604   54806206589           759\n",
       "159      2428   16516909829          3598\n",
       "179      1834  244073442574          2325\n",
       "199      1338   11156413313          1410\n",
       "219     24096   68059088660         34898\n",
       "239     24854  329961030410         24884\n",
       "259      9954  123748407816         10597\n",
       "279     19497  120949088000         22631\n",
       "299     25503  132949893500         30990\n",
       "319    592565   19378702500        854040\n",
       "339      5488    5545392160          6452\n",
       "359      8249   23620168000          9099\n",
       "379      6869   27325323000          6589\n",
       "399     78139  125527995466        115039\n",
       "419     10345    6237527728         14187\n",
       "439     34023      14512086         50203\n",
       "459     11603       1791679         18018"
      ]
     },
     "execution_count": 48,
     "metadata": {},
     "output_type": "execute_result"
    }
   ],
   "source": [
    "data_16_17"
   ]
  },
  {
   "cell_type": "code",
   "execution_count": 104,
   "metadata": {},
   "outputs": [
    {
     "name": "stdout",
     "output_type": "stream",
     "text": [
      "3 chebyshev 0.39828760006124075\n",
      "3 manhattan 0.40880039265006274\n",
      "3 euclidean 0.40880039265006274\n",
      "4 chebyshev 0.2739485761206969\n",
      "4 manhattan 0.24710773816109866\n",
      "4 euclidean 0.2769371693338415\n",
      "5 chebyshev 0.1847150780693756\n",
      "5 manhattan 0.1683989580028702\n",
      "5 euclidean 0.1749643969383935\n",
      "6 chebyshev 0.09454303287651145\n",
      "6 manhattan 0.104411716274049\n",
      "6 euclidean 0.104411716274049\n",
      "7 chebyshev 0.08628984460406175\n",
      "7 manhattan 0.08275384772316607\n",
      "7 euclidean 0.0859767798285227\n",
      "8 chebyshev 0.11119795033658508\n",
      "8 manhattan 0.10584437003568381\n",
      "8 euclidean 0.10776477911245441\n",
      "9 chebyshev 0.09905192614038827\n",
      "9 manhattan 0.05700649222328735\n",
      "9 euclidean 0.04638019505863766\n",
      "10 chebyshev 0.07861657571738923\n",
      "10 manhattan 0.0876843121799552\n",
      "10 euclidean 0.09520245113653092\n"
     ]
    }
   ],
   "source": [
    "\n",
    "X_2017 = data_16_17.sort_values(by='freq_sum')[['freq_sum', 'freq_sum_t-1']]\n",
    "y_2017 = data_16_17.sort_values(by='freq_sum')['market']\n",
    "for n in n_heig:\n",
    "    for metric_ in metrics:\n",
    "        clf = KNeighborsRegressor(n_neighbors=n, \n",
    "                                  metric=metric_, \n",
    "                                  #weights=gaussian_kernel\n",
    "                                 ).fit(X_2017, y_2017)\n",
    "\n",
    "\n",
    "        Y_pred = clf.predict(X_2017)\n",
    "        print(n, metric_, r2_score(np.array(y_2017).reshape(-1, 1), Y_pred))"
   ]
  },
  {
   "cell_type": "markdown",
   "metadata": {},
   "source": []
  },
  {
   "cell_type": "code",
   "execution_count": 57,
   "metadata": {},
   "outputs": [],
   "source": [
    "clf = KNeighborsRegressor(n_neighbors=3, \n",
    "                                  metric='minkowski' # default\n",
    "                                 ).fit(X_2017, y_2017)\n",
    "Y_pred = clf.predict(X_2017)"
   ]
  },
  {
   "cell_type": "code",
   "execution_count": 59,
   "metadata": {},
   "outputs": [
    {
     "data": {
      "text/plain": [
       "0.40880039265006274"
      ]
     },
     "execution_count": 59,
     "metadata": {},
     "output_type": "execute_result"
    }
   ],
   "source": [
    "r2_score(np.array(y_2017).reshape(-1, 1), Y_pred)"
   ]
  },
  {
   "cell_type": "code",
   "execution_count": 58,
   "metadata": {
    "scrolled": false
   },
   "outputs": [
    {
     "data": {
      "text/plain": [
       "<matplotlib.collections.PathCollection at 0x7fbc644254e0>"
      ]
     },
     "execution_count": 58,
     "metadata": {},
     "output_type": "execute_result"
    },
    {
     "data": {
      "image/png": "[encoded data removed]",
      "text/plain": [
       "<Figure size 432x288 with 1 Axes>"
      ]
     },
     "metadata": {
      "needs_background": "light"
     },
     "output_type": "display_data"
    }
   ],
   "source": [
    "plt.plot(X_2017, Y_pred)\n",
    "plt.scatter(X_2017.freq_sum, y_2017)"
   ]
  },
  {
   "cell_type": "markdown",
   "metadata": {},
   "source": [
    "And the same for logged data"
   ]
  },
  {
   "cell_type": "code",
   "execution_count": 61,
   "metadata": {},
   "outputs": [],
   "source": [
    "data_16_17_l = data[data['t'] == 20].loc[:,['freq_sum_log10','market_log10']]"
   ]
  },
  {
   "cell_type": "code",
   "execution_count": 62,
   "metadata": {},
   "outputs": [],
   "source": [
    "data_16_17_l['freq_sum_l_t-1'] = data[data['t'] == 19].freq_sum_log10.tolist()"
   ]
  },
  {
   "cell_type": "code",
   "execution_count": 64,
   "metadata": {},
   "outputs": [
    {
     "name": "stdout",
     "output_type": "stream",
     "text": [
      "3 minkowski 0.416547204370579\n",
      "3 chebyshev 0.41629578591549654\n",
      "3 manhattan 0.4131999295304346\n",
      "3 euclidean 0.416547204370579\n",
      "4 minkowski 0.27795922916733695\n",
      "4 chebyshev 0.2700213033378236\n",
      "4 manhattan 0.2817911342833149\n",
      "4 euclidean 0.27795922916733695\n",
      "5 minkowski 0.0601247575838153\n",
      "5 chebyshev 0.14073390228927785\n",
      "5 manhattan 0.0601247575838153\n",
      "5 euclidean 0.0601247575838153\n",
      "6 minkowski -0.10893575834743774\n",
      "6 chebyshev -0.10471453890063698\n",
      "6 manhattan -0.10893575834743774\n",
      "6 euclidean -0.10893575834743774\n",
      "7 minkowski -0.16598459508668828\n",
      "7 chebyshev -0.10676841923597302\n",
      "7 manhattan -0.16598459508668828\n",
      "7 euclidean -0.16598459508668828\n",
      "8 minkowski -0.0916609728431994\n",
      "8 chebyshev -0.08306226887489632\n",
      "8 manhattan -0.0916609728431994\n",
      "8 euclidean -0.0916609728431994\n",
      "9 minkowski -0.06478755240855238\n",
      "9 chebyshev -0.07437070920294064\n",
      "9 manhattan -0.06417268064177928\n",
      "9 euclidean -0.06478755240855238\n",
      "10 minkowski -0.06262350022388619\n",
      "10 chebyshev -0.045965970342597195\n",
      "10 manhattan -0.06262350022388619\n",
      "10 euclidean -0.06262350022388619\n"
     ]
    }
   ],
   "source": [
    "X_2017 = data_16_17_l.sort_values(by='freq_sum_log10')[['freq_sum_log10', 'freq_sum_l_t-1']]\n",
    "y_2017 = data_16_17_l.sort_values(by='freq_sum_log10')['market_log10']\n",
    "for n in n_heig:\n",
    "    for metric_ in metrics:\n",
    "        clf = KNeighborsRegressor(n_neighbors=n, \n",
    "                                  metric=metric_, \n",
    "                                  #weights=gaussian_kernel\n",
    "                                 ).fit(X_2017, y_2017)\n",
    "\n",
    "\n",
    "        Y_pred = clf.predict(X_2017)\n",
    "        print(n, metric_, r2_score(np.array(y_2017).reshape(-1, 1), Y_pred))"
   ]
  },
  {
   "cell_type": "code",
   "execution_count": 65,
   "metadata": {},
   "outputs": [],
   "source": [
    "clf = KNeighborsRegressor(n_neighbors=3, \n",
    "                                  metric='minkowski' # default\n",
    "                                 ).fit(X_2017, y_2017)\n",
    "Y_pred = clf.predict(X_2017)"
   ]
  },
  {
   "cell_type": "code",
   "execution_count": 66,
   "metadata": {},
   "outputs": [
    {
     "data": {
      "text/plain": [
       "0.416547204370579"
      ]
     },
     "execution_count": 66,
     "metadata": {},
     "output_type": "execute_result"
    }
   ],
   "source": [
    "r2_score(np.array(y_2017).reshape(-1, 1), Y_pred)"
   ]
  },
  {
   "cell_type": "code",
   "execution_count": 71,
   "metadata": {},
   "outputs": [
    {
     "data": {
      "text/plain": [
       "0.3360799405711351"
      ]
     },
     "execution_count": 71,
     "metadata": {},
     "output_type": "execute_result"
    }
   ],
   "source": [
    "r2_score(np.array(10**y_2017).reshape(-1, 1), 10**Y_pred)"
   ]
  },
  {
   "cell_type": "code",
   "execution_count": 76,
   "metadata": {},
   "outputs": [
    {
     "data": {
      "text/plain": [
       "<matplotlib.collections.PathCollection at 0x7fbc6416d208>"
      ]
     },
     "execution_count": 76,
     "metadata": {},
     "output_type": "execute_result"
    },
    {
     "data": {
      "image/png": "[encoded data removed]",
      "text/plain": [
       "<Figure size 432x288 with 1 Axes>"
      ]
     },
     "metadata": {
      "needs_background": "light"
     },
     "output_type": "display_data"
    }
   ],
   "source": [
    "plt.plot(X_2017, Y_pred)\n",
    "plt.scatter(X_2017.freq_sum_log10, y_2017)"
   ]
  },
  {
   "cell_type": "code",
   "execution_count": 75,
   "metadata": {},
   "outputs": [
    {
     "data": {
      "text/plain": [
       "<matplotlib.collections.PathCollection at 0x7fbc63baca58>"
      ]
     },
     "execution_count": 75,
     "metadata": {},
     "output_type": "execute_result"
    },
    {
     "data": {
      "image/png": "[encoded data removed]",
      "text/plain": [
       "<Figure size 432x288 with 1 Axes>"
      ]
     },
     "metadata": {
      "needs_background": "light"
     },
     "output_type": "display_data"
    }
   ],
   "source": [
    "plt.plot(10**X_2017, 10**Y_pred)\n",
    "plt.scatter(10**X_2017.freq_sum_log10, 10**y_2017)"
   ]
  },
  {
   "cell_type": "code",
   "execution_count": null,
   "metadata": {},
   "outputs": [],
   "source": []
  },
  {
   "cell_type": "code",
   "execution_count": null,
   "metadata": {},
   "outputs": [],
   "source": []
  },
  {
   "cell_type": "markdown",
   "metadata": {},
   "source": [
    "## Recap best current result"
   ]
  },
  {
   "cell_type": "code",
   "execution_count": 121,
   "metadata": {},
   "outputs": [],
   "source": [
    "data_16_17 = data[data['t'] == 20].loc[:,['freq_sum','market']]"
   ]
  },
  {
   "cell_type": "code",
   "execution_count": 122,
   "metadata": {},
   "outputs": [],
   "source": [
    "data_16_17['freq_sum_t-1'] = data[data['t'] == 19].freq_sum.tolist()"
   ]
  },
  {
   "cell_type": "code",
   "execution_count": 123,
   "metadata": {},
   "outputs": [
    {
     "data": {
      "text/html": [
       "<div>\n",
       "<style scoped>\n",
       "    .dataframe tbody tr th:only-of-type {\n",
       "        vertical-align: middle;\n",
       "    }\n",
       "\n",
       "    .dataframe tbody tr th {\n",
       "        vertical-align: top;\n",
       "    }\n",
       "\n",
       "    .dataframe thead th {\n",
       "        text-align: right;\n",
       "    }\n",
       "</style>\n",
       "<table border=\"1\" class=\"dataframe\">\n",
       "  <thead>\n",
       "    <tr style=\"text-align: right;\">\n",
       "      <th></th>\n",
       "      <th>freq_sum</th>\n",
       "      <th>market</th>\n",
       "      <th>freq_sum_t-1</th>\n",
       "    </tr>\n",
       "  </thead>\n",
       "  <tbody>\n",
       "    <tr>\n",
       "      <th>19</th>\n",
       "      <td>942</td>\n",
       "      <td>10870319900</td>\n",
       "      <td>1123</td>\n",
       "    </tr>\n",
       "    <tr>\n",
       "      <th>39</th>\n",
       "      <td>1034</td>\n",
       "      <td>25099327340</td>\n",
       "      <td>973</td>\n",
       "    </tr>\n",
       "    <tr>\n",
       "      <th>59</th>\n",
       "      <td>218</td>\n",
       "      <td>108226207717</td>\n",
       "      <td>260</td>\n",
       "    </tr>\n",
       "    <tr>\n",
       "      <th>79</th>\n",
       "      <td>32</td>\n",
       "      <td>10229837223</td>\n",
       "      <td>51</td>\n",
       "    </tr>\n",
       "    <tr>\n",
       "      <th>99</th>\n",
       "      <td>1872</td>\n",
       "      <td>13469577625</td>\n",
       "      <td>2906</td>\n",
       "    </tr>\n",
       "    <tr>\n",
       "      <th>119</th>\n",
       "      <td>9150</td>\n",
       "      <td>163046382909</td>\n",
       "      <td>8723</td>\n",
       "    </tr>\n",
       "    <tr>\n",
       "      <th>139</th>\n",
       "      <td>604</td>\n",
       "      <td>54806206589</td>\n",
       "      <td>759</td>\n",
       "    </tr>\n",
       "    <tr>\n",
       "      <th>159</th>\n",
       "      <td>2428</td>\n",
       "      <td>16516909829</td>\n",
       "      <td>3598</td>\n",
       "    </tr>\n",
       "    <tr>\n",
       "      <th>179</th>\n",
       "      <td>1834</td>\n",
       "      <td>244073442574</td>\n",
       "      <td>2325</td>\n",
       "    </tr>\n",
       "    <tr>\n",
       "      <th>199</th>\n",
       "      <td>1338</td>\n",
       "      <td>11156413313</td>\n",
       "      <td>1410</td>\n",
       "    </tr>\n",
       "    <tr>\n",
       "      <th>219</th>\n",
       "      <td>24096</td>\n",
       "      <td>68059088660</td>\n",
       "      <td>34898</td>\n",
       "    </tr>\n",
       "    <tr>\n",
       "      <th>239</th>\n",
       "      <td>24854</td>\n",
       "      <td>329961030410</td>\n",
       "      <td>24884</td>\n",
       "    </tr>\n",
       "    <tr>\n",
       "      <th>259</th>\n",
       "      <td>9954</td>\n",
       "      <td>123748407816</td>\n",
       "      <td>10597</td>\n",
       "    </tr>\n",
       "    <tr>\n",
       "      <th>279</th>\n",
       "      <td>19497</td>\n",
       "      <td>120949088000</td>\n",
       "      <td>22631</td>\n",
       "    </tr>\n",
       "    <tr>\n",
       "      <th>299</th>\n",
       "      <td>25503</td>\n",
       "      <td>132949893500</td>\n",
       "      <td>30990</td>\n",
       "    </tr>\n",
       "    <tr>\n",
       "      <th>319</th>\n",
       "      <td>592565</td>\n",
       "      <td>19378702500</td>\n",
       "      <td>854040</td>\n",
       "    </tr>\n",
       "    <tr>\n",
       "      <th>339</th>\n",
       "      <td>5488</td>\n",
       "      <td>5545392160</td>\n",
       "      <td>6452</td>\n",
       "    </tr>\n",
       "    <tr>\n",
       "      <th>359</th>\n",
       "      <td>8249</td>\n",
       "      <td>23620168000</td>\n",
       "      <td>9099</td>\n",
       "    </tr>\n",
       "    <tr>\n",
       "      <th>379</th>\n",
       "      <td>6869</td>\n",
       "      <td>27325323000</td>\n",
       "      <td>6589</td>\n",
       "    </tr>\n",
       "    <tr>\n",
       "      <th>399</th>\n",
       "      <td>78139</td>\n",
       "      <td>125527995466</td>\n",
       "      <td>115039</td>\n",
       "    </tr>\n",
       "    <tr>\n",
       "      <th>419</th>\n",
       "      <td>10345</td>\n",
       "      <td>6237527728</td>\n",
       "      <td>14187</td>\n",
       "    </tr>\n",
       "    <tr>\n",
       "      <th>439</th>\n",
       "      <td>34023</td>\n",
       "      <td>14512086</td>\n",
       "      <td>50203</td>\n",
       "    </tr>\n",
       "    <tr>\n",
       "      <th>459</th>\n",
       "      <td>11603</td>\n",
       "      <td>1791679</td>\n",
       "      <td>18018</td>\n",
       "    </tr>\n",
       "  </tbody>\n",
       "</table>\n",
       "</div>"
      ],
      "text/plain": [
       "     freq_sum        market  freq_sum_t-1\n",
       "19        942   10870319900          1123\n",
       "39       1034   25099327340           973\n",
       "59        218  108226207717           260\n",
       "79         32   10229837223            51\n",
       "99       1872   13469577625          2906\n",
       "119      9150  163046382909          8723\n",
       "139       604   54806206589           759\n",
       "159      2428   16516909829          3598\n",
       "179      1834  244073442574          2325\n",
       "199      1338   11156413313          1410\n",
       "219     24096   68059088660         34898\n",
       "239     24854  329961030410         24884\n",
       "259      9954  123748407816         10597\n",
       "279     19497  120949088000         22631\n",
       "299     25503  132949893500         30990\n",
       "319    592565   19378702500        854040\n",
       "339      5488    5545392160          6452\n",
       "359      8249   23620168000          9099\n",
       "379      6869   27325323000          6589\n",
       "399     78139  125527995466        115039\n",
       "419     10345    6237527728         14187\n",
       "439     34023      14512086         50203\n",
       "459     11603       1791679         18018"
      ]
     },
     "execution_count": 123,
     "metadata": {},
     "output_type": "execute_result"
    }
   ],
   "source": [
    "data_16_17"
   ]
  },
  {
   "cell_type": "code",
   "execution_count": 124,
   "metadata": {},
   "outputs": [
    {
     "name": "stdout",
     "output_type": "stream",
     "text": [
      "3 chebyshev 0.39828760006124075\n",
      "3 manhattan 0.40880039265006274\n",
      "3 euclidean 0.40880039265006274\n",
      "4 chebyshev 0.2739485761206969\n",
      "4 manhattan 0.24710773816109866\n",
      "4 euclidean 0.2769371693338415\n",
      "5 chebyshev 0.1847150780693756\n",
      "5 manhattan 0.1683989580028702\n",
      "5 euclidean 0.1749643969383935\n",
      "6 chebyshev 0.09454303287651145\n",
      "6 manhattan 0.104411716274049\n",
      "6 euclidean 0.104411716274049\n",
      "7 chebyshev 0.08628984460406175\n",
      "7 manhattan 0.08275384772316607\n",
      "7 euclidean 0.0859767798285227\n",
      "8 chebyshev 0.11119795033658508\n",
      "8 manhattan 0.10584437003568381\n",
      "8 euclidean 0.10776477911245441\n",
      "9 chebyshev 0.09905192614038827\n",
      "9 manhattan 0.05700649222328735\n",
      "9 euclidean 0.04638019505863766\n",
      "10 chebyshev 0.07861657571738923\n",
      "10 manhattan 0.0876843121799552\n",
      "10 euclidean 0.09520245113653092\n"
     ]
    }
   ],
   "source": [
    "\n",
    "X_2017 = data_16_17.sort_values(by='freq_sum')[['freq_sum', 'freq_sum_t-1']]\n",
    "y_2017 = data_16_17.sort_values(by='freq_sum')['market']\n",
    "for n in n_heig:\n",
    "    for metric_ in metrics:\n",
    "        clf = KNeighborsRegressor(n_neighbors=n, \n",
    "                                  metric=metric_, \n",
    "                                  #weights=gaussian_kernel\n",
    "                                 ).fit(X_2017, y_2017)\n",
    "\n",
    "\n",
    "        Y_pred = clf.predict(X_2017)\n",
    "        print(n, metric_, r2_score(np.array(y_2017).reshape(-1, 1), Y_pred))"
   ]
  },
  {
   "cell_type": "markdown",
   "metadata": {},
   "source": []
  },
  {
   "cell_type": "code",
   "execution_count": 125,
   "metadata": {},
   "outputs": [],
   "source": [
    "clf = KNeighborsRegressor(n_neighbors=3, \n",
    "                                  metric='minkowski' # default\n",
    "                                 ).fit(X_2017, y_2017)\n",
    "Y_pred = clf.predict(X_2017)"
   ]
  },
  {
   "cell_type": "code",
   "execution_count": 126,
   "metadata": {},
   "outputs": [
    {
     "data": {
      "text/plain": [
       "0.40880039265006274"
      ]
     },
     "execution_count": 126,
     "metadata": {},
     "output_type": "execute_result"
    }
   ],
   "source": [
    "r2_score(np.array(y_2017).reshape(-1, 1), Y_pred)"
   ]
  },
  {
   "cell_type": "code",
   "execution_count": 127,
   "metadata": {
    "scrolled": true
   },
   "outputs": [
    {
     "data": {
      "text/plain": [
       "<matplotlib.collections.PathCollection at 0x7fbc63bac978>"
      ]
     },
     "execution_count": 127,
     "metadata": {},
     "output_type": "execute_result"
    },
    {
     "data": {
      "image/png": "[encoded data removed]",
      "text/plain": [
       "<Figure size 432x288 with 1 Axes>"
      ]
     },
     "metadata": {
      "needs_background": "light"
     },
     "output_type": "display_data"
    }
   ],
   "source": [
    "plt.plot(X_2017, Y_pred)\n",
    "plt.scatter(X_2017.freq_sum, y_2017)"
   ]
  },
  {
   "cell_type": "code",
   "execution_count": 128,
   "metadata": {},
   "outputs": [
    {
     "data": {
      "text/plain": [
       "KNeighborsRegressor(algorithm='auto', leaf_size=30, metric='minkowski',\n",
       "          metric_params=None, n_jobs=None, n_neighbors=3, p=2,\n",
       "          weights='uniform')"
      ]
     },
     "execution_count": 128,
     "metadata": {},
     "output_type": "execute_result"
    }
   ],
   "source": [
    "clf"
   ]
  },
  {
   "cell_type": "code",
   "execution_count": 129,
   "metadata": {},
   "outputs": [],
   "source": [
    "algorithms = ['auto', 'ball_tree', 'kd_tree', 'brute']\n",
    "weights_ = ['uniform', 'distance']\n",
    "#'uniform' : uniform weights.  All points in each neighborhood\n",
    "#      are weighted equally.\n",
    "#'distance' : weight points by the inverse of their distance.\n",
    "#      in this case, closer neighbors of a query point will have a\n",
    "#      greater influence than neighbors which are further away."
   ]
  },
  {
   "cell_type": "code",
   "execution_count": null,
   "metadata": {},
   "outputs": [],
   "source": [
    "# for algo in algorithms:\n",
    "#     for w in weights_:\n",
    "        \n",
    "#         clf = KNeighborsRegressor(n_neighbors=3, \n",
    "#                                   metric='minkowski', # default \n",
    "#                                   weights=w,\n",
    "#                                   algorithm = algo\n",
    "#                                  ).fit(np.array(X_2017).reshape(-1, 1), y_2017)\n",
    "\n",
    "\n",
    "#         Y_pred = clf.predict(np.array(X_2017).reshape(-1, 1))\n",
    "#         print(algo, w, r2_score(np.array(y_2017).reshape(-1, 1), Y_pred))"
   ]
  },
  {
   "cell_type": "code",
   "execution_count": 131,
   "metadata": {},
   "outputs": [
    {
     "data": {
      "text/plain": [
       "array(['Какао', 'Кокосовое масло', 'Арахис', 'Арахисовое масло',\n",
       "       'Пальмовое масло', 'Соевые бобы', 'Соевое масло', 'Ячмень', 'Маис',\n",
       "       'Сорго', 'Апельсин', 'Говядина', 'Хлопок', 'Алюминий', 'Медь',\n",
       "       'Свинец', 'Олово', 'Никель', 'Цинк', 'Золото', 'Платина',\n",
       "       'Серебро', 'Сырая нефть'], dtype=object)"
      ]
     },
     "execution_count": 131,
     "metadata": {},
     "output_type": "execute_result"
    }
   ],
   "source": [
    "unique_items"
   ]
  },
  {
   "cell_type": "markdown",
   "metadata": {},
   "source": [
    "Add names for validation"
   ]
  },
  {
   "cell_type": "code",
   "execution_count": 132,
   "metadata": {},
   "outputs": [],
   "source": [
    "data_16_17['name'] = data[data['t'] == 19].name.tolist()"
   ]
  },
  {
   "cell_type": "code",
   "execution_count": 133,
   "metadata": {},
   "outputs": [
    {
     "data": {
      "text/plain": [
       "array([ True,  True,  True,  True,  True,  True,  True,  True,  True,\n",
       "        True,  True,  True,  True,  True,  True,  True,  True,  True,\n",
       "        True,  True,  True,  True,  True])"
      ]
     },
     "execution_count": 133,
     "metadata": {},
     "output_type": "execute_result"
    }
   ],
   "source": [
    "data_16_17['name'].unique() == unique_items"
   ]
  },
  {
   "cell_type": "code",
   "execution_count": null,
   "metadata": {},
   "outputs": [],
   "source": []
  },
  {
   "cell_type": "code",
   "execution_count": 164,
   "metadata": {},
   "outputs": [],
   "source": [
    "actuals = []\n",
    "predictions = []\n",
    "pred_data = []\n",
    "for item in unique_items:\n",
    "    working_data = data_16_17[data_16_17['name'] != item]\n",
    "    Y_real = int(data_16_17[data_16_17['name'] == item].market)\n",
    "    X_to_pred = data_16_17[data_16_17['name'] == item][['freq_sum', 'freq_sum_t-1']]\n",
    "    \n",
    "    X_2017 = working_data[['freq_sum', 'freq_sum_t-1']]\n",
    "    y_2017 = working_data['market']\n",
    "    clf = KNeighborsRegressor(n_neighbors=3, \n",
    "                                  metric='minkowski' # default\n",
    "                                 ).fit(X_2017, y_2017)\n",
    "    Y_pred = clf.predict(X_to_pred)\n",
    "    predictions.append(int(Y_pred))\n",
    "    actuals.append(Y_real)\n",
    "    pred_data.append({\"name\":item, \"actual\":Y_real, \"preds\":int(Y_pred)})"
   ]
  },
  {
   "cell_type": "code",
   "execution_count": null,
   "metadata": {},
   "outputs": [],
   "source": []
  },
  {
   "cell_type": "code",
   "execution_count": 166,
   "metadata": {},
   "outputs": [
    {
     "data": {
      "text/html": [
       "<div>\n",
       "<style scoped>\n",
       "    .dataframe tbody tr th:only-of-type {\n",
       "        vertical-align: middle;\n",
       "    }\n",
       "\n",
       "    .dataframe tbody tr th {\n",
       "        vertical-align: top;\n",
       "    }\n",
       "\n",
       "    .dataframe thead th {\n",
       "        text-align: right;\n",
       "    }\n",
       "</style>\n",
       "<table border=\"1\" class=\"dataframe\">\n",
       "  <thead>\n",
       "    <tr style=\"text-align: right;\">\n",
       "      <th></th>\n",
       "      <th>actual</th>\n",
       "      <th>name</th>\n",
       "      <th>preds</th>\n",
       "    </tr>\n",
       "  </thead>\n",
       "  <tbody>\n",
       "    <tr>\n",
       "      <th>0</th>\n",
       "      <td>10870319900</td>\n",
       "      <td>Какао</td>\n",
       "      <td>30353982414</td>\n",
       "    </tr>\n",
       "    <tr>\n",
       "      <th>1</th>\n",
       "      <td>25099327340</td>\n",
       "      <td>Кокосовое масло</td>\n",
       "      <td>25610979934</td>\n",
       "    </tr>\n",
       "    <tr>\n",
       "      <th>2</th>\n",
       "      <td>108226207717</td>\n",
       "      <td>Арахис</td>\n",
       "      <td>30045123717</td>\n",
       "    </tr>\n",
       "    <tr>\n",
       "      <th>3</th>\n",
       "      <td>10229837223</td>\n",
       "      <td>Арахисовое масло</td>\n",
       "      <td>62710580548</td>\n",
       "    </tr>\n",
       "    <tr>\n",
       "      <th>4</th>\n",
       "      <td>13469577625</td>\n",
       "      <td>Пальмовое масло</td>\n",
       "      <td>90582255238</td>\n",
       "    </tr>\n",
       "    <tr>\n",
       "      <th>5</th>\n",
       "      <td>163046382909</td>\n",
       "      <td>Соевые бобы</td>\n",
       "      <td>58231299605</td>\n",
       "    </tr>\n",
       "    <tr>\n",
       "      <th>6</th>\n",
       "      <td>54806206589</td>\n",
       "      <td>Соевое масло</td>\n",
       "      <td>48065284985</td>\n",
       "    </tr>\n",
       "    <tr>\n",
       "      <th>7</th>\n",
       "      <td>16516909829</td>\n",
       "      <td>Ячмень</td>\n",
       "      <td>89566477837</td>\n",
       "    </tr>\n",
       "    <tr>\n",
       "      <th>8</th>\n",
       "      <td>244073442574</td>\n",
       "      <td>Маис</td>\n",
       "      <td>13714300255</td>\n",
       "    </tr>\n",
       "    <tr>\n",
       "      <th>9</th>\n",
       "      <td>11156413313</td>\n",
       "      <td>Сорго</td>\n",
       "      <td>30258617943</td>\n",
       "    </tr>\n",
       "    <tr>\n",
       "      <th>10</th>\n",
       "      <td>68059088660</td>\n",
       "      <td>Апельсин</td>\n",
       "      <td>194620003970</td>\n",
       "    </tr>\n",
       "    <tr>\n",
       "      <th>11</th>\n",
       "      <td>329961030410</td>\n",
       "      <td>Говядина</td>\n",
       "      <td>107319356720</td>\n",
       "    </tr>\n",
       "    <tr>\n",
       "      <th>12</th>\n",
       "      <td>123748407816</td>\n",
       "      <td>Хлопок</td>\n",
       "      <td>64301359545</td>\n",
       "    </tr>\n",
       "    <tr>\n",
       "      <th>13</th>\n",
       "      <td>120949088000</td>\n",
       "      <td>Алюминий</td>\n",
       "      <td>154304238529</td>\n",
       "    </tr>\n",
       "    <tr>\n",
       "      <th>14</th>\n",
       "      <td>132949893500</td>\n",
       "      <td>Медь</td>\n",
       "      <td>172989735690</td>\n",
       "    </tr>\n",
       "    <tr>\n",
       "      <th>15</th>\n",
       "      <td>19378702500</td>\n",
       "      <td>Свинец</td>\n",
       "      <td>64533865404</td>\n",
       "    </tr>\n",
       "    <tr>\n",
       "      <th>16</th>\n",
       "      <td>5545392160</td>\n",
       "      <td>Олово</td>\n",
       "      <td>22487466943</td>\n",
       "    </tr>\n",
       "    <tr>\n",
       "      <th>17</th>\n",
       "      <td>23620168000</td>\n",
       "      <td>Никель</td>\n",
       "      <td>104706704575</td>\n",
       "    </tr>\n",
       "    <tr>\n",
       "      <th>18</th>\n",
       "      <td>27325323000</td>\n",
       "      <td>Цинк</td>\n",
       "      <td>64070647689</td>\n",
       "    </tr>\n",
       "    <tr>\n",
       "      <th>19</th>\n",
       "      <td>125527995466</td>\n",
       "      <td>Золото</td>\n",
       "      <td>67007831415</td>\n",
       "    </tr>\n",
       "    <tr>\n",
       "      <th>20</th>\n",
       "      <td>6237527728</td>\n",
       "      <td>Платина</td>\n",
       "      <td>49123455831</td>\n",
       "    </tr>\n",
       "    <tr>\n",
       "      <th>21</th>\n",
       "      <td>14512086</td>\n",
       "      <td>Серебро</td>\n",
       "      <td>176990004190</td>\n",
       "    </tr>\n",
       "    <tr>\n",
       "      <th>22</th>\n",
       "      <td>1791679</td>\n",
       "      <td>Сырая нефть</td>\n",
       "      <td>83645007848</td>\n",
       "    </tr>\n",
       "  </tbody>\n",
       "</table>\n",
       "</div>"
      ],
      "text/plain": [
       "          actual              name         preds\n",
       "0    10870319900             Какао   30353982414\n",
       "1    25099327340   Кокосовое масло   25610979934\n",
       "2   108226207717            Арахис   30045123717\n",
       "3    10229837223  Арахисовое масло   62710580548\n",
       "4    13469577625   Пальмовое масло   90582255238\n",
       "5   163046382909       Соевые бобы   58231299605\n",
       "6    54806206589      Соевое масло   48065284985\n",
       "7    16516909829            Ячмень   89566477837\n",
       "8   244073442574              Маис   13714300255\n",
       "9    11156413313             Сорго   30258617943\n",
       "10   68059088660          Апельсин  194620003970\n",
       "11  329961030410          Говядина  107319356720\n",
       "12  123748407816            Хлопок   64301359545\n",
       "13  120949088000          Алюминий  154304238529\n",
       "14  132949893500              Медь  172989735690\n",
       "15   19378702500            Свинец   64533865404\n",
       "16    5545392160             Олово   22487466943\n",
       "17   23620168000            Никель  104706704575\n",
       "18   27325323000              Цинк   64070647689\n",
       "19  125527995466            Золото   67007831415\n",
       "20    6237527728           Платина   49123455831\n",
       "21      14512086           Серебро  176990004190\n",
       "22       1791679       Сырая нефть   83645007848"
      ]
     },
     "execution_count": 166,
     "metadata": {},
     "output_type": "execute_result"
    }
   ],
   "source": [
    "predss = pd.DataFrame(pred_data)\n",
    "predss"
   ]
  },
  {
   "cell_type": "code",
   "execution_count": 179,
   "metadata": {},
   "outputs": [
    {
     "data": {
      "text/plain": [
       "<matplotlib.collections.PathCollection at 0x7fbc5b07d278>"
      ]
     },
     "execution_count": 179,
     "metadata": {},
     "output_type": "execute_result"
    },
    {
     "data": {
      "image/png": "[encoded data removed]",
      "text/plain": [
       "<Figure size 432x288 with 1 Axes>"
      ]
     },
     "metadata": {
      "needs_background": "light"
     },
     "output_type": "display_data"
    }
   ],
   "source": [
    "plt.plot(predss.name, predss.actual)\n",
    "plt.scatter(predss.name, predss.preds)"
   ]
  },
  {
   "cell_type": "code",
   "execution_count": 251,
   "metadata": {},
   "outputs": [
    {
     "data": {
      "text/plain": [
       "13714300255"
      ]
     },
     "execution_count": 251,
     "metadata": {},
     "output_type": "execute_result"
    }
   ],
   "source": [
    "predss.preds.min()"
   ]
  },
  {
   "cell_type": "code",
   "execution_count": 233,
   "metadata": {},
   "outputs": [
    {
     "data": {
      "text/plain": [
       "-0.21574249948156532"
      ]
     },
     "execution_count": 233,
     "metadata": {},
     "output_type": "execute_result"
    },
    {
     "data": {
      "image/png": "[encoded data removed]",
      "text/plain": [
       "<Figure size 432x288 with 1 Axes>"
      ]
     },
     "metadata": {
      "needs_background": "light"
     },
     "output_type": "display_data"
    }
   ],
   "source": [
    "plt.plot(predss.name, predss.actual)\n",
    "plt.scatter(predss.name, (np.cos(predss.preds-1000000)*500000+10)**2**1/2)\n",
    "r2_score(predss.actual, (np.cos(predss.preds-1000000)*500000+10)**2**1/2)"
   ]
  },
  {
   "cell_type": "code",
   "execution_count": 246,
   "metadata": {},
   "outputs": [
    {
     "data": {
      "text/plain": [
       "-0.2576314583695434"
      ]
     },
     "execution_count": 246,
     "metadata": {},
     "output_type": "execute_result"
    },
    {
     "data": {
      "image/png": "[encoded data removed]",
      "text/plain": [
       "<Figure size 432x288 with 1 Axes>"
      ]
     },
     "metadata": {
      "needs_background": "light"
     },
     "output_type": "display_data"
    }
   ],
   "source": [
    "plt.plot(predss.name, predss.actual)\n",
    "plt.scatter(predss.name, (np.sin(predss.preds*0.9-1000000)*500000+10)**2**1/2+10000000000)\n",
    "r2_score(predss.actual, (np.sin(predss.preds*0.9-1000000)*500000+10)**2**1/2+ 10000000000)"
   ]
  },
  {
   "cell_type": "code",
   "execution_count": 445,
   "metadata": {},
   "outputs": [
    {
     "data": {
      "text/plain": [
       "-0.13938290377898688"
      ]
     },
     "execution_count": 445,
     "metadata": {},
     "output_type": "execute_result"
    },
    {
     "data": {
      "image/png": "[encoded data removed]",
      "text/plain": [
       "<Figure size 432x288 with 1 Axes>"
      ]
     },
     "metadata": {
      "needs_background": "light"
     },
     "output_type": "display_data"
    }
   ],
   "source": [
    "plt.plot(predss.name, predss.actual)\n",
    "plt.scatter(predss.name, (np.cos(predss.preds*0.9-1000000)*500000+10)**2**1/2+10000000000)\n",
    "r2_score(predss.actual, (np.cos(predss.preds*0.9-1000000)*500000+10)**2**1/2+ 10000000000)\n",
    "# ((np.cos(predss.preds*0.9-1000000)*500000+10)**2**1/2+ 10000000000).min()"
   ]
  },
  {
   "cell_type": "code",
   "execution_count": 249,
   "metadata": {},
   "outputs": [
    {
     "data": {
      "text/plain": [
       "10627209493.244009"
      ]
     },
     "execution_count": 249,
     "metadata": {},
     "output_type": "execute_result"
    }
   ],
   "source": [
    "#min\n",
    "((np.cos(predss.preds*0.9-1000000)*500000+10)**2**1/2+ 10000000000).min()"
   ]
  },
  {
   "cell_type": "code",
   "execution_count": null,
   "metadata": {},
   "outputs": [],
   "source": []
  },
  {
   "cell_type": "code",
   "execution_count": 171,
   "metadata": {},
   "outputs": [
    {
     "data": {
      "text/plain": [
       "1.0000163398996378"
      ]
     },
     "execution_count": 171,
     "metadata": {},
     "output_type": "execute_result"
    }
   ],
   "source": [
    "r2_score(predss.actual, predss.preds)"
   ]
  },
  {
   "cell_type": "code",
   "execution_count": 210,
   "metadata": {},
   "outputs": [
    {
     "data": {
      "text/plain": [
       "-0.49359674050013713"
      ]
     },
     "execution_count": 210,
     "metadata": {},
     "output_type": "execute_result"
    }
   ],
   "source": [
    "r2_score(predss.actual, (np.cos(predss.preds)*600000)**2**1/2)"
   ]
  },
  {
   "cell_type": "code",
   "execution_count": null,
   "metadata": {},
   "outputs": [],
   "source": [
    "\n"
   ]
  },
  {
   "cell_type": "code",
   "execution_count": null,
   "metadata": {},
   "outputs": [],
   "source": []
  },
  {
   "cell_type": "code",
   "execution_count": 252,
   "metadata": {},
   "outputs": [],
   "source": [
    "\n",
    "X_2017 = data_16_17.sort_values(by='freq_sum')[['freq_sum', 'freq_sum_t-1']]\n",
    "y_2017 = data_16_17.sort_values(by='freq_sum')['market']"
   ]
  },
  {
   "cell_type": "code",
   "execution_count": 253,
   "metadata": {},
   "outputs": [],
   "source": [
    "clf = KNeighborsRegressor(n_neighbors=3, \n",
    "                                  metric='minkowski' # default\n",
    "                                 ).fit(X_2017, y_2017)\n"
   ]
  },
  {
   "cell_type": "code",
   "execution_count": 279,
   "metadata": {},
   "outputs": [],
   "source": [
    "X_test = pd.DataFrame([{'freq_sum':10000, 'freq_sum_t-1':11000}])"
   ]
  },
  {
   "cell_type": "code",
   "execution_count": 280,
   "metadata": {},
   "outputs": [
    {
     "data": {
      "text/html": [
       "<div>\n",
       "<style scoped>\n",
       "    .dataframe tbody tr th:only-of-type {\n",
       "        vertical-align: middle;\n",
       "    }\n",
       "\n",
       "    .dataframe tbody tr th {\n",
       "        vertical-align: top;\n",
       "    }\n",
       "\n",
       "    .dataframe thead th {\n",
       "        text-align: right;\n",
       "    }\n",
       "</style>\n",
       "<table border=\"1\" class=\"dataframe\">\n",
       "  <thead>\n",
       "    <tr style=\"text-align: right;\">\n",
       "      <th></th>\n",
       "      <th>freq_sum</th>\n",
       "      <th>freq_sum_t-1</th>\n",
       "    </tr>\n",
       "  </thead>\n",
       "  <tbody>\n",
       "    <tr>\n",
       "      <th>0</th>\n",
       "      <td>10000</td>\n",
       "      <td>11000</td>\n",
       "    </tr>\n",
       "  </tbody>\n",
       "</table>\n",
       "</div>"
      ],
      "text/plain": [
       "   freq_sum  freq_sum_t-1\n",
       "0     10000         11000"
      ]
     },
     "execution_count": 280,
     "metadata": {},
     "output_type": "execute_result"
    }
   ],
   "source": [
    "X_test"
   ]
  },
  {
   "cell_type": "code",
   "execution_count": null,
   "metadata": {},
   "outputs": [],
   "source": []
  },
  {
   "cell_type": "code",
   "execution_count": 438,
   "metadata": {},
   "outputs": [],
   "source": [
    "expected_values = []\n",
    "# freqs = [5, 10, 100, 1000, 5000, 10000, 25000, 50000, 100000, 500000, 1000000]\n",
    "freqs = []\n",
    "for power in range(21):\n",
    "    freqs.append(2**power)"
   ]
  },
  {
   "cell_type": "code",
   "execution_count": 439,
   "metadata": {},
   "outputs": [],
   "source": [
    "from random import seed\n",
    "from random import randint\n",
    "values = [-1, 1, 0]\n",
    "freqs_prev = np.array(freqs)*0.99999 + np.random.choice(values, p = [0.4, 0.4, 0.2])"
   ]
  },
  {
   "cell_type": "code",
   "execution_count": null,
   "metadata": {},
   "outputs": [],
   "source": []
  },
  {
   "cell_type": "code",
   "execution_count": 446,
   "metadata": {},
   "outputs": [],
   "source": [
    "preds = []\n",
    "for i in range(len(freqs_prev)-1):\n",
    "    X_test = pd.DataFrame([{'freq_sum':freqs[i], 'freq_sum_t-1':freqs_prev[i]}])\n",
    "    Y_preds = int(clf.predict(X_test))\n",
    "    Y_preds_m = (np.cos(Y_preds*0.9-1000000)*500000+10)**2**1/2+ 10000000000\n",
    "    preds.append({'X':int(X_test.freq_sum), 'pred':Y_preds, \"modify\":Y_preds_m})"
   ]
  },
  {
   "cell_type": "code",
   "execution_count": 447,
   "metadata": {},
   "outputs": [
    {
     "data": {
      "text/html": [
       "<div>\n",
       "<style scoped>\n",
       "    .dataframe tbody tr th:only-of-type {\n",
       "        vertical-align: middle;\n",
       "    }\n",
       "\n",
       "    .dataframe tbody tr th {\n",
       "        vertical-align: top;\n",
       "    }\n",
       "\n",
       "    .dataframe thead th {\n",
       "        text-align: right;\n",
       "    }\n",
       "</style>\n",
       "<table border=\"1\" class=\"dataframe\">\n",
       "  <thead>\n",
       "    <tr style=\"text-align: right;\">\n",
       "      <th></th>\n",
       "      <th>X</th>\n",
       "      <th>modify</th>\n",
       "      <th>pred</th>\n",
       "    </tr>\n",
       "  </thead>\n",
       "  <tbody>\n",
       "    <tr>\n",
       "      <th>0</th>\n",
       "      <td>1</td>\n",
       "      <td>3.363260e+10</td>\n",
       "      <td>57754083843</td>\n",
       "    </tr>\n",
       "    <tr>\n",
       "      <th>1</th>\n",
       "      <td>2</td>\n",
       "      <td>3.363260e+10</td>\n",
       "      <td>57754083843</td>\n",
       "    </tr>\n",
       "    <tr>\n",
       "      <th>2</th>\n",
       "      <td>4</td>\n",
       "      <td>3.363260e+10</td>\n",
       "      <td>57754083843</td>\n",
       "    </tr>\n",
       "    <tr>\n",
       "      <th>3</th>\n",
       "      <td>8</td>\n",
       "      <td>3.363260e+10</td>\n",
       "      <td>57754083843</td>\n",
       "    </tr>\n",
       "    <tr>\n",
       "      <th>4</th>\n",
       "      <td>16</td>\n",
       "      <td>3.363260e+10</td>\n",
       "      <td>57754083843</td>\n",
       "    </tr>\n",
       "    <tr>\n",
       "      <th>5</th>\n",
       "      <td>32</td>\n",
       "      <td>3.363260e+10</td>\n",
       "      <td>57754083843</td>\n",
       "    </tr>\n",
       "    <tr>\n",
       "      <th>6</th>\n",
       "      <td>64</td>\n",
       "      <td>3.363260e+10</td>\n",
       "      <td>57754083843</td>\n",
       "    </tr>\n",
       "    <tr>\n",
       "      <th>7</th>\n",
       "      <td>128</td>\n",
       "      <td>3.363260e+10</td>\n",
       "      <td>57754083843</td>\n",
       "    </tr>\n",
       "    <tr>\n",
       "      <th>8</th>\n",
       "      <td>256</td>\n",
       "      <td>3.363260e+10</td>\n",
       "      <td>57754083843</td>\n",
       "    </tr>\n",
       "    <tr>\n",
       "      <th>9</th>\n",
       "      <td>512</td>\n",
       "      <td>3.363260e+10</td>\n",
       "      <td>57754083843</td>\n",
       "    </tr>\n",
       "    <tr>\n",
       "      <th>10</th>\n",
       "      <td>1024</td>\n",
       "      <td>2.470027e+10</td>\n",
       "      <td>15708686851</td>\n",
       "    </tr>\n",
       "    <tr>\n",
       "      <th>11</th>\n",
       "      <td>2048</td>\n",
       "      <td>4.393554e+10</td>\n",
       "      <td>89566477837</td>\n",
       "    </tr>\n",
       "    <tr>\n",
       "      <th>12</th>\n",
       "      <td>4096</td>\n",
       "      <td>7.910900e+10</td>\n",
       "      <td>11843959871</td>\n",
       "    </tr>\n",
       "    <tr>\n",
       "      <th>13</th>\n",
       "      <td>8192</td>\n",
       "      <td>1.019951e+10</td>\n",
       "      <td>71330624636</td>\n",
       "    </tr>\n",
       "    <tr>\n",
       "      <th>14</th>\n",
       "      <td>16384</td>\n",
       "      <td>5.478520e+10</td>\n",
       "      <td>42396135802</td>\n",
       "    </tr>\n",
       "    <tr>\n",
       "      <th>15</th>\n",
       "      <td>32768</td>\n",
       "      <td>1.477112e+10</td>\n",
       "      <td>176990004190</td>\n",
       "    </tr>\n",
       "    <tr>\n",
       "      <th>16</th>\n",
       "      <td>65536</td>\n",
       "      <td>4.817793e+10</td>\n",
       "      <td>64533865404</td>\n",
       "    </tr>\n",
       "    <tr>\n",
       "      <th>17</th>\n",
       "      <td>131072</td>\n",
       "      <td>4.817793e+10</td>\n",
       "      <td>64533865404</td>\n",
       "    </tr>\n",
       "    <tr>\n",
       "      <th>18</th>\n",
       "      <td>262144</td>\n",
       "      <td>4.817793e+10</td>\n",
       "      <td>64533865404</td>\n",
       "    </tr>\n",
       "    <tr>\n",
       "      <th>19</th>\n",
       "      <td>524288</td>\n",
       "      <td>9.213549e+10</td>\n",
       "      <td>48307070017</td>\n",
       "    </tr>\n",
       "  </tbody>\n",
       "</table>\n",
       "</div>"
      ],
      "text/plain": [
       "         X        modify          pred\n",
       "0        1  3.363260e+10   57754083843\n",
       "1        2  3.363260e+10   57754083843\n",
       "2        4  3.363260e+10   57754083843\n",
       "3        8  3.363260e+10   57754083843\n",
       "4       16  3.363260e+10   57754083843\n",
       "5       32  3.363260e+10   57754083843\n",
       "6       64  3.363260e+10   57754083843\n",
       "7      128  3.363260e+10   57754083843\n",
       "8      256  3.363260e+10   57754083843\n",
       "9      512  3.363260e+10   57754083843\n",
       "10    1024  2.470027e+10   15708686851\n",
       "11    2048  4.393554e+10   89566477837\n",
       "12    4096  7.910900e+10   11843959871\n",
       "13    8192  1.019951e+10   71330624636\n",
       "14   16384  5.478520e+10   42396135802\n",
       "15   32768  1.477112e+10  176990004190\n",
       "16   65536  4.817793e+10   64533865404\n",
       "17  131072  4.817793e+10   64533865404\n",
       "18  262144  4.817793e+10   64533865404\n",
       "19  524288  9.213549e+10   48307070017"
      ]
     },
     "execution_count": 447,
     "metadata": {},
     "output_type": "execute_result"
    }
   ],
   "source": [
    "preds_df = pd.DataFrame(preds)\n",
    "preds_df"
   ]
  },
  {
   "cell_type": "code",
   "execution_count": 461,
   "metadata": {},
   "outputs": [
    {
     "data": {
      "text/plain": [
       "<matplotlib.collections.PathCollection at 0x7fbc51e54630>"
      ]
     },
     "execution_count": 461,
     "metadata": {},
     "output_type": "execute_result"
    },
    {
     "data": {
      "image/png": "[encoded data removed]",
      "text/plain": [
       "<Figure size 1440x720 with 1 Axes>"
      ]
     },
     "metadata": {
      "needs_background": "light"
     },
     "output_type": "display_data"
    }
   ],
   "source": [
    "plt.figure(figsize=(20,10))\n",
    "plt.plot(preds_df.X, preds_df.pred)\n",
    "plt.plot(preds_df.X, preds_df.modify)\n",
    "plt.scatter(data_16_17.freq_sum, data_16_17.market)"
   ]
  },
  {
   "cell_type": "code",
   "execution_count": 472,
   "metadata": {},
   "outputs": [
    {
     "data": {
      "text/plain": [
       "[57754083843,\n",
       " 57754083843,\n",
       " 57754083843,\n",
       " 57754083843,\n",
       " 57754083843,\n",
       " 57754083843,\n",
       " 57754083843,\n",
       " 57754083843,\n",
       " 57754083843,\n",
       " 57754083843,\n",
       " 15708686851,\n",
       " 89566477837,\n",
       " 11843959871,\n",
       " 71330624636]"
      ]
     },
     "execution_count": 472,
     "metadata": {},
     "output_type": "execute_result"
    }
   ],
   "source": [
    "list(preds_df.pred)[:14]"
   ]
  },
  {
   "cell_type": "code",
   "execution_count": 479,
   "metadata": {},
   "outputs": [
    {
     "data": {
      "text/plain": [
       "14"
      ]
     },
     "execution_count": 479,
     "metadata": {},
     "output_type": "execute_result"
    }
   ],
   "source": [
    "len(data_16_17[data_16_17['freq_sum']<10000])"
   ]
  },
  {
   "cell_type": "code",
   "execution_count": 480,
   "metadata": {},
   "outputs": [
    {
     "data": {
      "text/plain": [
       "14"
      ]
     },
     "execution_count": 480,
     "metadata": {},
     "output_type": "execute_result"
    }
   ],
   "source": [
    "len(list(preds_df.X)[:14])"
   ]
  },
  {
   "cell_type": "code",
   "execution_count": 482,
   "metadata": {},
   "outputs": [
    {
     "data": {
      "text/plain": [
       "<matplotlib.collections.PathCollection at 0x7fbc5179cef0>"
      ]
     },
     "execution_count": 482,
     "metadata": {},
     "output_type": "execute_result"
    },
    {
     "data": {
      "image/png": "[encoded data removed]",
      "text/plain": [
       "<Figure size 432x288 with 1 Axes>"
      ]
     },
     "metadata": {
      "needs_background": "light"
     },
     "output_type": "display_data"
    }
   ],
   "source": [
    "plt.plot(list(preds_df.X)[:15], list(preds_df.pred)[:15])\n",
    "plt.plot(list(preds_df.X)[:15], list(preds_df.modify)[:15])\n",
    "plt.scatter(data_16_17[data_16_17['freq_sum']<10000].freq_sum, data_16_17[data_16_17['freq_sum']<10000].market)"
   ]
  },
  {
   "cell_type": "code",
   "execution_count": null,
   "metadata": {},
   "outputs": [],
   "source": []
  }
 ],
 "metadata": {
  "kernelspec": {
   "display_name": "Python 3",
   "language": "python",
   "name": "python3"
  },
  "language_info": {
   "codemirror_mode": {
    "name": "ipython",
    "version": 3
   },
   "file_extension": ".py",
   "mimetype": "text/x-python",
   "name": "python",
   "nbconvert_exporter": "python",
   "pygments_lexer": "ipython3",
   "version": "3.6.8"
  }
 },
 "nbformat": 4,
 "nbformat_minor": 2
}
