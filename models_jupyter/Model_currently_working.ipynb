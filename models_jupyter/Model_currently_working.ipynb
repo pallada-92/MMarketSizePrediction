{
 "cells": [
  {
   "cell_type": "code",
   "execution_count": 1,
   "metadata": {},
   "outputs": [],
   "source": [
    "import pandas as pd\n",
    "import numpy as np\n",
    "from numpy import ravel\n",
    "from numpy import unique\n",
    "from numpy import transpose\n",
    "from matplotlib import pyplot as plt\n",
    "from sklearn.metrics import r2_score"
   ]
  },
  {
   "cell_type": "code",
   "execution_count": 2,
   "metadata": {},
   "outputs": [],
   "source": [
    "url = \"https://docs.google.com/spreadsheets/d/e/2PACX-1vQ5JE66pQB1KJItYr2QUVldTeOGDUfgWwV8u5VdmGkkm6fjZgwCU0-owOzBFakl_aYfsF2aL6xNxRwc/pub?gid=161992597&single=true&output=csv\"\n",
    "colmns = [\"name\", \"date\", \"freq_sum\", \"market\", \"t\"]\n",
    "\n",
    "data = pd.read_csv(url, usecols = colmns)\n",
    "unique_items = data.loc[:, \"name\"].unique()\n",
    "data['freq_sum_log10'] = np.log10(data['freq_sum'])\n",
    "data['market_log10'] = np.log10(data['market'])\n",
    "#data_ = data[(data.loc[:, \"name\"] != 'Серебро') & (data.loc[:, \"name\"] != 'Сырая нефть')]\n",
    "data_ = data.copy(deep = True)"
   ]
  },
  {
   "cell_type": "markdown",
   "metadata": {},
   "source": [
    "На всех данных (без исключения коммодов)"
   ]
  },
  {
   "cell_type": "code",
   "execution_count": 3,
   "metadata": {},
   "outputs": [
    {
     "data": {
      "text/plain": [
       "0.015817716624768385"
      ]
     },
     "execution_count": 3,
     "metadata": {},
     "output_type": "execute_result"
    },
    {
     "data": {
      "image/png": "[encoded data removed]",
      "text/plain": [
       "<Figure size 432x288 with 1 Axes>"
      ]
     },
     "metadata": {
      "needs_background": "light"
     },
     "output_type": "display_data"
    }
   ],
   "source": [
    "from sklearn.isotonic import IsotonicRegression\n",
    "\n",
    "iso_model = IsotonicRegression(out_of_bounds='clip')\n",
    "data2017 = np.array(\n",
    "    data_[data_['t'] == 20]\n",
    "        .loc[:, ['freq_sum_log10', 'market_log10']]\n",
    "        .sort_values(by='freq_sum_log10'))\n",
    "X_2017 = data2017[:, 0]\n",
    "y_2017 = data2017[:, 1]\n",
    "iso_model.fit(X_2017, y_2017)\n",
    "plt.plot(X_2017, iso_model.predict(X_2017))\n",
    "plt.scatter(X_2017, y_2017)\n",
    "r2_score(y_2017, iso_model.predict(X_2017))"
   ]
  },
  {
   "cell_type": "markdown",
   "metadata": {},
   "source": [
    "На данных с `На данных с iloc[9:,]`"
   ]
  },
  {
   "cell_type": "code",
   "execution_count": 4,
   "metadata": {},
   "outputs": [
    {
     "data": {
      "text/plain": [
       "0.04568299750814475"
      ]
     },
     "execution_count": 4,
     "metadata": {},
     "output_type": "execute_result"
    },
    {
     "data": {
      "image/png": "[encoded data removed]",
      "text/plain": [
       "<Figure size 432x288 with 1 Axes>"
      ]
     },
     "metadata": {
      "needs_background": "light"
     },
     "output_type": "display_data"
    }
   ],
   "source": [
    "from sklearn.isotonic import IsotonicRegression\n",
    "\n",
    "iso_model = IsotonicRegression(out_of_bounds='clip')\n",
    "data2017 = np.array(data_[data_['t'] == 20].\n",
    "                    loc[:, ['freq_sum_log10', 'market_log10']].\n",
    "                    sort_values(by='freq_sum_log10').\n",
    "                    iloc[9:,])\n",
    "X_2017 = data2017[:, 0]\n",
    "y_2017 = data2017[:, 1]\n",
    "iso_model.fit(X_2017, y_2017)\n",
    "plt.plot(X_2017, iso_model.predict(X_2017))\n",
    "plt.scatter(X_2017, y_2017)\n",
    "r2_score(y_2017, iso_model.predict(X_2017))"
   ]
  },
  {
   "cell_type": "markdown",
   "metadata": {},
   "source": [
    "На данных с отбором"
   ]
  },
  {
   "cell_type": "code",
   "execution_count": 5,
   "metadata": {},
   "outputs": [],
   "source": [
    "data_2 = data[(data.loc[:, \"name\"] != 'Серебро') & (data.loc[:, \"name\"] != 'Сырая нефть')]"
   ]
  },
  {
   "cell_type": "code",
   "execution_count": 6,
   "metadata": {},
   "outputs": [
    {
     "data": {
      "text/html": [
       "<div>\n",
       "<style scoped>\n",
       "    .dataframe tbody tr th:only-of-type {\n",
       "        vertical-align: middle;\n",
       "    }\n",
       "\n",
       "    .dataframe tbody tr th {\n",
       "        vertical-align: top;\n",
       "    }\n",
       "\n",
       "    .dataframe thead th {\n",
       "        text-align: right;\n",
       "    }\n",
       "</style>\n",
       "<table border=\"1\" class=\"dataframe\">\n",
       "  <thead>\n",
       "    <tr style=\"text-align: right;\">\n",
       "      <th></th>\n",
       "      <th>name</th>\n",
       "      <th>date</th>\n",
       "      <th>t</th>\n",
       "      <th>freq_sum</th>\n",
       "      <th>market</th>\n",
       "      <th>freq_sum_log10</th>\n",
       "      <th>market_log10</th>\n",
       "    </tr>\n",
       "  </thead>\n",
       "  <tbody>\n",
       "    <tr>\n",
       "      <th>64</th>\n",
       "      <td>Арахисовое масло</td>\n",
       "      <td>2002</td>\n",
       "      <td>5</td>\n",
       "      <td>2</td>\n",
       "      <td>8015933565</td>\n",
       "      <td>0.301030</td>\n",
       "      <td>9.903954</td>\n",
       "    </tr>\n",
       "    <tr>\n",
       "      <th>62</th>\n",
       "      <td>Арахисовое масло</td>\n",
       "      <td>2000</td>\n",
       "      <td>3</td>\n",
       "      <td>2</td>\n",
       "      <td>7388859185</td>\n",
       "      <td>0.301030</td>\n",
       "      <td>9.868577</td>\n",
       "    </tr>\n",
       "    <tr>\n",
       "      <th>63</th>\n",
       "      <td>Арахисовое масло</td>\n",
       "      <td>2001</td>\n",
       "      <td>4</td>\n",
       "      <td>4</td>\n",
       "      <td>8469893835</td>\n",
       "      <td>0.602060</td>\n",
       "      <td>9.927878</td>\n",
       "    </tr>\n",
       "    <tr>\n",
       "      <th>20</th>\n",
       "      <td>Кокосовое масло</td>\n",
       "      <td>1998</td>\n",
       "      <td>1</td>\n",
       "      <td>5</td>\n",
       "      <td>3091766871</td>\n",
       "      <td>0.698970</td>\n",
       "      <td>9.490207</td>\n",
       "    </tr>\n",
       "    <tr>\n",
       "      <th>69</th>\n",
       "      <td>Арахисовое масло</td>\n",
       "      <td>2007</td>\n",
       "      <td>10</td>\n",
       "      <td>6</td>\n",
       "      <td>12037908567</td>\n",
       "      <td>0.778151</td>\n",
       "      <td>10.080551</td>\n",
       "    </tr>\n",
       "    <tr>\n",
       "      <th>60</th>\n",
       "      <td>Арахисовое масло</td>\n",
       "      <td>1998</td>\n",
       "      <td>1</td>\n",
       "      <td>6</td>\n",
       "      <td>8675010644</td>\n",
       "      <td>0.778151</td>\n",
       "      <td>9.938270</td>\n",
       "    </tr>\n",
       "    <tr>\n",
       "      <th>61</th>\n",
       "      <td>Арахисовое масло</td>\n",
       "      <td>1999</td>\n",
       "      <td>2</td>\n",
       "      <td>6</td>\n",
       "      <td>7352635712</td>\n",
       "      <td>0.778151</td>\n",
       "      <td>9.866443</td>\n",
       "    </tr>\n",
       "    <tr>\n",
       "      <th>23</th>\n",
       "      <td>Кокосовое масло</td>\n",
       "      <td>2001</td>\n",
       "      <td>4</td>\n",
       "      <td>7</td>\n",
       "      <td>1712177612</td>\n",
       "      <td>0.845098</td>\n",
       "      <td>9.233549</td>\n",
       "    </tr>\n",
       "    <tr>\n",
       "      <th>67</th>\n",
       "      <td>Арахисовое масло</td>\n",
       "      <td>2005</td>\n",
       "      <td>8</td>\n",
       "      <td>8</td>\n",
       "      <td>11282124688</td>\n",
       "      <td>0.903090</td>\n",
       "      <td>10.052391</td>\n",
       "    </tr>\n",
       "    <tr>\n",
       "      <th>24</th>\n",
       "      <td>Кокосовое масло</td>\n",
       "      <td>2002</td>\n",
       "      <td>5</td>\n",
       "      <td>9</td>\n",
       "      <td>1962368755</td>\n",
       "      <td>0.954243</td>\n",
       "      <td>9.292781</td>\n",
       "    </tr>\n",
       "    <tr>\n",
       "      <th>72</th>\n",
       "      <td>Арахисовое масло</td>\n",
       "      <td>2010</td>\n",
       "      <td>13</td>\n",
       "      <td>10</td>\n",
       "      <td>11835742974</td>\n",
       "      <td>1.000000</td>\n",
       "      <td>10.073196</td>\n",
       "    </tr>\n",
       "    <tr>\n",
       "      <th>45</th>\n",
       "      <td>Арахис</td>\n",
       "      <td>2003</td>\n",
       "      <td>6</td>\n",
       "      <td>12</td>\n",
       "      <td>68661109969</td>\n",
       "      <td>1.079181</td>\n",
       "      <td>10.836711</td>\n",
       "    </tr>\n",
       "    <tr>\n",
       "      <th>68</th>\n",
       "      <td>Арахисовое масло</td>\n",
       "      <td>2006</td>\n",
       "      <td>9</td>\n",
       "      <td>12</td>\n",
       "      <td>8592475235</td>\n",
       "      <td>1.079181</td>\n",
       "      <td>9.934118</td>\n",
       "    </tr>\n",
       "    <tr>\n",
       "      <th>22</th>\n",
       "      <td>Кокосовое масло</td>\n",
       "      <td>2000</td>\n",
       "      <td>3</td>\n",
       "      <td>13</td>\n",
       "      <td>2110103228</td>\n",
       "      <td>1.113943</td>\n",
       "      <td>9.324304</td>\n",
       "    </tr>\n",
       "    <tr>\n",
       "      <th>71</th>\n",
       "      <td>Арахисовое масло</td>\n",
       "      <td>2009</td>\n",
       "      <td>12</td>\n",
       "      <td>13</td>\n",
       "      <td>10458901965</td>\n",
       "      <td>1.113943</td>\n",
       "      <td>10.019486</td>\n",
       "    </tr>\n",
       "    <tr>\n",
       "      <th>65</th>\n",
       "      <td>Арахисовое масло</td>\n",
       "      <td>2003</td>\n",
       "      <td>6</td>\n",
       "      <td>15</td>\n",
       "      <td>13320489040</td>\n",
       "      <td>1.176091</td>\n",
       "      <td>10.124520</td>\n",
       "    </tr>\n",
       "    <tr>\n",
       "      <th>0</th>\n",
       "      <td>Какао</td>\n",
       "      <td>1998</td>\n",
       "      <td>1</td>\n",
       "      <td>16</td>\n",
       "      <td>6737791560</td>\n",
       "      <td>1.204120</td>\n",
       "      <td>9.828518</td>\n",
       "    </tr>\n",
       "    <tr>\n",
       "      <th>41</th>\n",
       "      <td>Арахис</td>\n",
       "      <td>1999</td>\n",
       "      <td>2</td>\n",
       "      <td>16</td>\n",
       "      <td>52724617953</td>\n",
       "      <td>1.204120</td>\n",
       "      <td>10.722013</td>\n",
       "    </tr>\n",
       "    <tr>\n",
       "      <th>66</th>\n",
       "      <td>Арахисовое масло</td>\n",
       "      <td>2004</td>\n",
       "      <td>7</td>\n",
       "      <td>17</td>\n",
       "      <td>12423691059</td>\n",
       "      <td>1.230449</td>\n",
       "      <td>10.094251</td>\n",
       "    </tr>\n",
       "    <tr>\n",
       "      <th>73</th>\n",
       "      <td>Арахисовое масло</td>\n",
       "      <td>2011</td>\n",
       "      <td>14</td>\n",
       "      <td>20</td>\n",
       "      <td>13815375267</td>\n",
       "      <td>1.301030</td>\n",
       "      <td>10.140363</td>\n",
       "    </tr>\n",
       "    <tr>\n",
       "      <th>21</th>\n",
       "      <td>Кокосовое масло</td>\n",
       "      <td>1999</td>\n",
       "      <td>2</td>\n",
       "      <td>20</td>\n",
       "      <td>2758724610</td>\n",
       "      <td>1.301030</td>\n",
       "      <td>9.440708</td>\n",
       "    </tr>\n",
       "    <tr>\n",
       "      <th>76</th>\n",
       "      <td>Арахисовое масло</td>\n",
       "      <td>2014</td>\n",
       "      <td>17</td>\n",
       "      <td>24</td>\n",
       "      <td>9821351567</td>\n",
       "      <td>1.380211</td>\n",
       "      <td>9.992171</td>\n",
       "    </tr>\n",
       "    <tr>\n",
       "      <th>70</th>\n",
       "      <td>Арахисовое масло</td>\n",
       "      <td>2008</td>\n",
       "      <td>11</td>\n",
       "      <td>25</td>\n",
       "      <td>16413091574</td>\n",
       "      <td>1.397940</td>\n",
       "      <td>10.215190</td>\n",
       "    </tr>\n",
       "    <tr>\n",
       "      <th>74</th>\n",
       "      <td>Арахисовое масло</td>\n",
       "      <td>2012</td>\n",
       "      <td>15</td>\n",
       "      <td>25</td>\n",
       "      <td>17300249229</td>\n",
       "      <td>1.397940</td>\n",
       "      <td>10.238052</td>\n",
       "    </tr>\n",
       "    <tr>\n",
       "      <th>26</th>\n",
       "      <td>Кокосовое масло</td>\n",
       "      <td>2004</td>\n",
       "      <td>7</td>\n",
       "      <td>25</td>\n",
       "      <td>3040236845</td>\n",
       "      <td>1.397940</td>\n",
       "      <td>9.482907</td>\n",
       "    </tr>\n",
       "    <tr>\n",
       "      <th>44</th>\n",
       "      <td>Арахис</td>\n",
       "      <td>2002</td>\n",
       "      <td>5</td>\n",
       "      <td>27</td>\n",
       "      <td>50388617106</td>\n",
       "      <td>1.431364</td>\n",
       "      <td>10.702332</td>\n",
       "    </tr>\n",
       "    <tr>\n",
       "      <th>84</th>\n",
       "      <td>Пальмовое масло</td>\n",
       "      <td>2002</td>\n",
       "      <td>5</td>\n",
       "      <td>27</td>\n",
       "      <td>4278235781</td>\n",
       "      <td>1.431364</td>\n",
       "      <td>9.631265</td>\n",
       "    </tr>\n",
       "    <tr>\n",
       "      <th>43</th>\n",
       "      <td>Арахис</td>\n",
       "      <td>2001</td>\n",
       "      <td>4</td>\n",
       "      <td>27</td>\n",
       "      <td>62719498284</td>\n",
       "      <td>1.431364</td>\n",
       "      <td>10.797403</td>\n",
       "    </tr>\n",
       "    <tr>\n",
       "      <th>120</th>\n",
       "      <td>Соевое масло</td>\n",
       "      <td>1998</td>\n",
       "      <td>1</td>\n",
       "      <td>28</td>\n",
       "      <td>22339032771</td>\n",
       "      <td>1.447158</td>\n",
       "      <td>10.349064</td>\n",
       "    </tr>\n",
       "    <tr>\n",
       "      <th>42</th>\n",
       "      <td>Арахис</td>\n",
       "      <td>2000</td>\n",
       "      <td>3</td>\n",
       "      <td>29</td>\n",
       "      <td>59478588181</td>\n",
       "      <td>1.462398</td>\n",
       "      <td>10.774361</td>\n",
       "    </tr>\n",
       "    <tr>\n",
       "      <th>...</th>\n",
       "      <td>...</td>\n",
       "      <td>...</td>\n",
       "      <td>...</td>\n",
       "      <td>...</td>\n",
       "      <td>...</td>\n",
       "      <td>...</td>\n",
       "      <td>...</td>\n",
       "    </tr>\n",
       "    <tr>\n",
       "      <th>217</th>\n",
       "      <td>Апельсин</td>\n",
       "      <td>2015</td>\n",
       "      <td>18</td>\n",
       "      <td>38110</td>\n",
       "      <td>55701785250</td>\n",
       "      <td>4.581039</td>\n",
       "      <td>10.745869</td>\n",
       "    </tr>\n",
       "    <tr>\n",
       "      <th>302</th>\n",
       "      <td>Свинец</td>\n",
       "      <td>2000</td>\n",
       "      <td>3</td>\n",
       "      <td>41417</td>\n",
       "      <td>3754350600</td>\n",
       "      <td>4.617179</td>\n",
       "      <td>9.574535</td>\n",
       "    </tr>\n",
       "    <tr>\n",
       "      <th>391</th>\n",
       "      <td>Золото</td>\n",
       "      <td>2009</td>\n",
       "      <td>12</td>\n",
       "      <td>42580</td>\n",
       "      <td>80747720852</td>\n",
       "      <td>4.629206</td>\n",
       "      <td>10.907130</td>\n",
       "    </tr>\n",
       "    <tr>\n",
       "      <th>390</th>\n",
       "      <td>Золото</td>\n",
       "      <td>2008</td>\n",
       "      <td>11</td>\n",
       "      <td>43678</td>\n",
       "      <td>62137992257</td>\n",
       "      <td>4.640263</td>\n",
       "      <td>10.793357</td>\n",
       "    </tr>\n",
       "    <tr>\n",
       "      <th>303</th>\n",
       "      <td>Свинец</td>\n",
       "      <td>2001</td>\n",
       "      <td>4</td>\n",
       "      <td>44809</td>\n",
       "      <td>4023046000</td>\n",
       "      <td>4.651365</td>\n",
       "      <td>9.604555</td>\n",
       "    </tr>\n",
       "    <tr>\n",
       "      <th>301</th>\n",
       "      <td>Свинец</td>\n",
       "      <td>1999</td>\n",
       "      <td>2</td>\n",
       "      <td>46574</td>\n",
       "      <td>3847982200</td>\n",
       "      <td>4.668144</td>\n",
       "      <td>9.585233</td>\n",
       "    </tr>\n",
       "    <tr>\n",
       "      <th>392</th>\n",
       "      <td>Золото</td>\n",
       "      <td>2010</td>\n",
       "      <td>13</td>\n",
       "      <td>53857</td>\n",
       "      <td>101977821519</td>\n",
       "      <td>4.731242</td>\n",
       "      <td>11.008506</td>\n",
       "    </tr>\n",
       "    <tr>\n",
       "      <th>304</th>\n",
       "      <td>Свинец</td>\n",
       "      <td>2002</td>\n",
       "      <td>5</td>\n",
       "      <td>56032</td>\n",
       "      <td>3822050700</td>\n",
       "      <td>4.748436</td>\n",
       "      <td>9.582296</td>\n",
       "    </tr>\n",
       "    <tr>\n",
       "      <th>393</th>\n",
       "      <td>Золото</td>\n",
       "      <td>2011</td>\n",
       "      <td>14</td>\n",
       "      <td>58521</td>\n",
       "      <td>119496712228</td>\n",
       "      <td>4.767312</td>\n",
       "      <td>11.077356</td>\n",
       "    </tr>\n",
       "    <tr>\n",
       "      <th>305</th>\n",
       "      <td>Свинец</td>\n",
       "      <td>2003</td>\n",
       "      <td>6</td>\n",
       "      <td>67167</td>\n",
       "      <td>4521691200</td>\n",
       "      <td>4.827156</td>\n",
       "      <td>9.655301</td>\n",
       "    </tr>\n",
       "    <tr>\n",
       "      <th>395</th>\n",
       "      <td>Золото</td>\n",
       "      <td>2013</td>\n",
       "      <td>16</td>\n",
       "      <td>76482</td>\n",
       "      <td>121153556757</td>\n",
       "      <td>4.883559</td>\n",
       "      <td>11.083336</td>\n",
       "    </tr>\n",
       "    <tr>\n",
       "      <th>399</th>\n",
       "      <td>Золото</td>\n",
       "      <td>2017</td>\n",
       "      <td>20</td>\n",
       "      <td>78139</td>\n",
       "      <td>125527995466</td>\n",
       "      <td>4.892868</td>\n",
       "      <td>11.098741</td>\n",
       "    </tr>\n",
       "    <tr>\n",
       "      <th>394</th>\n",
       "      <td>Золото</td>\n",
       "      <td>2012</td>\n",
       "      <td>15</td>\n",
       "      <td>81185</td>\n",
       "      <td>133913372249</td>\n",
       "      <td>4.909476</td>\n",
       "      <td>11.126824</td>\n",
       "    </tr>\n",
       "    <tr>\n",
       "      <th>306</th>\n",
       "      <td>Свинец</td>\n",
       "      <td>2004</td>\n",
       "      <td>7</td>\n",
       "      <td>83980</td>\n",
       "      <td>7371676900</td>\n",
       "      <td>4.924176</td>\n",
       "      <td>9.867566</td>\n",
       "    </tr>\n",
       "    <tr>\n",
       "      <th>396</th>\n",
       "      <td>Золото</td>\n",
       "      <td>2014</td>\n",
       "      <td>17</td>\n",
       "      <td>93516</td>\n",
       "      <td>113895616608</td>\n",
       "      <td>4.970886</td>\n",
       "      <td>11.056507</td>\n",
       "    </tr>\n",
       "    <tr>\n",
       "      <th>307</th>\n",
       "      <td>Свинец</td>\n",
       "      <td>2005</td>\n",
       "      <td>8</td>\n",
       "      <td>98382</td>\n",
       "      <td>8505230000</td>\n",
       "      <td>4.992916</td>\n",
       "      <td>9.929686</td>\n",
       "    </tr>\n",
       "    <tr>\n",
       "      <th>397</th>\n",
       "      <td>Золото</td>\n",
       "      <td>2015</td>\n",
       "      <td>18</td>\n",
       "      <td>103436</td>\n",
       "      <td>117818989035</td>\n",
       "      <td>5.014672</td>\n",
       "      <td>11.071215</td>\n",
       "    </tr>\n",
       "    <tr>\n",
       "      <th>398</th>\n",
       "      <td>Золото</td>\n",
       "      <td>2016</td>\n",
       "      <td>19</td>\n",
       "      <td>115039</td>\n",
       "      <td>133237001898</td>\n",
       "      <td>5.060845</td>\n",
       "      <td>11.124625</td>\n",
       "    </tr>\n",
       "    <tr>\n",
       "      <th>308</th>\n",
       "      <td>Свинец</td>\n",
       "      <td>2006</td>\n",
       "      <td>9</td>\n",
       "      <td>118667</td>\n",
       "      <td>11315838000</td>\n",
       "      <td>5.074330</td>\n",
       "      <td>10.053687</td>\n",
       "    </tr>\n",
       "    <tr>\n",
       "      <th>309</th>\n",
       "      <td>Свинец</td>\n",
       "      <td>2007</td>\n",
       "      <td>10</td>\n",
       "      <td>138793</td>\n",
       "      <td>22493536000</td>\n",
       "      <td>5.142368</td>\n",
       "      <td>10.352058</td>\n",
       "    </tr>\n",
       "    <tr>\n",
       "      <th>310</th>\n",
       "      <td>Свинец</td>\n",
       "      <td>2008</td>\n",
       "      <td>11</td>\n",
       "      <td>216851</td>\n",
       "      <td>17870509500</td>\n",
       "      <td>5.336161</td>\n",
       "      <td>10.252137</td>\n",
       "    </tr>\n",
       "    <tr>\n",
       "      <th>311</th>\n",
       "      <td>Свинец</td>\n",
       "      <td>2009</td>\n",
       "      <td>12</td>\n",
       "      <td>217608</td>\n",
       "      <td>15916117600</td>\n",
       "      <td>5.337675</td>\n",
       "      <td>10.201837</td>\n",
       "    </tr>\n",
       "    <tr>\n",
       "      <th>312</th>\n",
       "      <td>Свинец</td>\n",
       "      <td>2010</td>\n",
       "      <td>13</td>\n",
       "      <td>242448</td>\n",
       "      <td>20646604500</td>\n",
       "      <td>5.384619</td>\n",
       "      <td>10.314849</td>\n",
       "    </tr>\n",
       "    <tr>\n",
       "      <th>313</th>\n",
       "      <td>Свинец</td>\n",
       "      <td>2011</td>\n",
       "      <td>14</td>\n",
       "      <td>307582</td>\n",
       "      <td>22054032000</td>\n",
       "      <td>5.487961</td>\n",
       "      <td>10.343488</td>\n",
       "    </tr>\n",
       "    <tr>\n",
       "      <th>314</th>\n",
       "      <td>Свинец</td>\n",
       "      <td>2012</td>\n",
       "      <td>15</td>\n",
       "      <td>368046</td>\n",
       "      <td>19479824000</td>\n",
       "      <td>5.565902</td>\n",
       "      <td>10.289585</td>\n",
       "    </tr>\n",
       "    <tr>\n",
       "      <th>315</th>\n",
       "      <td>Свинец</td>\n",
       "      <td>2013</td>\n",
       "      <td>16</td>\n",
       "      <td>387381</td>\n",
       "      <td>20862325000</td>\n",
       "      <td>5.588138</td>\n",
       "      <td>10.319363</td>\n",
       "    </tr>\n",
       "    <tr>\n",
       "      <th>319</th>\n",
       "      <td>Свинец</td>\n",
       "      <td>2017</td>\n",
       "      <td>20</td>\n",
       "      <td>592565</td>\n",
       "      <td>19378702500</td>\n",
       "      <td>5.772736</td>\n",
       "      <td>10.287325</td>\n",
       "    </tr>\n",
       "    <tr>\n",
       "      <th>316</th>\n",
       "      <td>Свинец</td>\n",
       "      <td>2014</td>\n",
       "      <td>17</td>\n",
       "      <td>627674</td>\n",
       "      <td>20519586000</td>\n",
       "      <td>5.797734</td>\n",
       "      <td>10.312169</td>\n",
       "    </tr>\n",
       "    <tr>\n",
       "      <th>317</th>\n",
       "      <td>Свинец</td>\n",
       "      <td>2015</td>\n",
       "      <td>18</td>\n",
       "      <td>836991</td>\n",
       "      <td>18998408000</td>\n",
       "      <td>5.922721</td>\n",
       "      <td>10.278717</td>\n",
       "    </tr>\n",
       "    <tr>\n",
       "      <th>318</th>\n",
       "      <td>Свинец</td>\n",
       "      <td>2016</td>\n",
       "      <td>19</td>\n",
       "      <td>854040</td>\n",
       "      <td>19758997000</td>\n",
       "      <td>5.931478</td>\n",
       "      <td>10.295765</td>\n",
       "    </tr>\n",
       "  </tbody>\n",
       "</table>\n",
       "<p>420 rows × 7 columns</p>\n",
       "</div>"
      ],
      "text/plain": [
       "                 name  date   t  freq_sum        market  freq_sum_log10  \\\n",
       "64   Арахисовое масло  2002   5         2    8015933565        0.301030   \n",
       "62   Арахисовое масло  2000   3         2    7388859185        0.301030   \n",
       "63   Арахисовое масло  2001   4         4    8469893835        0.602060   \n",
       "20    Кокосовое масло  1998   1         5    3091766871        0.698970   \n",
       "69   Арахисовое масло  2007  10         6   12037908567        0.778151   \n",
       "60   Арахисовое масло  1998   1         6    8675010644        0.778151   \n",
       "61   Арахисовое масло  1999   2         6    7352635712        0.778151   \n",
       "23    Кокосовое масло  2001   4         7    1712177612        0.845098   \n",
       "67   Арахисовое масло  2005   8         8   11282124688        0.903090   \n",
       "24    Кокосовое масло  2002   5         9    1962368755        0.954243   \n",
       "72   Арахисовое масло  2010  13        10   11835742974        1.000000   \n",
       "45             Арахис  2003   6        12   68661109969        1.079181   \n",
       "68   Арахисовое масло  2006   9        12    8592475235        1.079181   \n",
       "22    Кокосовое масло  2000   3        13    2110103228        1.113943   \n",
       "71   Арахисовое масло  2009  12        13   10458901965        1.113943   \n",
       "65   Арахисовое масло  2003   6        15   13320489040        1.176091   \n",
       "0               Какао  1998   1        16    6737791560        1.204120   \n",
       "41             Арахис  1999   2        16   52724617953        1.204120   \n",
       "66   Арахисовое масло  2004   7        17   12423691059        1.230449   \n",
       "73   Арахисовое масло  2011  14        20   13815375267        1.301030   \n",
       "21    Кокосовое масло  1999   2        20    2758724610        1.301030   \n",
       "76   Арахисовое масло  2014  17        24    9821351567        1.380211   \n",
       "70   Арахисовое масло  2008  11        25   16413091574        1.397940   \n",
       "74   Арахисовое масло  2012  15        25   17300249229        1.397940   \n",
       "26    Кокосовое масло  2004   7        25    3040236845        1.397940   \n",
       "44             Арахис  2002   5        27   50388617106        1.431364   \n",
       "84    Пальмовое масло  2002   5        27    4278235781        1.431364   \n",
       "43             Арахис  2001   4        27   62719498284        1.431364   \n",
       "120      Соевое масло  1998   1        28   22339032771        1.447158   \n",
       "42             Арахис  2000   3        29   59478588181        1.462398   \n",
       "..                ...   ...  ..       ...           ...             ...   \n",
       "217          Апельсин  2015  18     38110   55701785250        4.581039   \n",
       "302            Свинец  2000   3     41417    3754350600        4.617179   \n",
       "391            Золото  2009  12     42580   80747720852        4.629206   \n",
       "390            Золото  2008  11     43678   62137992257        4.640263   \n",
       "303            Свинец  2001   4     44809    4023046000        4.651365   \n",
       "301            Свинец  1999   2     46574    3847982200        4.668144   \n",
       "392            Золото  2010  13     53857  101977821519        4.731242   \n",
       "304            Свинец  2002   5     56032    3822050700        4.748436   \n",
       "393            Золото  2011  14     58521  119496712228        4.767312   \n",
       "305            Свинец  2003   6     67167    4521691200        4.827156   \n",
       "395            Золото  2013  16     76482  121153556757        4.883559   \n",
       "399            Золото  2017  20     78139  125527995466        4.892868   \n",
       "394            Золото  2012  15     81185  133913372249        4.909476   \n",
       "306            Свинец  2004   7     83980    7371676900        4.924176   \n",
       "396            Золото  2014  17     93516  113895616608        4.970886   \n",
       "307            Свинец  2005   8     98382    8505230000        4.992916   \n",
       "397            Золото  2015  18    103436  117818989035        5.014672   \n",
       "398            Золото  2016  19    115039  133237001898        5.060845   \n",
       "308            Свинец  2006   9    118667   11315838000        5.074330   \n",
       "309            Свинец  2007  10    138793   22493536000        5.142368   \n",
       "310            Свинец  2008  11    216851   17870509500        5.336161   \n",
       "311            Свинец  2009  12    217608   15916117600        5.337675   \n",
       "312            Свинец  2010  13    242448   20646604500        5.384619   \n",
       "313            Свинец  2011  14    307582   22054032000        5.487961   \n",
       "314            Свинец  2012  15    368046   19479824000        5.565902   \n",
       "315            Свинец  2013  16    387381   20862325000        5.588138   \n",
       "319            Свинец  2017  20    592565   19378702500        5.772736   \n",
       "316            Свинец  2014  17    627674   20519586000        5.797734   \n",
       "317            Свинец  2015  18    836991   18998408000        5.922721   \n",
       "318            Свинец  2016  19    854040   19758997000        5.931478   \n",
       "\n",
       "     market_log10  \n",
       "64       9.903954  \n",
       "62       9.868577  \n",
       "63       9.927878  \n",
       "20       9.490207  \n",
       "69      10.080551  \n",
       "60       9.938270  \n",
       "61       9.866443  \n",
       "23       9.233549  \n",
       "67      10.052391  \n",
       "24       9.292781  \n",
       "72      10.073196  \n",
       "45      10.836711  \n",
       "68       9.934118  \n",
       "22       9.324304  \n",
       "71      10.019486  \n",
       "65      10.124520  \n",
       "0        9.828518  \n",
       "41      10.722013  \n",
       "66      10.094251  \n",
       "73      10.140363  \n",
       "21       9.440708  \n",
       "76       9.992171  \n",
       "70      10.215190  \n",
       "74      10.238052  \n",
       "26       9.482907  \n",
       "44      10.702332  \n",
       "84       9.631265  \n",
       "43      10.797403  \n",
       "120     10.349064  \n",
       "42      10.774361  \n",
       "..            ...  \n",
       "217     10.745869  \n",
       "302      9.574535  \n",
       "391     10.907130  \n",
       "390     10.793357  \n",
       "303      9.604555  \n",
       "301      9.585233  \n",
       "392     11.008506  \n",
       "304      9.582296  \n",
       "393     11.077356  \n",
       "305      9.655301  \n",
       "395     11.083336  \n",
       "399     11.098741  \n",
       "394     11.126824  \n",
       "306      9.867566  \n",
       "396     11.056507  \n",
       "307      9.929686  \n",
       "397     11.071215  \n",
       "398     11.124625  \n",
       "308     10.053687  \n",
       "309     10.352058  \n",
       "310     10.252137  \n",
       "311     10.201837  \n",
       "312     10.314849  \n",
       "313     10.343488  \n",
       "314     10.289585  \n",
       "315     10.319363  \n",
       "319     10.287325  \n",
       "316     10.312169  \n",
       "317     10.278717  \n",
       "318     10.295765  \n",
       "\n",
       "[420 rows x 7 columns]"
      ]
     },
     "execution_count": 6,
     "metadata": {},
     "output_type": "execute_result"
    }
   ],
   "source": [
    "data_2.sort_values(by='freq_sum_log10')"
   ]
  },
  {
   "cell_type": "markdown",
   "metadata": {},
   "source": [
    "Скор выше, но сами значения, которые может дать модель, большие"
   ]
  },
  {
   "cell_type": "code",
   "execution_count": 7,
   "metadata": {},
   "outputs": [
    {
     "data": {
      "text/plain": [
       "0.27851011470888887"
      ]
     },
     "execution_count": 7,
     "metadata": {},
     "output_type": "execute_result"
    },
    {
     "data": {
      "image/png": "[encoded data removed]",
      "text/plain": [
       "<Figure size 432x288 with 1 Axes>"
      ]
     },
     "metadata": {
      "needs_background": "light"
     },
     "output_type": "display_data"
    }
   ],
   "source": [
    "from sklearn.isotonic import IsotonicRegression\n",
    "\n",
    "iso_model = IsotonicRegression(out_of_bounds='clip')\n",
    "data2017 = np.array(\n",
    "    data_2[data_2['t'] == 20]\n",
    "        .loc[:, ['freq_sum_log10', 'market_log10']]\n",
    "        .sort_values(by='freq_sum_log10'))\n",
    "X_2017 = data2017[:, 0]\n",
    "y_2017 = data2017[:, 1]\n",
    "iso_model.fit(X_2017, y_2017)\n",
    "plt.plot(X_2017, iso_model.predict(X_2017))\n",
    "plt.scatter(X_2017, y_2017)\n",
    "r2_score(y_2017, iso_model.predict(X_2017))"
   ]
  },
  {
   "cell_type": "code",
   "execution_count": null,
   "metadata": {},
   "outputs": [],
   "source": []
  },
  {
   "cell_type": "code",
   "execution_count": null,
   "metadata": {},
   "outputs": [],
   "source": []
  },
  {
   "cell_type": "markdown",
   "metadata": {},
   "source": [
    "Linear regression"
   ]
  },
  {
   "cell_type": "code",
   "execution_count": 8,
   "metadata": {},
   "outputs": [],
   "source": [
    "from sklearn.linear_model import LinearRegression\n",
    "import statsmodels.api as sm\n",
    "from sklearn.metrics import r2_score"
   ]
  },
  {
   "cell_type": "markdown",
   "metadata": {},
   "source": [
    "Вывод statsmodels позволяет сказать, насколько хорошо модель описывает данные. Предиктор статистически значим"
   ]
  },
  {
   "cell_type": "code",
   "execution_count": 9,
   "metadata": {},
   "outputs": [
    {
     "name": "stdout",
     "output_type": "stream",
     "text": [
      "                            OLS Regression Results                            \n",
      "==============================================================================\n",
      "Dep. Variable:                      y   R-squared:                       0.947\n",
      "Model:                            OLS   Adj. R-squared:                  0.944\n",
      "Method:                 Least Squares   F-statistic:                     358.0\n",
      "Date:                Wed, 26 Feb 2020   Prob (F-statistic):           3.11e-14\n",
      "Time:                        19:56:35   Log-Likelihood:                -48.542\n",
      "No. Observations:                  21   AIC:                             99.08\n",
      "Df Residuals:                      20   BIC:                             100.1\n",
      "Df Model:                           1                                         \n",
      "Covariance Type:            nonrobust                                         \n",
      "==============================================================================\n",
      "                 coef    std err          t      P>|t|      [0.025      0.975]\n",
      "------------------------------------------------------------------------------\n",
      "x1             2.7262      0.144     18.920      0.000       2.426       3.027\n",
      "==============================================================================\n",
      "Omnibus:                        2.023   Durbin-Watson:                   0.211\n",
      "Prob(Omnibus):                  0.364   Jarque-Bera (JB):                0.619\n",
      "Skew:                          -0.018   Prob(JB):                        0.734\n",
      "Kurtosis:                       3.840   Cond. No.                         1.00\n",
      "==============================================================================\n",
      "\n",
      "Warnings:\n",
      "[1] Standard Errors assume that the covariance matrix of the errors is correctly specified.\n"
     ]
    }
   ],
   "source": [
    "mod = sm.OLS(y_2017, X_2017)\n",
    "res = mod.fit()\n",
    "print(res.summary())"
   ]
  },
  {
   "cell_type": "code",
   "execution_count": 10,
   "metadata": {},
   "outputs": [
    {
     "data": {
      "text/plain": [
       "array([[ 1.50514998, 10.00986872],\n",
       "       [ 2.33845649, 11.03433244],\n",
       "       [ 2.78103694, 10.73882974],\n",
       "       [ 2.9740509 , 10.03624233],\n",
       "       [ 3.01452054, 10.39966208],\n",
       "       [ 3.12645611, 10.0475246 ],\n",
       "       [ 3.26339933, 11.38752053],\n",
       "       [ 3.27230584, 10.12935398],\n",
       "       [ 3.38524868, 10.2179288 ],\n",
       "       [ 3.7394141 ,  9.74393226],\n",
       "       [ 3.83689352, 10.4365653 ],\n",
       "       [ 3.9164013 , 10.37328298],\n",
       "       [ 3.96142109, 11.21231117],\n",
       "       [ 3.99799764, 11.09253962],\n",
       "       [ 4.0147305 ,  9.79501249],\n",
       "       [ 4.28996779, 11.0826026 ],\n",
       "       [ 4.38194495, 10.83288613],\n",
       "       [ 4.39539629, 11.51846265],\n",
       "       [ 4.40659127, 11.12368799],\n",
       "       [ 4.89286785, 11.09874059],\n",
       "       [ 5.772736  , 10.2873247 ]])"
      ]
     },
     "execution_count": 10,
     "metadata": {},
     "output_type": "execute_result"
    }
   ],
   "source": [
    "data2017"
   ]
  },
  {
   "cell_type": "code",
   "execution_count": null,
   "metadata": {},
   "outputs": [],
   "source": []
  },
  {
   "cell_type": "code",
   "execution_count": 11,
   "metadata": {},
   "outputs": [
    {
     "data": {
      "text/plain": [
       "0.07388739798210853"
      ]
     },
     "execution_count": 11,
     "metadata": {},
     "output_type": "execute_result"
    }
   ],
   "source": [
    "linear_regressor = LinearRegression(fit_intercept = True)\n",
    "fitt = linear_regressor.fit(X_2017.reshape(-1, 1), y_2017)\n",
    "Y_pred = linear_regressor.predict(X_2017.reshape(-1, 1))\n",
    "r2_score(y_2017.reshape(-1, 1), Y_pred)"
   ]
  },
  {
   "cell_type": "code",
   "execution_count": 12,
   "metadata": {},
   "outputs": [
    {
     "data": {
      "text/plain": [
       "<matplotlib.collections.PathCollection at 0x7fe96eea1e80>"
      ]
     },
     "execution_count": 12,
     "metadata": {},
     "output_type": "execute_result"
    },
    {
     "data": {
      "image/png": "[encoded data removed]",
      "text/plain": [
       "<Figure size 432x288 with 1 Axes>"
      ]
     },
     "metadata": {
      "needs_background": "light"
     },
     "output_type": "display_data"
    }
   ],
   "source": [
    "plt.plot(X_2017, Y_pred)\n",
    "plt.scatter(X_2017, y_2017)"
   ]
  },
  {
   "cell_type": "markdown",
   "metadata": {},
   "source": [
    "## Wrk with original data"
   ]
  },
  {
   "cell_type": "code",
   "execution_count": 13,
   "metadata": {},
   "outputs": [
    {
     "data": {
      "text/html": [
       "<div>\n",
       "<style scoped>\n",
       "    .dataframe tbody tr th:only-of-type {\n",
       "        vertical-align: middle;\n",
       "    }\n",
       "\n",
       "    .dataframe tbody tr th {\n",
       "        vertical-align: top;\n",
       "    }\n",
       "\n",
       "    .dataframe thead th {\n",
       "        text-align: right;\n",
       "    }\n",
       "</style>\n",
       "<table border=\"1\" class=\"dataframe\">\n",
       "  <thead>\n",
       "    <tr style=\"text-align: right;\">\n",
       "      <th></th>\n",
       "      <th>name</th>\n",
       "      <th>date</th>\n",
       "      <th>t</th>\n",
       "      <th>freq_sum</th>\n",
       "      <th>market</th>\n",
       "      <th>freq_sum_log10</th>\n",
       "      <th>market_log10</th>\n",
       "    </tr>\n",
       "  </thead>\n",
       "  <tbody>\n",
       "    <tr>\n",
       "      <th>0</th>\n",
       "      <td>Какао</td>\n",
       "      <td>1998</td>\n",
       "      <td>1</td>\n",
       "      <td>16</td>\n",
       "      <td>6737791560</td>\n",
       "      <td>1.204120</td>\n",
       "      <td>9.828518</td>\n",
       "    </tr>\n",
       "    <tr>\n",
       "      <th>1</th>\n",
       "      <td>Какао</td>\n",
       "      <td>1999</td>\n",
       "      <td>2</td>\n",
       "      <td>44</td>\n",
       "      <td>4195377450</td>\n",
       "      <td>1.643453</td>\n",
       "      <td>9.622771</td>\n",
       "    </tr>\n",
       "    <tr>\n",
       "      <th>2</th>\n",
       "      <td>Какао</td>\n",
       "      <td>2000</td>\n",
       "      <td>3</td>\n",
       "      <td>31</td>\n",
       "      <td>3805830720</td>\n",
       "      <td>1.491362</td>\n",
       "      <td>9.580449</td>\n",
       "    </tr>\n",
       "    <tr>\n",
       "      <th>3</th>\n",
       "      <td>Какао</td>\n",
       "      <td>2001</td>\n",
       "      <td>4</td>\n",
       "      <td>111</td>\n",
       "      <td>4511574200</td>\n",
       "      <td>2.045323</td>\n",
       "      <td>9.654328</td>\n",
       "    </tr>\n",
       "    <tr>\n",
       "      <th>4</th>\n",
       "      <td>Какао</td>\n",
       "      <td>2002</td>\n",
       "      <td>5</td>\n",
       "      <td>208</td>\n",
       "      <td>7750779400</td>\n",
       "      <td>2.318063</td>\n",
       "      <td>9.889345</td>\n",
       "    </tr>\n",
       "  </tbody>\n",
       "</table>\n",
       "</div>"
      ],
      "text/plain": [
       "    name  date  t  freq_sum      market  freq_sum_log10  market_log10\n",
       "0  Какао  1998  1        16  6737791560        1.204120      9.828518\n",
       "1  Какао  1999  2        44  4195377450        1.643453      9.622771\n",
       "2  Какао  2000  3        31  3805830720        1.491362      9.580449\n",
       "3  Какао  2001  4       111  4511574200        2.045323      9.654328\n",
       "4  Какао  2002  5       208  7750779400        2.318063      9.889345"
      ]
     },
     "execution_count": 13,
     "metadata": {},
     "output_type": "execute_result"
    }
   ],
   "source": [
    "data_.head()\n"
   ]
  },
  {
   "cell_type": "code",
   "execution_count": 14,
   "metadata": {},
   "outputs": [],
   "source": [
    "data_unscaled = data_[data_['t'] == 20].loc[:, ['freq_sum', 'market']]"
   ]
  },
  {
   "cell_type": "code",
   "execution_count": 15,
   "metadata": {},
   "outputs": [
    {
     "data": {
      "text/plain": [
       "0.14226663958817254"
      ]
     },
     "execution_count": 15,
     "metadata": {},
     "output_type": "execute_result"
    },
    {
     "data": {
      "image/png": "[encoded data removed]",
      "text/plain": [
       "<Figure size 432x288 with 1 Axes>"
      ]
     },
     "metadata": {
      "needs_background": "light"
     },
     "output_type": "display_data"
    }
   ],
   "source": [
    "from sklearn.isotonic import IsotonicRegression\n",
    "\n",
    "iso_model = IsotonicRegression(out_of_bounds='clip')\n",
    "\n",
    "X_2017 = data_unscaled.sort_values(by='freq_sum')['freq_sum']\n",
    "y_2017 = data_unscaled.sort_values(by='freq_sum')['market']\n",
    "iso_model.fit(X_2017, y_2017)\n",
    "plt.plot(X_2017, iso_model.predict(X_2017))\n",
    "plt.scatter(X_2017, y_2017)\n",
    "r2_score(y_2017, iso_model.predict(X_2017))"
   ]
  },
  {
   "cell_type": "code",
   "execution_count": 16,
   "metadata": {},
   "outputs": [
    {
     "data": {
      "text/plain": [
       "0.24736372468163526"
      ]
     },
     "execution_count": 16,
     "metadata": {},
     "output_type": "execute_result"
    },
    {
     "data": {
      "image/png": "[encoded data removed]",
      "text/plain": [
       "<Figure size 432x288 with 1 Axes>"
      ]
     },
     "metadata": {
      "needs_background": "light"
     },
     "output_type": "display_data"
    }
   ],
   "source": [
    "from sklearn.isotonic import IsotonicRegression\n",
    "\n",
    "iso_model = IsotonicRegression(out_of_bounds='clip')\n",
    "data_unscaled_s = data_2[data_2['t'] == 20].loc[:, ['freq_sum', 'market']]\n",
    "# data_2 has crude oil silver removed\n",
    "\n",
    "X_2017 = data_unscaled_s.sort_values(by='freq_sum')['freq_sum']\n",
    "y_2017 = data_unscaled_s.sort_values(by='freq_sum')['market']\n",
    "iso_model.fit(X_2017, y_2017)\n",
    "plt.plot(X_2017, iso_model.predict(X_2017))\n",
    "plt.scatter(X_2017, y_2017)\n",
    "r2_score(y_2017, iso_model.predict(X_2017))"
   ]
  },
  {
   "cell_type": "code",
   "execution_count": 17,
   "metadata": {},
   "outputs": [
    {
     "data": {
      "text/plain": [
       "10229837223.0"
      ]
     },
     "execution_count": 17,
     "metadata": {},
     "output_type": "execute_result"
    }
   ],
   "source": [
    "min(iso_model.predict(X_2017))"
   ]
  },
  {
   "cell_type": "code",
   "execution_count": 18,
   "metadata": {},
   "outputs": [
    {
     "data": {
      "text/plain": [
       "151954405469.0"
      ]
     },
     "execution_count": 18,
     "metadata": {},
     "output_type": "execute_result"
    }
   ],
   "source": [
    "max(iso_model.predict(X_2017))"
   ]
  },
  {
   "cell_type": "markdown",
   "metadata": {},
   "source": [
    "## Linear regression"
   ]
  },
  {
   "cell_type": "code",
   "execution_count": 19,
   "metadata": {},
   "outputs": [
    {
     "data": {
      "text/plain": [
       "0.008518604360141846"
      ]
     },
     "execution_count": 19,
     "metadata": {},
     "output_type": "execute_result"
    }
   ],
   "source": [
    "linear_regressor = LinearRegression(fit_intercept = True)\n",
    "\n",
    "X_2017 = data_unscaled.sort_values(by='freq_sum')['freq_sum']\n",
    "y_2017 = data_unscaled.sort_values(by='freq_sum')['market']\n",
    "\n",
    "fitt = linear_regressor.fit(np.array(X_2017).reshape(-1, 1), y_2017)\n",
    "Y_pred = linear_regressor.predict(np.array(X_2017).reshape(-1, 1))\n",
    "r2_score(np.array(y_2017).reshape(-1, 1), Y_pred)"
   ]
  },
  {
   "cell_type": "code",
   "execution_count": 20,
   "metadata": {},
   "outputs": [
    {
     "data": {
      "text/plain": [
       "<matplotlib.collections.PathCollection at 0x7fe96ed12710>"
      ]
     },
     "execution_count": 20,
     "metadata": {},
     "output_type": "execute_result"
    },
    {
     "data": {
      "image/png": "[encoded data removed]",
      "text/plain": [
       "<Figure size 432x288 with 1 Axes>"
      ]
     },
     "metadata": {
      "needs_background": "light"
     },
     "output_type": "display_data"
    }
   ],
   "source": [
    "plt.plot(X_2017, Y_pred)\n",
    "plt.scatter(X_2017, y_2017)"
   ]
  },
  {
   "cell_type": "code",
   "execution_count": null,
   "metadata": {},
   "outputs": [],
   "source": []
  },
  {
   "cell_type": "code",
   "execution_count": 21,
   "metadata": {},
   "outputs": [
    {
     "data": {
      "text/plain": [
       "0.011283099635788219"
      ]
     },
     "execution_count": 21,
     "metadata": {},
     "output_type": "execute_result"
    }
   ],
   "source": [
    "linear_regressor = LinearRegression(fit_intercept = True)\n",
    "data_unscaled_s = data_2[data_2['t'] == 20].loc[:, ['freq_sum', 'market']]\n",
    "# data_2 has crude oil silver removed\n",
    "\n",
    "X_2017 = data_unscaled_s.sort_values(by='freq_sum')['freq_sum']\n",
    "y_2017 = data_unscaled_s.sort_values(by='freq_sum')['market']\n",
    "\n",
    "fitt = linear_regressor.fit(np.array(X_2017).reshape(-1, 1), y_2017)\n",
    "Y_pred = linear_regressor.predict(np.array(X_2017).reshape(-1, 1))\n",
    "r2_score(np.array(y_2017).reshape(-1, 1), Y_pred)"
   ]
  },
  {
   "cell_type": "code",
   "execution_count": 22,
   "metadata": {},
   "outputs": [
    {
     "data": {
      "text/plain": [
       "<matplotlib.collections.PathCollection at 0x7fe96ec7a320>"
      ]
     },
     "execution_count": 22,
     "metadata": {},
     "output_type": "execute_result"
    },
    {
     "data": {
      "image/png": "[encoded data removed]",
      "text/plain": [
       "<Figure size 432x288 with 1 Axes>"
      ]
     },
     "metadata": {
      "needs_background": "light"
     },
     "output_type": "display_data"
    }
   ],
   "source": [
    "plt.plot(X_2017, Y_pred)\n",
    "plt.scatter(X_2017, y_2017)"
   ]
  },
  {
   "cell_type": "markdown",
   "metadata": {},
   "source": [
    "Выводы:\n",
    "\n",
    "- Лучше в логарифмированием\n",
    "- Лучше без нетипичных наблюдений"
   ]
  },
  {
   "cell_type": "code",
   "execution_count": 25,
   "metadata": {},
   "outputs": [],
   "source": [
    "data_alt_1_values = data_[data_['t'] == 20].loc[:, ['name', 'freq_sum', 'market']]\n",
    "data_alt_2_values = data_2[data_2['t'] == 20].loc[:, ['name', 'freq_sum', 'market']]\n",
    "data_alt_1_logs = data_[data_['t'] == 20].loc[:, ['name', 'freq_sum_log10', 'market_log10']]\n",
    "data_alt_2_logs = data_2[data_2['t'] == 20].loc[:, ['name', 'freq_sum_log10', 'market_log10']]\n",
    "# data_2 has crude oil silver removed"
   ]
  },
  {
   "cell_type": "code",
   "execution_count": null,
   "metadata": {},
   "outputs": [],
   "source": []
  },
  {
   "cell_type": "code",
   "execution_count": 28,
   "metadata": {},
   "outputs": [
    {
     "data": {
      "text/plain": [
       "array(['Какао', 'Кокосовое масло', 'Арахис', 'Арахисовое масло',\n",
       "       'Пальмовое масло', 'Соевые бобы', 'Соевое масло', 'Ячмень', 'Маис',\n",
       "       'Сорго', 'Апельсин', 'Говядина', 'Хлопок', 'Алюминий', 'Медь',\n",
       "       'Свинец', 'Олово', 'Никель', 'Цинк', 'Золото', 'Платина',\n",
       "       'Серебро', 'Сырая нефть'], dtype=object)"
      ]
     },
     "execution_count": 28,
     "metadata": {},
     "output_type": "execute_result"
    }
   ],
   "source": [
    "unique_terms = unique_items = data_.loc[:, \"name\"].unique()\n",
    "unique_terms"
   ]
  },
  {
   "cell_type": "code",
   "execution_count": null,
   "metadata": {},
   "outputs": [],
   "source": [
    "def term_list_sim_getter(target, unique_names_list):\n",
    "    term_list = [target]\n",
    "    term_list.extend(unique_names_list)\n",
    "    results = []\n",
    "    for term in term_list:\n",
    "        for oppisite_term in term_list:\n",
    "            if term == oppisite_term:\n",
    "                pass\n",
    "            try:\n",
    "                url = f\"http://api.ifora.hse.ru/vector_space/v0.2/w2v_2019_02_18/{term}/similarity/{opposite_term}\"\n",
    "                r = requests.get(url=url)\n",
    "                data = r.json()\n",
    "                results.append({\"term\": term, \"opposite_term\": opposite_term, \"similarity\": data[\"data\"][\"similarity\"]})\n",
    "            except Exception:\n",
    "                pass\n",
    "    return results"
   ]
  },
  {
   "cell_type": "code",
   "execution_count": null,
   "metadata": {},
   "outputs": [],
   "source": [
    "def similarity(results):\n",
    "    similarity = []\n",
    "    "
   ]
  },
  {
   "cell_type": "code",
   "execution_count": null,
   "metadata": {},
   "outputs": [],
   "source": []
  },
  {
   "cell_type": "code",
   "execution_count": null,
   "metadata": {},
   "outputs": [],
   "source": []
  },
  {
   "cell_type": "code",
   "execution_count": null,
   "metadata": {},
   "outputs": [],
   "source": []
  },
  {
   "cell_type": "code",
   "execution_count": null,
   "metadata": {},
   "outputs": [],
   "source": []
  },
  {
   "cell_type": "code",
   "execution_count": null,
   "metadata": {},
   "outputs": [],
   "source": []
  },
  {
   "cell_type": "code",
   "execution_count": null,
   "metadata": {},
   "outputs": [],
   "source": []
  },
  {
   "cell_type": "code",
   "execution_count": null,
   "metadata": {},
   "outputs": [],
   "source": [
    "# если очень хочешь усреднять модели во вложенном цикле, можешь исключить и item и item_:\n",
    "\n",
    "train_ = data_[(data_.loc[:, \"name\"] != item_) & (data_.loc[:, \"name\"] != item)]"
   ]
  },
  {
   "cell_type": "code",
   "execution_count": null,
   "metadata": {},
   "outputs": [],
   "source": [
    "# написал функцию, визуализирующую модель от двух признаков\n",
    "\n",
    "def vis_mat(feats, target, image_size=20, target_range=None):\n",
    "    # feats - признки: матрица или DataFrame 2 x n\n",
    "    # target - целевой признак: массив длины n или матрица или DataFrame 1 x n\n",
    "    # image_size - количество писелей по ширине и высоте в матрице\n",
    "    # target_range - диапазон целевого признака, если None - считать автоматически\n",
    "\n",
    "    feats = np.array(feats)\n",
    "    assert feats.ndim == 2\n",
    "    target = np.array(target).ravel()\n",
    "    assert feats.shape == (len(target), 2)\n",
    "\n",
    "    x_min, y_min = X_train_mat.min(axis=0)\n",
    "    x_max, y_max = X_train_mat.max(axis=0)\n",
    "\n",
    "    if target_range is None:\n",
    "        target_range = np.array(target)\n",
    "    target_range = np.array(target_range)\n",
    "    target_range = target_range.min(), target_range.max()\n",
    "\n",
    "    mat = np.zeros((mat_n, mat_n))\n",
    "    for row, y in enumerate(np.linspace(y_max, y_min, mat_n)):\n",
    "        for col, x in enumerate(np.linspace(x_min, x_max, mat_n)):\n",
    "            nearest_idx = ((feats - np.array([x, y])) ** 2).sum(axis=1).argmin()\n",
    "            val = target[nearest_idx]\n",
    "            mat[row][col] = val\n",
    "\n",
    "    plt.matshow(mat, vmin=target_range[0], vmax=target_range[1])\n"
   ]
  },
  {
   "cell_type": "markdown",
   "metadata": {},
   "source": [
    "https://scikit-learn.org/stable/modules/model_persistence.html"
   ]
  },
  {
   "cell_type": "markdown",
   "metadata": {},
   "source": [
    "но вообще было бы здорово иметь модели, которые\n",
    "- могут работать с терминами на одном языке (если пользователю лень переводить)\n",
    "- используют встречаемость за все годы в качестве входных данных (это должно немного уменьшить шум в данных по частотам встречаемости)"
   ]
  },
  {
   "cell_type": "markdown",
   "metadata": {},
   "source": [
    "https://scikit-learn.org/stable/modules/generated/sklearn.isotonic.IsotonicRegression.html\n",
    "\n",
    "https://github.com/alexfields/multiisotonic"
   ]
  },
  {
   "cell_type": "code",
   "execution_count": null,
   "metadata": {},
   "outputs": [],
   "source": []
  },
  {
   "cell_type": "code",
   "execution_count": null,
   "metadata": {},
   "outputs": [],
   "source": []
  }
 ],
 "metadata": {
  "kernelspec": {
   "display_name": "Python 3",
   "language": "python",
   "name": "python3"
  },
  "language_info": {
   "codemirror_mode": {
    "name": "ipython",
    "version": 3
   },
   "file_extension": ".py",
   "mimetype": "text/x-python",
   "name": "python",
   "nbconvert_exporter": "python",
   "pygments_lexer": "ipython3",
   "version": "3.6.8"
  }
 },
 "nbformat": 4,
 "nbformat_minor": 2
}
