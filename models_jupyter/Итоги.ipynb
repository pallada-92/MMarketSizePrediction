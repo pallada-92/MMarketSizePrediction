{
 "cells": [
  {
   "cell_type": "code",
   "execution_count": 54,
   "metadata": {},
   "outputs": [],
   "source": [
    "import pandas as pd\n",
    "import numpy as np\n",
    "from numpy import ravel\n",
    "from numpy import unique\n",
    "from numpy import transpose\n",
    "from matplotlib import pyplot as plt\n",
    "from sklearn.metrics import r2_score"
   ]
  },
  {
   "cell_type": "code",
   "execution_count": 55,
   "metadata": {},
   "outputs": [],
   "source": [
    "url = \"https://docs.google.com/spreadsheets/d/e/2PACX-1vQ5JE66pQB1KJItYr2QUVldTeOGDUfgWwV8u5VdmGkkm6fjZgwCU0-owOzBFakl_aYfsF2aL6xNxRwc/pub?gid=161992597&single=true&output=csv\"\n",
    "colmns = [\"name\", \"date\", \"freq_sum\", \"market\", \"t\"]\n",
    "\n",
    "data = pd.read_csv(url, usecols = colmns)\n",
    "unique_items = data.loc[:, \"name\"].unique()\n",
    "data['freq_sum_log10'] = np.log10(data['freq_sum'])\n",
    "data['market_log10'] = np.log10(data['market'])\n",
    "#data_ = data[(data.loc[:, \"name\"] != 'Серебро') & (data.loc[:, \"name\"] != 'Сырая нефть')]\n",
    "data_ = data.copy(deep = True)"
   ]
  },
  {
   "cell_type": "code",
   "execution_count": 56,
   "metadata": {},
   "outputs": [],
   "source": [
    "data_2 = data[(data.loc[:, \"name\"] != 'Серебро') & (data.loc[:, \"name\"] != 'Сырая нефть')]"
   ]
  },
  {
   "cell_type": "code",
   "execution_count": 57,
   "metadata": {},
   "outputs": [
    {
     "data": {
      "text/plain": [
       "0.27851011470888887"
      ]
     },
     "execution_count": 57,
     "metadata": {},
     "output_type": "execute_result"
    },
    {
     "data": {
      "image/png": "[encoded data removed]",
      "text/plain": [
       "<Figure size 432x288 with 1 Axes>"
      ]
     },
     "metadata": {
      "needs_background": "light"
     },
     "output_type": "display_data"
    }
   ],
   "source": [
    "from sklearn.isotonic import IsotonicRegression\n",
    "\n",
    "iso_model = IsotonicRegression(out_of_bounds='clip')\n",
    "data2017 = np.array(\n",
    "    data_2[data_2['t'] == 20]\n",
    "        .loc[:, ['freq_sum_log10', 'market_log10']]\n",
    "        .sort_values(by='freq_sum_log10'))\n",
    "X_2017 = data2017[:, 0]\n",
    "y_2017 = data2017[:, 1]\n",
    "iso_model.fit(X_2017, y_2017)\n",
    "plt.plot(X_2017, iso_model.predict(X_2017))\n",
    "plt.scatter(X_2017, y_2017)\n",
    "r2_score(y_2017, iso_model.predict(X_2017))"
   ]
  },
  {
   "cell_type": "code",
   "execution_count": 64,
   "metadata": {},
   "outputs": [],
   "source": [
    "iso_min_1 = 10**iso_model.predict(X_2017).min()"
   ]
  },
  {
   "cell_type": "code",
   "execution_count": 65,
   "metadata": {},
   "outputs": [
    {
     "data": {
      "text/plain": [
       "10229837223.000011"
      ]
     },
     "execution_count": 65,
     "metadata": {},
     "output_type": "execute_result"
    }
   ],
   "source": [
    "iso_min_1"
   ]
  },
  {
   "cell_type": "code",
   "execution_count": 66,
   "metadata": {},
   "outputs": [
    {
     "data": {
      "text/html": [
       "<div>\n",
       "<style scoped>\n",
       "    .dataframe tbody tr th:only-of-type {\n",
       "        vertical-align: middle;\n",
       "    }\n",
       "\n",
       "    .dataframe tbody tr th {\n",
       "        vertical-align: top;\n",
       "    }\n",
       "\n",
       "    .dataframe thead th {\n",
       "        text-align: right;\n",
       "    }\n",
       "</style>\n",
       "<table border=\"1\" class=\"dataframe\">\n",
       "  <thead>\n",
       "    <tr style=\"text-align: right;\">\n",
       "      <th></th>\n",
       "      <th>name</th>\n",
       "      <th>date</th>\n",
       "      <th>t</th>\n",
       "      <th>freq_sum</th>\n",
       "      <th>market</th>\n",
       "      <th>freq_sum_log10</th>\n",
       "      <th>market_log10</th>\n",
       "    </tr>\n",
       "  </thead>\n",
       "  <tbody>\n",
       "    <tr>\n",
       "      <th>79</th>\n",
       "      <td>Арахисовое масло</td>\n",
       "      <td>2017</td>\n",
       "      <td>20</td>\n",
       "      <td>32</td>\n",
       "      <td>10229837223</td>\n",
       "      <td>1.505150</td>\n",
       "      <td>10.009869</td>\n",
       "    </tr>\n",
       "    <tr>\n",
       "      <th>59</th>\n",
       "      <td>Арахис</td>\n",
       "      <td>2017</td>\n",
       "      <td>20</td>\n",
       "      <td>218</td>\n",
       "      <td>108226207717</td>\n",
       "      <td>2.338456</td>\n",
       "      <td>11.034332</td>\n",
       "    </tr>\n",
       "    <tr>\n",
       "      <th>139</th>\n",
       "      <td>Соевое масло</td>\n",
       "      <td>2017</td>\n",
       "      <td>20</td>\n",
       "      <td>604</td>\n",
       "      <td>54806206589</td>\n",
       "      <td>2.781037</td>\n",
       "      <td>10.738830</td>\n",
       "    </tr>\n",
       "    <tr>\n",
       "      <th>19</th>\n",
       "      <td>Какао</td>\n",
       "      <td>2017</td>\n",
       "      <td>20</td>\n",
       "      <td>942</td>\n",
       "      <td>10870319900</td>\n",
       "      <td>2.974051</td>\n",
       "      <td>10.036242</td>\n",
       "    </tr>\n",
       "    <tr>\n",
       "      <th>39</th>\n",
       "      <td>Кокосовое масло</td>\n",
       "      <td>2017</td>\n",
       "      <td>20</td>\n",
       "      <td>1034</td>\n",
       "      <td>25099327340</td>\n",
       "      <td>3.014521</td>\n",
       "      <td>10.399662</td>\n",
       "    </tr>\n",
       "    <tr>\n",
       "      <th>199</th>\n",
       "      <td>Сорго</td>\n",
       "      <td>2017</td>\n",
       "      <td>20</td>\n",
       "      <td>1338</td>\n",
       "      <td>11156413313</td>\n",
       "      <td>3.126456</td>\n",
       "      <td>10.047525</td>\n",
       "    </tr>\n",
       "    <tr>\n",
       "      <th>179</th>\n",
       "      <td>Маис</td>\n",
       "      <td>2017</td>\n",
       "      <td>20</td>\n",
       "      <td>1834</td>\n",
       "      <td>244073442574</td>\n",
       "      <td>3.263399</td>\n",
       "      <td>11.387521</td>\n",
       "    </tr>\n",
       "    <tr>\n",
       "      <th>99</th>\n",
       "      <td>Пальмовое масло</td>\n",
       "      <td>2017</td>\n",
       "      <td>20</td>\n",
       "      <td>1872</td>\n",
       "      <td>13469577625</td>\n",
       "      <td>3.272306</td>\n",
       "      <td>10.129354</td>\n",
       "    </tr>\n",
       "    <tr>\n",
       "      <th>159</th>\n",
       "      <td>Ячмень</td>\n",
       "      <td>2017</td>\n",
       "      <td>20</td>\n",
       "      <td>2428</td>\n",
       "      <td>16516909829</td>\n",
       "      <td>3.385249</td>\n",
       "      <td>10.217929</td>\n",
       "    </tr>\n",
       "    <tr>\n",
       "      <th>339</th>\n",
       "      <td>Олово</td>\n",
       "      <td>2017</td>\n",
       "      <td>20</td>\n",
       "      <td>5488</td>\n",
       "      <td>5545392160</td>\n",
       "      <td>3.739414</td>\n",
       "      <td>9.743932</td>\n",
       "    </tr>\n",
       "    <tr>\n",
       "      <th>379</th>\n",
       "      <td>Цинк</td>\n",
       "      <td>2017</td>\n",
       "      <td>20</td>\n",
       "      <td>6869</td>\n",
       "      <td>27325323000</td>\n",
       "      <td>3.836894</td>\n",
       "      <td>10.436565</td>\n",
       "    </tr>\n",
       "    <tr>\n",
       "      <th>359</th>\n",
       "      <td>Никель</td>\n",
       "      <td>2017</td>\n",
       "      <td>20</td>\n",
       "      <td>8249</td>\n",
       "      <td>23620168000</td>\n",
       "      <td>3.916401</td>\n",
       "      <td>10.373283</td>\n",
       "    </tr>\n",
       "    <tr>\n",
       "      <th>119</th>\n",
       "      <td>Соевые бобы</td>\n",
       "      <td>2017</td>\n",
       "      <td>20</td>\n",
       "      <td>9150</td>\n",
       "      <td>163046382909</td>\n",
       "      <td>3.961421</td>\n",
       "      <td>11.212311</td>\n",
       "    </tr>\n",
       "    <tr>\n",
       "      <th>259</th>\n",
       "      <td>Хлопок</td>\n",
       "      <td>2017</td>\n",
       "      <td>20</td>\n",
       "      <td>9954</td>\n",
       "      <td>123748407816</td>\n",
       "      <td>3.997998</td>\n",
       "      <td>11.092540</td>\n",
       "    </tr>\n",
       "    <tr>\n",
       "      <th>419</th>\n",
       "      <td>Платина</td>\n",
       "      <td>2017</td>\n",
       "      <td>20</td>\n",
       "      <td>10345</td>\n",
       "      <td>6237527728</td>\n",
       "      <td>4.014730</td>\n",
       "      <td>9.795012</td>\n",
       "    </tr>\n",
       "    <tr>\n",
       "      <th>279</th>\n",
       "      <td>Алюминий</td>\n",
       "      <td>2017</td>\n",
       "      <td>20</td>\n",
       "      <td>19497</td>\n",
       "      <td>120949088000</td>\n",
       "      <td>4.289968</td>\n",
       "      <td>11.082603</td>\n",
       "    </tr>\n",
       "    <tr>\n",
       "      <th>219</th>\n",
       "      <td>Апельсин</td>\n",
       "      <td>2017</td>\n",
       "      <td>20</td>\n",
       "      <td>24096</td>\n",
       "      <td>68059088660</td>\n",
       "      <td>4.381945</td>\n",
       "      <td>10.832886</td>\n",
       "    </tr>\n",
       "    <tr>\n",
       "      <th>239</th>\n",
       "      <td>Говядина</td>\n",
       "      <td>2017</td>\n",
       "      <td>20</td>\n",
       "      <td>24854</td>\n",
       "      <td>329961030410</td>\n",
       "      <td>4.395396</td>\n",
       "      <td>11.518463</td>\n",
       "    </tr>\n",
       "    <tr>\n",
       "      <th>299</th>\n",
       "      <td>Медь</td>\n",
       "      <td>2017</td>\n",
       "      <td>20</td>\n",
       "      <td>25503</td>\n",
       "      <td>132949893500</td>\n",
       "      <td>4.406591</td>\n",
       "      <td>11.123688</td>\n",
       "    </tr>\n",
       "    <tr>\n",
       "      <th>399</th>\n",
       "      <td>Золото</td>\n",
       "      <td>2017</td>\n",
       "      <td>20</td>\n",
       "      <td>78139</td>\n",
       "      <td>125527995466</td>\n",
       "      <td>4.892868</td>\n",
       "      <td>11.098741</td>\n",
       "    </tr>\n",
       "    <tr>\n",
       "      <th>319</th>\n",
       "      <td>Свинец</td>\n",
       "      <td>2017</td>\n",
       "      <td>20</td>\n",
       "      <td>592565</td>\n",
       "      <td>19378702500</td>\n",
       "      <td>5.772736</td>\n",
       "      <td>10.287325</td>\n",
       "    </tr>\n",
       "  </tbody>\n",
       "</table>\n",
       "</div>"
      ],
      "text/plain": [
       "                 name  date   t  freq_sum        market  freq_sum_log10  \\\n",
       "79   Арахисовое масло  2017  20        32   10229837223        1.505150   \n",
       "59             Арахис  2017  20       218  108226207717        2.338456   \n",
       "139      Соевое масло  2017  20       604   54806206589        2.781037   \n",
       "19              Какао  2017  20       942   10870319900        2.974051   \n",
       "39    Кокосовое масло  2017  20      1034   25099327340        3.014521   \n",
       "199             Сорго  2017  20      1338   11156413313        3.126456   \n",
       "179              Маис  2017  20      1834  244073442574        3.263399   \n",
       "99    Пальмовое масло  2017  20      1872   13469577625        3.272306   \n",
       "159            Ячмень  2017  20      2428   16516909829        3.385249   \n",
       "339             Олово  2017  20      5488    5545392160        3.739414   \n",
       "379              Цинк  2017  20      6869   27325323000        3.836894   \n",
       "359            Никель  2017  20      8249   23620168000        3.916401   \n",
       "119       Соевые бобы  2017  20      9150  163046382909        3.961421   \n",
       "259            Хлопок  2017  20      9954  123748407816        3.997998   \n",
       "419           Платина  2017  20     10345    6237527728        4.014730   \n",
       "279          Алюминий  2017  20     19497  120949088000        4.289968   \n",
       "219          Апельсин  2017  20     24096   68059088660        4.381945   \n",
       "239          Говядина  2017  20     24854  329961030410        4.395396   \n",
       "299              Медь  2017  20     25503  132949893500        4.406591   \n",
       "399            Золото  2017  20     78139  125527995466        4.892868   \n",
       "319            Свинец  2017  20    592565   19378702500        5.772736   \n",
       "\n",
       "     market_log10  \n",
       "79      10.009869  \n",
       "59      11.034332  \n",
       "139     10.738830  \n",
       "19      10.036242  \n",
       "39      10.399662  \n",
       "199     10.047525  \n",
       "179     11.387521  \n",
       "99      10.129354  \n",
       "159     10.217929  \n",
       "339      9.743932  \n",
       "379     10.436565  \n",
       "359     10.373283  \n",
       "119     11.212311  \n",
       "259     11.092540  \n",
       "419      9.795012  \n",
       "279     11.082603  \n",
       "219     10.832886  \n",
       "239     11.518463  \n",
       "299     11.123688  \n",
       "399     11.098741  \n",
       "319     10.287325  "
      ]
     },
     "execution_count": 66,
     "metadata": {},
     "output_type": "execute_result"
    }
   ],
   "source": [
    "data_2[data_2.t == 20].sort_values(by='freq_sum_log10')"
   ]
  },
  {
   "cell_type": "markdown",
   "metadata": {},
   "source": [
    "## Коррекция выборки"
   ]
  },
  {
   "cell_type": "code",
   "execution_count": 67,
   "metadata": {},
   "outputs": [],
   "source": [
    "data_2_cut = data_2[data_2.freq_sum_log10 >= 3.73941]\n",
    "#Почему это число:\n",
    "#по таблице посмотрела, когда market_log10 в отсортированной версии принимает значения меньше 10,\n",
    "#потому что с него начинается построение, а не сортировать или сортировать по чему-то другому нельзя в этой модели."
   ]
  },
  {
   "cell_type": "code",
   "execution_count": 68,
   "metadata": {},
   "outputs": [
    {
     "data": {
      "text/html": [
       "<div>\n",
       "<style scoped>\n",
       "    .dataframe tbody tr th:only-of-type {\n",
       "        vertical-align: middle;\n",
       "    }\n",
       "\n",
       "    .dataframe tbody tr th {\n",
       "        vertical-align: top;\n",
       "    }\n",
       "\n",
       "    .dataframe thead th {\n",
       "        text-align: right;\n",
       "    }\n",
       "</style>\n",
       "<table border=\"1\" class=\"dataframe\">\n",
       "  <thead>\n",
       "    <tr style=\"text-align: right;\">\n",
       "      <th></th>\n",
       "      <th>name</th>\n",
       "      <th>date</th>\n",
       "      <th>t</th>\n",
       "      <th>freq_sum</th>\n",
       "      <th>market</th>\n",
       "      <th>freq_sum_log10</th>\n",
       "      <th>market_log10</th>\n",
       "    </tr>\n",
       "  </thead>\n",
       "  <tbody>\n",
       "    <tr>\n",
       "      <th>339</th>\n",
       "      <td>Олово</td>\n",
       "      <td>2017</td>\n",
       "      <td>20</td>\n",
       "      <td>5488</td>\n",
       "      <td>5545392160</td>\n",
       "      <td>3.739414</td>\n",
       "      <td>9.743932</td>\n",
       "    </tr>\n",
       "    <tr>\n",
       "      <th>376</th>\n",
       "      <td>Цинк</td>\n",
       "      <td>2014</td>\n",
       "      <td>17</td>\n",
       "      <td>5665</td>\n",
       "      <td>27150088000</td>\n",
       "      <td>3.753200</td>\n",
       "      <td>10.433771</td>\n",
       "    </tr>\n",
       "    <tr>\n",
       "      <th>205</th>\n",
       "      <td>Апельсин</td>\n",
       "      <td>2003</td>\n",
       "      <td>6</td>\n",
       "      <td>5836</td>\n",
       "      <td>53274052780</td>\n",
       "      <td>3.766115</td>\n",
       "      <td>10.726516</td>\n",
       "    </tr>\n",
       "    <tr>\n",
       "      <th>116</th>\n",
       "      <td>Соевые бобы</td>\n",
       "      <td>2014</td>\n",
       "      <td>17</td>\n",
       "      <td>5861</td>\n",
       "      <td>157190294002</td>\n",
       "      <td>3.767972</td>\n",
       "      <td>11.196426</td>\n",
       "    </tr>\n",
       "    <tr>\n",
       "      <th>410</th>\n",
       "      <td>Платина</td>\n",
       "      <td>2008</td>\n",
       "      <td>11</td>\n",
       "      <td>5880</td>\n",
       "      <td>9500667847</td>\n",
       "      <td>3.769377</td>\n",
       "      <td>9.977754</td>\n",
       "    </tr>\n",
       "    <tr>\n",
       "      <th>266</th>\n",
       "      <td>Алюминий</td>\n",
       "      <td>2004</td>\n",
       "      <td>7</td>\n",
       "      <td>5891</td>\n",
       "      <td>60328034000</td>\n",
       "      <td>3.770189</td>\n",
       "      <td>10.780519</td>\n",
       "    </tr>\n",
       "    <tr>\n",
       "      <th>336</th>\n",
       "      <td>Олово</td>\n",
       "      <td>2014</td>\n",
       "      <td>17</td>\n",
       "      <td>5898</td>\n",
       "      <td>5826366720</td>\n",
       "      <td>3.770705</td>\n",
       "      <td>9.765398</td>\n",
       "    </tr>\n",
       "    <tr>\n",
       "      <th>252</th>\n",
       "      <td>Хлопок</td>\n",
       "      <td>2010</td>\n",
       "      <td>13</td>\n",
       "      <td>5899</td>\n",
       "      <td>125888376000</td>\n",
       "      <td>3.770778</td>\n",
       "      <td>11.099986</td>\n",
       "    </tr>\n",
       "    <tr>\n",
       "      <th>226</th>\n",
       "      <td>Говядина</td>\n",
       "      <td>2004</td>\n",
       "      <td>7</td>\n",
       "      <td>5921</td>\n",
       "      <td>201796128620</td>\n",
       "      <td>3.772395</td>\n",
       "      <td>11.304913</td>\n",
       "    </tr>\n",
       "    <tr>\n",
       "      <th>350</th>\n",
       "      <td>Никель</td>\n",
       "      <td>2008</td>\n",
       "      <td>11</td>\n",
       "      <td>6103</td>\n",
       "      <td>33051496800</td>\n",
       "      <td>3.785543</td>\n",
       "      <td>10.519191</td>\n",
       "    </tr>\n",
       "    <tr>\n",
       "      <th>411</th>\n",
       "      <td>Платина</td>\n",
       "      <td>2009</td>\n",
       "      <td>12</td>\n",
       "      <td>6182</td>\n",
       "      <td>7339999023</td>\n",
       "      <td>3.791129</td>\n",
       "      <td>9.865696</td>\n",
       "    </tr>\n",
       "    <tr>\n",
       "      <th>251</th>\n",
       "      <td>Хлопок</td>\n",
       "      <td>2009</td>\n",
       "      <td>12</td>\n",
       "      <td>6197</td>\n",
       "      <td>73620788670</td>\n",
       "      <td>3.792181</td>\n",
       "      <td>10.867000</td>\n",
       "    </tr>\n",
       "    <tr>\n",
       "      <th>286</th>\n",
       "      <td>Медь</td>\n",
       "      <td>2004</td>\n",
       "      <td>7</td>\n",
       "      <td>6255</td>\n",
       "      <td>53592540000</td>\n",
       "      <td>3.796227</td>\n",
       "      <td>10.729104</td>\n",
       "    </tr>\n",
       "    <tr>\n",
       "      <th>352</th>\n",
       "      <td>Никель</td>\n",
       "      <td>2010</td>\n",
       "      <td>13</td>\n",
       "      <td>6288</td>\n",
       "      <td>37293133500</td>\n",
       "      <td>3.798513</td>\n",
       "      <td>10.571629</td>\n",
       "    </tr>\n",
       "    <tr>\n",
       "      <th>253</th>\n",
       "      <td>Хлопок</td>\n",
       "      <td>2011</td>\n",
       "      <td>14</td>\n",
       "      <td>6290</td>\n",
       "      <td>186234855000</td>\n",
       "      <td>3.798651</td>\n",
       "      <td>11.270061</td>\n",
       "    </tr>\n",
       "    <tr>\n",
       "      <th>338</th>\n",
       "      <td>Олово</td>\n",
       "      <td>2016</td>\n",
       "      <td>19</td>\n",
       "      <td>6452</td>\n",
       "      <td>5492710080</td>\n",
       "      <td>3.809694</td>\n",
       "      <td>9.739787</td>\n",
       "    </tr>\n",
       "    <tr>\n",
       "      <th>353</th>\n",
       "      <td>Никель</td>\n",
       "      <td>2011</td>\n",
       "      <td>14</td>\n",
       "      <td>6466</td>\n",
       "      <td>40440542800</td>\n",
       "      <td>3.810636</td>\n",
       "      <td>10.606817</td>\n",
       "    </tr>\n",
       "    <tr>\n",
       "      <th>254</th>\n",
       "      <td>Хлопок</td>\n",
       "      <td>2012</td>\n",
       "      <td>15</td>\n",
       "      <td>6482</td>\n",
       "      <td>111662068220</td>\n",
       "      <td>3.811709</td>\n",
       "      <td>11.047906</td>\n",
       "    </tr>\n",
       "    <tr>\n",
       "      <th>255</th>\n",
       "      <td>Хлопок</td>\n",
       "      <td>2013</td>\n",
       "      <td>16</td>\n",
       "      <td>6497</td>\n",
       "      <td>105873660620</td>\n",
       "      <td>3.812713</td>\n",
       "      <td>11.024788</td>\n",
       "    </tr>\n",
       "    <tr>\n",
       "      <th>413</th>\n",
       "      <td>Платина</td>\n",
       "      <td>2011</td>\n",
       "      <td>14</td>\n",
       "      <td>6534</td>\n",
       "      <td>10056967230</td>\n",
       "      <td>3.815179</td>\n",
       "      <td>10.002467</td>\n",
       "    </tr>\n",
       "    <tr>\n",
       "      <th>337</th>\n",
       "      <td>Олово</td>\n",
       "      <td>2015</td>\n",
       "      <td>18</td>\n",
       "      <td>6548</td>\n",
       "      <td>5598074240</td>\n",
       "      <td>3.816109</td>\n",
       "      <td>9.748039</td>\n",
       "    </tr>\n",
       "    <tr>\n",
       "      <th>378</th>\n",
       "      <td>Цинк</td>\n",
       "      <td>2016</td>\n",
       "      <td>19</td>\n",
       "      <td>6589</td>\n",
       "      <td>28004886000</td>\n",
       "      <td>3.818820</td>\n",
       "      <td>10.447234</td>\n",
       "    </tr>\n",
       "    <tr>\n",
       "      <th>227</th>\n",
       "      <td>Говядина</td>\n",
       "      <td>2005</td>\n",
       "      <td>8</td>\n",
       "      <td>6607</td>\n",
       "      <td>201717784320</td>\n",
       "      <td>3.820004</td>\n",
       "      <td>11.304744</td>\n",
       "    </tr>\n",
       "    <tr>\n",
       "      <th>412</th>\n",
       "      <td>Платина</td>\n",
       "      <td>2010</td>\n",
       "      <td>13</td>\n",
       "      <td>6634</td>\n",
       "      <td>9988635740</td>\n",
       "      <td>3.821775</td>\n",
       "      <td>9.999506</td>\n",
       "    </tr>\n",
       "    <tr>\n",
       "      <th>117</th>\n",
       "      <td>Соевые бобы</td>\n",
       "      <td>2015</td>\n",
       "      <td>18</td>\n",
       "      <td>6659</td>\n",
       "      <td>147945938159</td>\n",
       "      <td>3.823409</td>\n",
       "      <td>11.170103</td>\n",
       "    </tr>\n",
       "    <tr>\n",
       "      <th>377</th>\n",
       "      <td>Цинк</td>\n",
       "      <td>2015</td>\n",
       "      <td>18</td>\n",
       "      <td>6690</td>\n",
       "      <td>26645760000</td>\n",
       "      <td>3.825426</td>\n",
       "      <td>10.425628</td>\n",
       "    </tr>\n",
       "    <tr>\n",
       "      <th>379</th>\n",
       "      <td>Цинк</td>\n",
       "      <td>2017</td>\n",
       "      <td>20</td>\n",
       "      <td>6869</td>\n",
       "      <td>27325323000</td>\n",
       "      <td>3.836894</td>\n",
       "      <td>10.436565</td>\n",
       "    </tr>\n",
       "    <tr>\n",
       "      <th>380</th>\n",
       "      <td>Золото</td>\n",
       "      <td>1998</td>\n",
       "      <td>1</td>\n",
       "      <td>7006</td>\n",
       "      <td>28774072733</td>\n",
       "      <td>3.845470</td>\n",
       "      <td>10.459001</td>\n",
       "    </tr>\n",
       "    <tr>\n",
       "      <th>382</th>\n",
       "      <td>Золото</td>\n",
       "      <td>2000</td>\n",
       "      <td>3</td>\n",
       "      <td>7165</td>\n",
       "      <td>29204564175</td>\n",
       "      <td>3.855216</td>\n",
       "      <td>10.465451</td>\n",
       "    </tr>\n",
       "    <tr>\n",
       "      <th>206</th>\n",
       "      <td>Апельсин</td>\n",
       "      <td>2004</td>\n",
       "      <td>7</td>\n",
       "      <td>7169</td>\n",
       "      <td>68029791290</td>\n",
       "      <td>3.855459</td>\n",
       "      <td>10.832699</td>\n",
       "    </tr>\n",
       "    <tr>\n",
       "      <th>...</th>\n",
       "      <td>...</td>\n",
       "      <td>...</td>\n",
       "      <td>...</td>\n",
       "      <td>...</td>\n",
       "      <td>...</td>\n",
       "      <td>...</td>\n",
       "      <td>...</td>\n",
       "    </tr>\n",
       "    <tr>\n",
       "      <th>217</th>\n",
       "      <td>Апельсин</td>\n",
       "      <td>2015</td>\n",
       "      <td>18</td>\n",
       "      <td>38110</td>\n",
       "      <td>55701785250</td>\n",
       "      <td>4.581039</td>\n",
       "      <td>10.745869</td>\n",
       "    </tr>\n",
       "    <tr>\n",
       "      <th>302</th>\n",
       "      <td>Свинец</td>\n",
       "      <td>2000</td>\n",
       "      <td>3</td>\n",
       "      <td>41417</td>\n",
       "      <td>3754350600</td>\n",
       "      <td>4.617179</td>\n",
       "      <td>9.574535</td>\n",
       "    </tr>\n",
       "    <tr>\n",
       "      <th>391</th>\n",
       "      <td>Золото</td>\n",
       "      <td>2009</td>\n",
       "      <td>12</td>\n",
       "      <td>42580</td>\n",
       "      <td>80747720852</td>\n",
       "      <td>4.629206</td>\n",
       "      <td>10.907130</td>\n",
       "    </tr>\n",
       "    <tr>\n",
       "      <th>390</th>\n",
       "      <td>Золото</td>\n",
       "      <td>2008</td>\n",
       "      <td>11</td>\n",
       "      <td>43678</td>\n",
       "      <td>62137992257</td>\n",
       "      <td>4.640263</td>\n",
       "      <td>10.793357</td>\n",
       "    </tr>\n",
       "    <tr>\n",
       "      <th>303</th>\n",
       "      <td>Свинец</td>\n",
       "      <td>2001</td>\n",
       "      <td>4</td>\n",
       "      <td>44809</td>\n",
       "      <td>4023046000</td>\n",
       "      <td>4.651365</td>\n",
       "      <td>9.604555</td>\n",
       "    </tr>\n",
       "    <tr>\n",
       "      <th>301</th>\n",
       "      <td>Свинец</td>\n",
       "      <td>1999</td>\n",
       "      <td>2</td>\n",
       "      <td>46574</td>\n",
       "      <td>3847982200</td>\n",
       "      <td>4.668144</td>\n",
       "      <td>9.585233</td>\n",
       "    </tr>\n",
       "    <tr>\n",
       "      <th>392</th>\n",
       "      <td>Золото</td>\n",
       "      <td>2010</td>\n",
       "      <td>13</td>\n",
       "      <td>53857</td>\n",
       "      <td>101977821519</td>\n",
       "      <td>4.731242</td>\n",
       "      <td>11.008506</td>\n",
       "    </tr>\n",
       "    <tr>\n",
       "      <th>304</th>\n",
       "      <td>Свинец</td>\n",
       "      <td>2002</td>\n",
       "      <td>5</td>\n",
       "      <td>56032</td>\n",
       "      <td>3822050700</td>\n",
       "      <td>4.748436</td>\n",
       "      <td>9.582296</td>\n",
       "    </tr>\n",
       "    <tr>\n",
       "      <th>393</th>\n",
       "      <td>Золото</td>\n",
       "      <td>2011</td>\n",
       "      <td>14</td>\n",
       "      <td>58521</td>\n",
       "      <td>119496712228</td>\n",
       "      <td>4.767312</td>\n",
       "      <td>11.077356</td>\n",
       "    </tr>\n",
       "    <tr>\n",
       "      <th>305</th>\n",
       "      <td>Свинец</td>\n",
       "      <td>2003</td>\n",
       "      <td>6</td>\n",
       "      <td>67167</td>\n",
       "      <td>4521691200</td>\n",
       "      <td>4.827156</td>\n",
       "      <td>9.655301</td>\n",
       "    </tr>\n",
       "    <tr>\n",
       "      <th>395</th>\n",
       "      <td>Золото</td>\n",
       "      <td>2013</td>\n",
       "      <td>16</td>\n",
       "      <td>76482</td>\n",
       "      <td>121153556757</td>\n",
       "      <td>4.883559</td>\n",
       "      <td>11.083336</td>\n",
       "    </tr>\n",
       "    <tr>\n",
       "      <th>399</th>\n",
       "      <td>Золото</td>\n",
       "      <td>2017</td>\n",
       "      <td>20</td>\n",
       "      <td>78139</td>\n",
       "      <td>125527995466</td>\n",
       "      <td>4.892868</td>\n",
       "      <td>11.098741</td>\n",
       "    </tr>\n",
       "    <tr>\n",
       "      <th>394</th>\n",
       "      <td>Золото</td>\n",
       "      <td>2012</td>\n",
       "      <td>15</td>\n",
       "      <td>81185</td>\n",
       "      <td>133913372249</td>\n",
       "      <td>4.909476</td>\n",
       "      <td>11.126824</td>\n",
       "    </tr>\n",
       "    <tr>\n",
       "      <th>306</th>\n",
       "      <td>Свинец</td>\n",
       "      <td>2004</td>\n",
       "      <td>7</td>\n",
       "      <td>83980</td>\n",
       "      <td>7371676900</td>\n",
       "      <td>4.924176</td>\n",
       "      <td>9.867566</td>\n",
       "    </tr>\n",
       "    <tr>\n",
       "      <th>396</th>\n",
       "      <td>Золото</td>\n",
       "      <td>2014</td>\n",
       "      <td>17</td>\n",
       "      <td>93516</td>\n",
       "      <td>113895616608</td>\n",
       "      <td>4.970886</td>\n",
       "      <td>11.056507</td>\n",
       "    </tr>\n",
       "    <tr>\n",
       "      <th>307</th>\n",
       "      <td>Свинец</td>\n",
       "      <td>2005</td>\n",
       "      <td>8</td>\n",
       "      <td>98382</td>\n",
       "      <td>8505230000</td>\n",
       "      <td>4.992916</td>\n",
       "      <td>9.929686</td>\n",
       "    </tr>\n",
       "    <tr>\n",
       "      <th>397</th>\n",
       "      <td>Золото</td>\n",
       "      <td>2015</td>\n",
       "      <td>18</td>\n",
       "      <td>103436</td>\n",
       "      <td>117818989035</td>\n",
       "      <td>5.014672</td>\n",
       "      <td>11.071215</td>\n",
       "    </tr>\n",
       "    <tr>\n",
       "      <th>398</th>\n",
       "      <td>Золото</td>\n",
       "      <td>2016</td>\n",
       "      <td>19</td>\n",
       "      <td>115039</td>\n",
       "      <td>133237001898</td>\n",
       "      <td>5.060845</td>\n",
       "      <td>11.124625</td>\n",
       "    </tr>\n",
       "    <tr>\n",
       "      <th>308</th>\n",
       "      <td>Свинец</td>\n",
       "      <td>2006</td>\n",
       "      <td>9</td>\n",
       "      <td>118667</td>\n",
       "      <td>11315838000</td>\n",
       "      <td>5.074330</td>\n",
       "      <td>10.053687</td>\n",
       "    </tr>\n",
       "    <tr>\n",
       "      <th>309</th>\n",
       "      <td>Свинец</td>\n",
       "      <td>2007</td>\n",
       "      <td>10</td>\n",
       "      <td>138793</td>\n",
       "      <td>22493536000</td>\n",
       "      <td>5.142368</td>\n",
       "      <td>10.352058</td>\n",
       "    </tr>\n",
       "    <tr>\n",
       "      <th>310</th>\n",
       "      <td>Свинец</td>\n",
       "      <td>2008</td>\n",
       "      <td>11</td>\n",
       "      <td>216851</td>\n",
       "      <td>17870509500</td>\n",
       "      <td>5.336161</td>\n",
       "      <td>10.252137</td>\n",
       "    </tr>\n",
       "    <tr>\n",
       "      <th>311</th>\n",
       "      <td>Свинец</td>\n",
       "      <td>2009</td>\n",
       "      <td>12</td>\n",
       "      <td>217608</td>\n",
       "      <td>15916117600</td>\n",
       "      <td>5.337675</td>\n",
       "      <td>10.201837</td>\n",
       "    </tr>\n",
       "    <tr>\n",
       "      <th>312</th>\n",
       "      <td>Свинец</td>\n",
       "      <td>2010</td>\n",
       "      <td>13</td>\n",
       "      <td>242448</td>\n",
       "      <td>20646604500</td>\n",
       "      <td>5.384619</td>\n",
       "      <td>10.314849</td>\n",
       "    </tr>\n",
       "    <tr>\n",
       "      <th>313</th>\n",
       "      <td>Свинец</td>\n",
       "      <td>2011</td>\n",
       "      <td>14</td>\n",
       "      <td>307582</td>\n",
       "      <td>22054032000</td>\n",
       "      <td>5.487961</td>\n",
       "      <td>10.343488</td>\n",
       "    </tr>\n",
       "    <tr>\n",
       "      <th>314</th>\n",
       "      <td>Свинец</td>\n",
       "      <td>2012</td>\n",
       "      <td>15</td>\n",
       "      <td>368046</td>\n",
       "      <td>19479824000</td>\n",
       "      <td>5.565902</td>\n",
       "      <td>10.289585</td>\n",
       "    </tr>\n",
       "    <tr>\n",
       "      <th>315</th>\n",
       "      <td>Свинец</td>\n",
       "      <td>2013</td>\n",
       "      <td>16</td>\n",
       "      <td>387381</td>\n",
       "      <td>20862325000</td>\n",
       "      <td>5.588138</td>\n",
       "      <td>10.319363</td>\n",
       "    </tr>\n",
       "    <tr>\n",
       "      <th>319</th>\n",
       "      <td>Свинец</td>\n",
       "      <td>2017</td>\n",
       "      <td>20</td>\n",
       "      <td>592565</td>\n",
       "      <td>19378702500</td>\n",
       "      <td>5.772736</td>\n",
       "      <td>10.287325</td>\n",
       "    </tr>\n",
       "    <tr>\n",
       "      <th>316</th>\n",
       "      <td>Свинец</td>\n",
       "      <td>2014</td>\n",
       "      <td>17</td>\n",
       "      <td>627674</td>\n",
       "      <td>20519586000</td>\n",
       "      <td>5.797734</td>\n",
       "      <td>10.312169</td>\n",
       "    </tr>\n",
       "    <tr>\n",
       "      <th>317</th>\n",
       "      <td>Свинец</td>\n",
       "      <td>2015</td>\n",
       "      <td>18</td>\n",
       "      <td>836991</td>\n",
       "      <td>18998408000</td>\n",
       "      <td>5.922721</td>\n",
       "      <td>10.278717</td>\n",
       "    </tr>\n",
       "    <tr>\n",
       "      <th>318</th>\n",
       "      <td>Свинец</td>\n",
       "      <td>2016</td>\n",
       "      <td>19</td>\n",
       "      <td>854040</td>\n",
       "      <td>19758997000</td>\n",
       "      <td>5.931478</td>\n",
       "      <td>10.295765</td>\n",
       "    </tr>\n",
       "  </tbody>\n",
       "</table>\n",
       "<p>137 rows × 7 columns</p>\n",
       "</div>"
      ],
      "text/plain": [
       "            name  date   t  freq_sum        market  freq_sum_log10  \\\n",
       "339        Олово  2017  20      5488    5545392160        3.739414   \n",
       "376         Цинк  2014  17      5665   27150088000        3.753200   \n",
       "205     Апельсин  2003   6      5836   53274052780        3.766115   \n",
       "116  Соевые бобы  2014  17      5861  157190294002        3.767972   \n",
       "410      Платина  2008  11      5880    9500667847        3.769377   \n",
       "266     Алюминий  2004   7      5891   60328034000        3.770189   \n",
       "336        Олово  2014  17      5898    5826366720        3.770705   \n",
       "252       Хлопок  2010  13      5899  125888376000        3.770778   \n",
       "226     Говядина  2004   7      5921  201796128620        3.772395   \n",
       "350       Никель  2008  11      6103   33051496800        3.785543   \n",
       "411      Платина  2009  12      6182    7339999023        3.791129   \n",
       "251       Хлопок  2009  12      6197   73620788670        3.792181   \n",
       "286         Медь  2004   7      6255   53592540000        3.796227   \n",
       "352       Никель  2010  13      6288   37293133500        3.798513   \n",
       "253       Хлопок  2011  14      6290  186234855000        3.798651   \n",
       "338        Олово  2016  19      6452    5492710080        3.809694   \n",
       "353       Никель  2011  14      6466   40440542800        3.810636   \n",
       "254       Хлопок  2012  15      6482  111662068220        3.811709   \n",
       "255       Хлопок  2013  16      6497  105873660620        3.812713   \n",
       "413      Платина  2011  14      6534   10056967230        3.815179   \n",
       "337        Олово  2015  18      6548    5598074240        3.816109   \n",
       "378         Цинк  2016  19      6589   28004886000        3.818820   \n",
       "227     Говядина  2005   8      6607  201717784320        3.820004   \n",
       "412      Платина  2010  13      6634    9988635740        3.821775   \n",
       "117  Соевые бобы  2015  18      6659  147945938159        3.823409   \n",
       "377         Цинк  2015  18      6690   26645760000        3.825426   \n",
       "379         Цинк  2017  20      6869   27325323000        3.836894   \n",
       "380       Золото  1998   1      7006   28774072733        3.845470   \n",
       "382       Золото  2000   3      7165   29204564175        3.855216   \n",
       "206     Апельсин  2004   7      7169   68029791290        3.855459   \n",
       "..           ...   ...  ..       ...           ...             ...   \n",
       "217     Апельсин  2015  18     38110   55701785250        4.581039   \n",
       "302       Свинец  2000   3     41417    3754350600        4.617179   \n",
       "391       Золото  2009  12     42580   80747720852        4.629206   \n",
       "390       Золото  2008  11     43678   62137992257        4.640263   \n",
       "303       Свинец  2001   4     44809    4023046000        4.651365   \n",
       "301       Свинец  1999   2     46574    3847982200        4.668144   \n",
       "392       Золото  2010  13     53857  101977821519        4.731242   \n",
       "304       Свинец  2002   5     56032    3822050700        4.748436   \n",
       "393       Золото  2011  14     58521  119496712228        4.767312   \n",
       "305       Свинец  2003   6     67167    4521691200        4.827156   \n",
       "395       Золото  2013  16     76482  121153556757        4.883559   \n",
       "399       Золото  2017  20     78139  125527995466        4.892868   \n",
       "394       Золото  2012  15     81185  133913372249        4.909476   \n",
       "306       Свинец  2004   7     83980    7371676900        4.924176   \n",
       "396       Золото  2014  17     93516  113895616608        4.970886   \n",
       "307       Свинец  2005   8     98382    8505230000        4.992916   \n",
       "397       Золото  2015  18    103436  117818989035        5.014672   \n",
       "398       Золото  2016  19    115039  133237001898        5.060845   \n",
       "308       Свинец  2006   9    118667   11315838000        5.074330   \n",
       "309       Свинец  2007  10    138793   22493536000        5.142368   \n",
       "310       Свинец  2008  11    216851   17870509500        5.336161   \n",
       "311       Свинец  2009  12    217608   15916117600        5.337675   \n",
       "312       Свинец  2010  13    242448   20646604500        5.384619   \n",
       "313       Свинец  2011  14    307582   22054032000        5.487961   \n",
       "314       Свинец  2012  15    368046   19479824000        5.565902   \n",
       "315       Свинец  2013  16    387381   20862325000        5.588138   \n",
       "319       Свинец  2017  20    592565   19378702500        5.772736   \n",
       "316       Свинец  2014  17    627674   20519586000        5.797734   \n",
       "317       Свинец  2015  18    836991   18998408000        5.922721   \n",
       "318       Свинец  2016  19    854040   19758997000        5.931478   \n",
       "\n",
       "     market_log10  \n",
       "339      9.743932  \n",
       "376     10.433771  \n",
       "205     10.726516  \n",
       "116     11.196426  \n",
       "410      9.977754  \n",
       "266     10.780519  \n",
       "336      9.765398  \n",
       "252     11.099986  \n",
       "226     11.304913  \n",
       "350     10.519191  \n",
       "411      9.865696  \n",
       "251     10.867000  \n",
       "286     10.729104  \n",
       "352     10.571629  \n",
       "253     11.270061  \n",
       "338      9.739787  \n",
       "353     10.606817  \n",
       "254     11.047906  \n",
       "255     11.024788  \n",
       "413     10.002467  \n",
       "337      9.748039  \n",
       "378     10.447234  \n",
       "227     11.304744  \n",
       "412      9.999506  \n",
       "117     11.170103  \n",
       "377     10.425628  \n",
       "379     10.436565  \n",
       "380     10.459001  \n",
       "382     10.465451  \n",
       "206     10.832699  \n",
       "..            ...  \n",
       "217     10.745869  \n",
       "302      9.574535  \n",
       "391     10.907130  \n",
       "390     10.793357  \n",
       "303      9.604555  \n",
       "301      9.585233  \n",
       "392     11.008506  \n",
       "304      9.582296  \n",
       "393     11.077356  \n",
       "305      9.655301  \n",
       "395     11.083336  \n",
       "399     11.098741  \n",
       "394     11.126824  \n",
       "306      9.867566  \n",
       "396     11.056507  \n",
       "307      9.929686  \n",
       "397     11.071215  \n",
       "398     11.124625  \n",
       "308     10.053687  \n",
       "309     10.352058  \n",
       "310     10.252137  \n",
       "311     10.201837  \n",
       "312     10.314849  \n",
       "313     10.343488  \n",
       "314     10.289585  \n",
       "315     10.319363  \n",
       "319     10.287325  \n",
       "316     10.312169  \n",
       "317     10.278717  \n",
       "318     10.295765  \n",
       "\n",
       "[137 rows x 7 columns]"
      ]
     },
     "execution_count": 68,
     "metadata": {},
     "output_type": "execute_result"
    }
   ],
   "source": [
    "data_2_cut.sort_values(by='freq_sum_log10')"
   ]
  },
  {
   "cell_type": "code",
   "execution_count": 69,
   "metadata": {
    "scrolled": true
   },
   "outputs": [
    {
     "data": {
      "text/plain": [
       "0.4351557001222428"
      ]
     },
     "execution_count": 69,
     "metadata": {},
     "output_type": "execute_result"
    },
    {
     "data": {
      "image/png": "[encoded data removed]",
      "text/plain": [
       "<Figure size 432x288 with 1 Axes>"
      ]
     },
     "metadata": {
      "needs_background": "light"
     },
     "output_type": "display_data"
    }
   ],
   "source": [
    "from sklearn.isotonic import IsotonicRegression\n",
    "\n",
    "iso_model = IsotonicRegression(out_of_bounds='clip')\n",
    "data2017 = np.array(\n",
    "    data_2_cut[data_2_cut['t'] == 20]\n",
    "        .loc[:, ['freq_sum_log10', 'market_log10']]\n",
    "        .sort_values(by='freq_sum_log10'))\n",
    "X_2017 = data2017[:, 0]\n",
    "y_2017 = data2017[:, 1]\n",
    "iso_model.fit(X_2017, y_2017)\n",
    "plt.plot(X_2017, iso_model.predict(X_2017))\n",
    "plt.scatter(X_2017, y_2017)\n",
    "r2_score(y_2017, iso_model.predict(X_2017))"
   ]
  },
  {
   "cell_type": "code",
   "execution_count": 70,
   "metadata": {},
   "outputs": [],
   "source": [
    "iso_min_2 = 10**iso_model.predict(X_2017).min()"
   ]
  },
  {
   "cell_type": "code",
   "execution_count": 71,
   "metadata": {},
   "outputs": [
    {
     "data": {
      "text/plain": [
       "5545392159.999995"
      ]
     },
     "execution_count": 71,
     "metadata": {},
     "output_type": "execute_result"
    }
   ],
   "source": [
    "iso_min_2"
   ]
  },
  {
   "cell_type": "code",
   "execution_count": 72,
   "metadata": {},
   "outputs": [
    {
     "data": {
      "text/plain": [
       "4684445063.000016"
      ]
     },
     "execution_count": 72,
     "metadata": {},
     "output_type": "execute_result"
    }
   ],
   "source": [
    "iso_min_1 - iso_min_2"
   ]
  },
  {
   "cell_type": "markdown",
   "metadata": {},
   "source": [
    "# Alternatives"
   ]
  },
  {
   "cell_type": "code",
   "execution_count": 23,
   "metadata": {},
   "outputs": [],
   "source": [
    "data_16_17 = data[data['t'] == 20].loc[:,['freq_sum','market']]\n",
    "data_16_17['freq_sum_t-1'] = data[data['t'] == 19].freq_sum.tolist()"
   ]
  },
  {
   "cell_type": "code",
   "execution_count": 24,
   "metadata": {},
   "outputs": [
    {
     "data": {
      "text/html": [
       "<div>\n",
       "<style scoped>\n",
       "    .dataframe tbody tr th:only-of-type {\n",
       "        vertical-align: middle;\n",
       "    }\n",
       "\n",
       "    .dataframe tbody tr th {\n",
       "        vertical-align: top;\n",
       "    }\n",
       "\n",
       "    .dataframe thead th {\n",
       "        text-align: right;\n",
       "    }\n",
       "</style>\n",
       "<table border=\"1\" class=\"dataframe\">\n",
       "  <thead>\n",
       "    <tr style=\"text-align: right;\">\n",
       "      <th></th>\n",
       "      <th>freq_sum</th>\n",
       "      <th>market</th>\n",
       "      <th>freq_sum_t-1</th>\n",
       "    </tr>\n",
       "  </thead>\n",
       "  <tbody>\n",
       "    <tr>\n",
       "      <th>19</th>\n",
       "      <td>942</td>\n",
       "      <td>10870319900</td>\n",
       "      <td>1123</td>\n",
       "    </tr>\n",
       "    <tr>\n",
       "      <th>39</th>\n",
       "      <td>1034</td>\n",
       "      <td>25099327340</td>\n",
       "      <td>973</td>\n",
       "    </tr>\n",
       "    <tr>\n",
       "      <th>59</th>\n",
       "      <td>218</td>\n",
       "      <td>108226207717</td>\n",
       "      <td>260</td>\n",
       "    </tr>\n",
       "    <tr>\n",
       "      <th>79</th>\n",
       "      <td>32</td>\n",
       "      <td>10229837223</td>\n",
       "      <td>51</td>\n",
       "    </tr>\n",
       "    <tr>\n",
       "      <th>99</th>\n",
       "      <td>1872</td>\n",
       "      <td>13469577625</td>\n",
       "      <td>2906</td>\n",
       "    </tr>\n",
       "    <tr>\n",
       "      <th>119</th>\n",
       "      <td>9150</td>\n",
       "      <td>163046382909</td>\n",
       "      <td>8723</td>\n",
       "    </tr>\n",
       "    <tr>\n",
       "      <th>139</th>\n",
       "      <td>604</td>\n",
       "      <td>54806206589</td>\n",
       "      <td>759</td>\n",
       "    </tr>\n",
       "    <tr>\n",
       "      <th>159</th>\n",
       "      <td>2428</td>\n",
       "      <td>16516909829</td>\n",
       "      <td>3598</td>\n",
       "    </tr>\n",
       "    <tr>\n",
       "      <th>179</th>\n",
       "      <td>1834</td>\n",
       "      <td>244073442574</td>\n",
       "      <td>2325</td>\n",
       "    </tr>\n",
       "    <tr>\n",
       "      <th>199</th>\n",
       "      <td>1338</td>\n",
       "      <td>11156413313</td>\n",
       "      <td>1410</td>\n",
       "    </tr>\n",
       "    <tr>\n",
       "      <th>219</th>\n",
       "      <td>24096</td>\n",
       "      <td>68059088660</td>\n",
       "      <td>34898</td>\n",
       "    </tr>\n",
       "    <tr>\n",
       "      <th>239</th>\n",
       "      <td>24854</td>\n",
       "      <td>329961030410</td>\n",
       "      <td>24884</td>\n",
       "    </tr>\n",
       "    <tr>\n",
       "      <th>259</th>\n",
       "      <td>9954</td>\n",
       "      <td>123748407816</td>\n",
       "      <td>10597</td>\n",
       "    </tr>\n",
       "    <tr>\n",
       "      <th>279</th>\n",
       "      <td>19497</td>\n",
       "      <td>120949088000</td>\n",
       "      <td>22631</td>\n",
       "    </tr>\n",
       "    <tr>\n",
       "      <th>299</th>\n",
       "      <td>25503</td>\n",
       "      <td>132949893500</td>\n",
       "      <td>30990</td>\n",
       "    </tr>\n",
       "    <tr>\n",
       "      <th>319</th>\n",
       "      <td>592565</td>\n",
       "      <td>19378702500</td>\n",
       "      <td>854040</td>\n",
       "    </tr>\n",
       "    <tr>\n",
       "      <th>339</th>\n",
       "      <td>5488</td>\n",
       "      <td>5545392160</td>\n",
       "      <td>6452</td>\n",
       "    </tr>\n",
       "    <tr>\n",
       "      <th>359</th>\n",
       "      <td>8249</td>\n",
       "      <td>23620168000</td>\n",
       "      <td>9099</td>\n",
       "    </tr>\n",
       "    <tr>\n",
       "      <th>379</th>\n",
       "      <td>6869</td>\n",
       "      <td>27325323000</td>\n",
       "      <td>6589</td>\n",
       "    </tr>\n",
       "    <tr>\n",
       "      <th>399</th>\n",
       "      <td>78139</td>\n",
       "      <td>125527995466</td>\n",
       "      <td>115039</td>\n",
       "    </tr>\n",
       "    <tr>\n",
       "      <th>419</th>\n",
       "      <td>10345</td>\n",
       "      <td>6237527728</td>\n",
       "      <td>14187</td>\n",
       "    </tr>\n",
       "    <tr>\n",
       "      <th>439</th>\n",
       "      <td>34023</td>\n",
       "      <td>14512086</td>\n",
       "      <td>50203</td>\n",
       "    </tr>\n",
       "    <tr>\n",
       "      <th>459</th>\n",
       "      <td>11603</td>\n",
       "      <td>1791679</td>\n",
       "      <td>18018</td>\n",
       "    </tr>\n",
       "  </tbody>\n",
       "</table>\n",
       "</div>"
      ],
      "text/plain": [
       "     freq_sum        market  freq_sum_t-1\n",
       "19        942   10870319900          1123\n",
       "39       1034   25099327340           973\n",
       "59        218  108226207717           260\n",
       "79         32   10229837223            51\n",
       "99       1872   13469577625          2906\n",
       "119      9150  163046382909          8723\n",
       "139       604   54806206589           759\n",
       "159      2428   16516909829          3598\n",
       "179      1834  244073442574          2325\n",
       "199      1338   11156413313          1410\n",
       "219     24096   68059088660         34898\n",
       "239     24854  329961030410         24884\n",
       "259      9954  123748407816         10597\n",
       "279     19497  120949088000         22631\n",
       "299     25503  132949893500         30990\n",
       "319    592565   19378702500        854040\n",
       "339      5488    5545392160          6452\n",
       "359      8249   23620168000          9099\n",
       "379      6869   27325323000          6589\n",
       "399     78139  125527995466        115039\n",
       "419     10345    6237527728         14187\n",
       "439     34023      14512086         50203\n",
       "459     11603       1791679         18018"
      ]
     },
     "execution_count": 24,
     "metadata": {},
     "output_type": "execute_result"
    }
   ],
   "source": [
    "data_16_17"
   ]
  },
  {
   "cell_type": "code",
   "execution_count": 28,
   "metadata": {},
   "outputs": [],
   "source": [
    "from sklearn.metrics import r2_score\n",
    "from sklearn.neighbors import KNeighborsRegressor"
   ]
  },
  {
   "cell_type": "code",
   "execution_count": 29,
   "metadata": {},
   "outputs": [],
   "source": [
    "X_2017 = data_16_17.sort_values(by='freq_sum')[['freq_sum', 'freq_sum_t-1']]\n",
    "y_2017 = data_16_17.sort_values(by='freq_sum')['market']"
   ]
  },
  {
   "cell_type": "code",
   "execution_count": 30,
   "metadata": {},
   "outputs": [],
   "source": [
    "clf = KNeighborsRegressor(n_neighbors=3, \n",
    "                                  metric='minkowski' # default\n",
    "                                 ).fit(X_2017, y_2017)\n",
    "Y_pred = clf.predict(X_2017)"
   ]
  },
  {
   "cell_type": "code",
   "execution_count": 31,
   "metadata": {},
   "outputs": [
    {
     "data": {
      "text/plain": [
       "0.40880039265006274"
      ]
     },
     "execution_count": 31,
     "metadata": {},
     "output_type": "execute_result"
    }
   ],
   "source": [
    "r2_score(np.array(y_2017).reshape(-1, 1), Y_pred)"
   ]
  },
  {
   "cell_type": "code",
   "execution_count": 33,
   "metadata": {},
   "outputs": [
    {
     "data": {
      "text/plain": [
       "<matplotlib.collections.PathCollection at 0x7f33bd090978>"
      ]
     },
     "execution_count": 33,
     "metadata": {},
     "output_type": "execute_result"
    },
    {
     "data": {
      "image/png": "[encoded data removed]",
      "text/plain": [
       "<Figure size 432x288 with 1 Axes>"
      ]
     },
     "metadata": {
      "needs_background": "light"
     },
     "output_type": "display_data"
    }
   ],
   "source": [
    "plt.plot(X_2017.freq_sum, Y_pred)\n",
    "plt.scatter(X_2017.freq_sum, y_2017)"
   ]
  },
  {
   "cell_type": "markdown",
   "metadata": {},
   "source": [
    "And the same for logged data"
   ]
  },
  {
   "cell_type": "code",
   "execution_count": 34,
   "metadata": {},
   "outputs": [],
   "source": [
    "data_16_17_l = data[data['t'] == 20].loc[:,['freq_sum_log10','market_log10']]\n",
    "data_16_17_l['freq_sum_l_t-1'] = data[data['t'] == 19].freq_sum_log10.tolist()"
   ]
  },
  {
   "cell_type": "code",
   "execution_count": 35,
   "metadata": {},
   "outputs": [],
   "source": [
    "X_2017 = data_16_17_l.sort_values(by='freq_sum_log10')[['freq_sum_log10', 'freq_sum_l_t-1']]\n",
    "y_2017 = data_16_17_l.sort_values(by='freq_sum_log10')['market_log10']"
   ]
  },
  {
   "cell_type": "code",
   "execution_count": 36,
   "metadata": {},
   "outputs": [],
   "source": [
    "clf = KNeighborsRegressor(n_neighbors=3, \n",
    "                                  metric='minkowski' # default\n",
    "                                 ).fit(X_2017, y_2017)\n",
    "Y_pred = clf.predict(X_2017)"
   ]
  },
  {
   "cell_type": "code",
   "execution_count": 37,
   "metadata": {},
   "outputs": [
    {
     "data": {
      "text/plain": [
       "0.416547204370579"
      ]
     },
     "execution_count": 37,
     "metadata": {},
     "output_type": "execute_result"
    }
   ],
   "source": [
    "r2_score(np.array(y_2017).reshape(-1, 1), Y_pred)"
   ]
  },
  {
   "cell_type": "code",
   "execution_count": 40,
   "metadata": {},
   "outputs": [
    {
     "data": {
      "text/plain": [
       "<matplotlib.collections.PathCollection at 0x7f33b8f65668>"
      ]
     },
     "execution_count": 40,
     "metadata": {},
     "output_type": "execute_result"
    },
    {
     "data": {
      "image/png": "[encoded data removed]",
      "text/plain": [
       "<Figure size 432x288 with 1 Axes>"
      ]
     },
     "metadata": {
      "needs_background": "light"
     },
     "output_type": "display_data"
    }
   ],
   "source": [
    "plt.plot(X_2017, Y_pred)\n",
    "plt.scatter(X_2017.freq_sum_log10, y_2017)"
   ]
  },
  {
   "cell_type": "markdown",
   "metadata": {},
   "source": [
    "On unlogged data"
   ]
  },
  {
   "cell_type": "code",
   "execution_count": 39,
   "metadata": {},
   "outputs": [
    {
     "data": {
      "text/plain": [
       "0.3360799405711351"
      ]
     },
     "execution_count": 39,
     "metadata": {},
     "output_type": "execute_result"
    }
   ],
   "source": [
    "r2_score(np.array(10**y_2017).reshape(-1, 1), 10**Y_pred)"
   ]
  },
  {
   "cell_type": "code",
   "execution_count": 43,
   "metadata": {},
   "outputs": [
    {
     "data": {
      "text/plain": [
       "<matplotlib.collections.PathCollection at 0x7f33bd47d6d8>"
      ]
     },
     "execution_count": 43,
     "metadata": {},
     "output_type": "execute_result"
    },
    {
     "data": {
      "image/png": "[encoded data removed]",
      "text/plain": [
       "<Figure size 1368x504 with 1 Axes>"
      ]
     },
     "metadata": {
      "needs_background": "light"
     },
     "output_type": "display_data"
    }
   ],
   "source": [
    "plt.figure(figsize=(19,7))\n",
    "plt.plot(10**X_2017, 10**Y_pred)\n",
    "plt.scatter(10**X_2017.freq_sum_log10, 10**y_2017)"
   ]
  },
  {
   "cell_type": "markdown",
   "metadata": {},
   "source": []
  },
  {
   "cell_type": "code",
   "execution_count": 45,
   "metadata": {},
   "outputs": [],
   "source": [
    "data_16_17['name'] = data[data['t'] == 19].name.tolist()"
   ]
  },
  {
   "cell_type": "code",
   "execution_count": 46,
   "metadata": {},
   "outputs": [],
   "source": [
    "unique_items = data_16_17['name'].unique()"
   ]
  },
  {
   "cell_type": "code",
   "execution_count": 47,
   "metadata": {},
   "outputs": [],
   "source": [
    "actuals = []\n",
    "predictions = []\n",
    "pred_data = []\n",
    "for item in unique_items:\n",
    "    working_data = data_16_17[data_16_17['name'] != item]\n",
    "    Y_real = int(data_16_17[data_16_17['name'] == item].market)\n",
    "    X_to_pred = data_16_17[data_16_17['name'] == item][['freq_sum', 'freq_sum_t-1']]\n",
    "    \n",
    "    X_2017 = working_data[['freq_sum', 'freq_sum_t-1']]\n",
    "    y_2017 = working_data['market']\n",
    "    clf = KNeighborsRegressor(n_neighbors=3, \n",
    "                                  metric='minkowski' # default\n",
    "                                 ).fit(X_2017, y_2017)\n",
    "    Y_pred = clf.predict(X_to_pred)\n",
    "    predictions.append(int(Y_pred))\n",
    "    actuals.append(Y_real)\n",
    "    pred_data.append({\"name\":item, \"actual\":Y_real, \"preds\":int(Y_pred)})"
   ]
  },
  {
   "cell_type": "code",
   "execution_count": 48,
   "metadata": {},
   "outputs": [
    {
     "data": {
      "text/html": [
       "<div>\n",
       "<style scoped>\n",
       "    .dataframe tbody tr th:only-of-type {\n",
       "        vertical-align: middle;\n",
       "    }\n",
       "\n",
       "    .dataframe tbody tr th {\n",
       "        vertical-align: top;\n",
       "    }\n",
       "\n",
       "    .dataframe thead th {\n",
       "        text-align: right;\n",
       "    }\n",
       "</style>\n",
       "<table border=\"1\" class=\"dataframe\">\n",
       "  <thead>\n",
       "    <tr style=\"text-align: right;\">\n",
       "      <th></th>\n",
       "      <th>actual</th>\n",
       "      <th>name</th>\n",
       "      <th>preds</th>\n",
       "    </tr>\n",
       "  </thead>\n",
       "  <tbody>\n",
       "    <tr>\n",
       "      <th>0</th>\n",
       "      <td>10870319900</td>\n",
       "      <td>Какао</td>\n",
       "      <td>30353982414</td>\n",
       "    </tr>\n",
       "    <tr>\n",
       "      <th>1</th>\n",
       "      <td>25099327340</td>\n",
       "      <td>Кокосовое масло</td>\n",
       "      <td>25610979934</td>\n",
       "    </tr>\n",
       "    <tr>\n",
       "      <th>2</th>\n",
       "      <td>108226207717</td>\n",
       "      <td>Арахис</td>\n",
       "      <td>30045123717</td>\n",
       "    </tr>\n",
       "    <tr>\n",
       "      <th>3</th>\n",
       "      <td>10229837223</td>\n",
       "      <td>Арахисовое масло</td>\n",
       "      <td>62710580548</td>\n",
       "    </tr>\n",
       "    <tr>\n",
       "      <th>4</th>\n",
       "      <td>13469577625</td>\n",
       "      <td>Пальмовое масло</td>\n",
       "      <td>90582255238</td>\n",
       "    </tr>\n",
       "    <tr>\n",
       "      <th>5</th>\n",
       "      <td>163046382909</td>\n",
       "      <td>Соевые бобы</td>\n",
       "      <td>58231299605</td>\n",
       "    </tr>\n",
       "    <tr>\n",
       "      <th>6</th>\n",
       "      <td>54806206589</td>\n",
       "      <td>Соевое масло</td>\n",
       "      <td>48065284985</td>\n",
       "    </tr>\n",
       "    <tr>\n",
       "      <th>7</th>\n",
       "      <td>16516909829</td>\n",
       "      <td>Ячмень</td>\n",
       "      <td>89566477837</td>\n",
       "    </tr>\n",
       "    <tr>\n",
       "      <th>8</th>\n",
       "      <td>244073442574</td>\n",
       "      <td>Маис</td>\n",
       "      <td>13714300255</td>\n",
       "    </tr>\n",
       "    <tr>\n",
       "      <th>9</th>\n",
       "      <td>11156413313</td>\n",
       "      <td>Сорго</td>\n",
       "      <td>30258617943</td>\n",
       "    </tr>\n",
       "    <tr>\n",
       "      <th>10</th>\n",
       "      <td>68059088660</td>\n",
       "      <td>Апельсин</td>\n",
       "      <td>194620003970</td>\n",
       "    </tr>\n",
       "    <tr>\n",
       "      <th>11</th>\n",
       "      <td>329961030410</td>\n",
       "      <td>Говядина</td>\n",
       "      <td>107319356720</td>\n",
       "    </tr>\n",
       "    <tr>\n",
       "      <th>12</th>\n",
       "      <td>123748407816</td>\n",
       "      <td>Хлопок</td>\n",
       "      <td>64301359545</td>\n",
       "    </tr>\n",
       "    <tr>\n",
       "      <th>13</th>\n",
       "      <td>120949088000</td>\n",
       "      <td>Алюминий</td>\n",
       "      <td>154304238529</td>\n",
       "    </tr>\n",
       "    <tr>\n",
       "      <th>14</th>\n",
       "      <td>132949893500</td>\n",
       "      <td>Медь</td>\n",
       "      <td>172989735690</td>\n",
       "    </tr>\n",
       "    <tr>\n",
       "      <th>15</th>\n",
       "      <td>19378702500</td>\n",
       "      <td>Свинец</td>\n",
       "      <td>64533865404</td>\n",
       "    </tr>\n",
       "    <tr>\n",
       "      <th>16</th>\n",
       "      <td>5545392160</td>\n",
       "      <td>Олово</td>\n",
       "      <td>22487466943</td>\n",
       "    </tr>\n",
       "    <tr>\n",
       "      <th>17</th>\n",
       "      <td>23620168000</td>\n",
       "      <td>Никель</td>\n",
       "      <td>104706704575</td>\n",
       "    </tr>\n",
       "    <tr>\n",
       "      <th>18</th>\n",
       "      <td>27325323000</td>\n",
       "      <td>Цинк</td>\n",
       "      <td>64070647689</td>\n",
       "    </tr>\n",
       "    <tr>\n",
       "      <th>19</th>\n",
       "      <td>125527995466</td>\n",
       "      <td>Золото</td>\n",
       "      <td>67007831415</td>\n",
       "    </tr>\n",
       "    <tr>\n",
       "      <th>20</th>\n",
       "      <td>6237527728</td>\n",
       "      <td>Платина</td>\n",
       "      <td>49123455831</td>\n",
       "    </tr>\n",
       "    <tr>\n",
       "      <th>21</th>\n",
       "      <td>14512086</td>\n",
       "      <td>Серебро</td>\n",
       "      <td>176990004190</td>\n",
       "    </tr>\n",
       "    <tr>\n",
       "      <th>22</th>\n",
       "      <td>1791679</td>\n",
       "      <td>Сырая нефть</td>\n",
       "      <td>83645007848</td>\n",
       "    </tr>\n",
       "  </tbody>\n",
       "</table>\n",
       "</div>"
      ],
      "text/plain": [
       "          actual              name         preds\n",
       "0    10870319900             Какао   30353982414\n",
       "1    25099327340   Кокосовое масло   25610979934\n",
       "2   108226207717            Арахис   30045123717\n",
       "3    10229837223  Арахисовое масло   62710580548\n",
       "4    13469577625   Пальмовое масло   90582255238\n",
       "5   163046382909       Соевые бобы   58231299605\n",
       "6    54806206589      Соевое масло   48065284985\n",
       "7    16516909829            Ячмень   89566477837\n",
       "8   244073442574              Маис   13714300255\n",
       "9    11156413313             Сорго   30258617943\n",
       "10   68059088660          Апельсин  194620003970\n",
       "11  329961030410          Говядина  107319356720\n",
       "12  123748407816            Хлопок   64301359545\n",
       "13  120949088000          Алюминий  154304238529\n",
       "14  132949893500              Медь  172989735690\n",
       "15   19378702500            Свинец   64533865404\n",
       "16    5545392160             Олово   22487466943\n",
       "17   23620168000            Никель  104706704575\n",
       "18   27325323000              Цинк   64070647689\n",
       "19  125527995466            Золото   67007831415\n",
       "20    6237527728           Платина   49123455831\n",
       "21      14512086           Серебро  176990004190\n",
       "22       1791679       Сырая нефть   83645007848"
      ]
     },
     "execution_count": 48,
     "metadata": {},
     "output_type": "execute_result"
    }
   ],
   "source": [
    "predss = pd.DataFrame(pred_data)\n",
    "predss"
   ]
  },
  {
   "cell_type": "code",
   "execution_count": 52,
   "metadata": {},
   "outputs": [
    {
     "data": {
      "image/png": "[encoded data removed]",
      "text/plain": [
       "<Figure size 432x288 with 1 Axes>"
      ]
     },
     "metadata": {
      "needs_background": "light"
     },
     "output_type": "display_data"
    }
   ],
   "source": [
    "plt.plot(predss.name, predss.actual)\n",
    "plt.scatter(predss.name, predss.preds)\n",
    "a = list(range(len(predss.name)))\n",
    "plt.xticks(a, list(predss.name), rotation='vertical')\n",
    "plt.show()"
   ]
  },
  {
   "cell_type": "code",
   "execution_count": 74,
   "metadata": {},
   "outputs": [
    {
     "data": {
      "text/plain": [
       "13714300255"
      ]
     },
     "execution_count": 74,
     "metadata": {},
     "output_type": "execute_result"
    }
   ],
   "source": [
    "predss_min_initial = predss.preds.min()\n",
    "predss_min_initial"
   ]
  },
  {
   "cell_type": "code",
   "execution_count": 77,
   "metadata": {},
   "outputs": [
    {
     "data": {
      "image/png": "[encoded data removed]",
      "text/plain": [
       "<Figure size 432x288 with 1 Axes>"
      ]
     },
     "metadata": {
      "needs_background": "light"
     },
     "output_type": "display_data"
    },
    {
     "data": {
      "text/plain": [
       "-0.2576314583695434"
      ]
     },
     "execution_count": 77,
     "metadata": {},
     "output_type": "execute_result"
    }
   ],
   "source": [
    "plt.plot(predss.name, predss.actual)\n",
    "plt.scatter(predss.name, (np.sin(predss.preds*0.9-1000000)*500000+10)**2**1/2+10000000000)\n",
    "a = list(range(len(predss.name)))\n",
    "plt.xticks(a, list(predss.name), rotation='vertical')\n",
    "plt.show()\n",
    "r2_score(predss.actual, (np.sin(predss.preds*0.9-1000000)*500000+10)**2**1/2+ 10000000000)"
   ]
  },
  {
   "cell_type": "code",
   "execution_count": 78,
   "metadata": {},
   "outputs": [],
   "source": [
    "predss_min_sin = ((np.sin(predss.preds*0.9-1000000)*500000+10)**2**1/2+ 10000000000).min()"
   ]
  },
  {
   "cell_type": "code",
   "execution_count": 79,
   "metadata": {},
   "outputs": [
    {
     "data": {
      "text/plain": [
       "10352579581.777187"
      ]
     },
     "execution_count": 79,
     "metadata": {},
     "output_type": "execute_result"
    }
   ],
   "source": [
    "predss_min_sin"
   ]
  },
  {
   "cell_type": "code",
   "execution_count": 80,
   "metadata": {},
   "outputs": [
    {
     "data": {
      "image/png": "[encoded data removed]",
      "text/plain": [
       "<Figure size 432x288 with 1 Axes>"
      ]
     },
     "metadata": {
      "needs_background": "light"
     },
     "output_type": "display_data"
    },
    {
     "data": {
      "text/plain": [
       "-0.13938290377898688"
      ]
     },
     "execution_count": 80,
     "metadata": {},
     "output_type": "execute_result"
    }
   ],
   "source": [
    "plt.plot(predss.name, predss.actual)\n",
    "plt.scatter(predss.name, (np.cos(predss.preds*0.9-1000000)*500000+10)**2**1/2+10000000000)\n",
    "a = list(range(len(predss.name)))\n",
    "plt.xticks(a, list(predss.name), rotation='vertical')\n",
    "plt.show()\n",
    "r2_score(predss.actual, (np.cos(predss.preds*0.9-1000000)*500000+10)**2**1/2+ 10000000000)"
   ]
  },
  {
   "cell_type": "code",
   "execution_count": 81,
   "metadata": {},
   "outputs": [],
   "source": [
    "predss_min_cos = ((np.cos(predss.preds*0.9-1000000)*500000+10)**2**1/2+ 10000000000).min()"
   ]
  },
  {
   "cell_type": "code",
   "execution_count": 82,
   "metadata": {},
   "outputs": [
    {
     "data": {
      "text/plain": [
       "10627209493.244009"
      ]
     },
     "execution_count": 82,
     "metadata": {},
     "output_type": "execute_result"
    }
   ],
   "source": [
    "predss_min_cos"
   ]
  },
  {
   "cell_type": "markdown",
   "metadata": {},
   "source": [
    "## Minimal values on data"
   ]
  },
  {
   "cell_type": "code",
   "execution_count": 99,
   "metadata": {},
   "outputs": [],
   "source": [
    "mins = [iso_min_1, iso_min_2, predss_min_initial, predss_min_sin, predss_min_cos]\n"
   ]
  },
  {
   "cell_type": "code",
   "execution_count": 100,
   "metadata": {},
   "outputs": [
    {
     "name": "stdout",
     "output_type": "stream",
     "text": [
      "10229837223\n",
      "5545392159\n",
      "13714300255\n",
      "10352579581\n",
      "10627209493\n"
     ]
    }
   ],
   "source": [
    "int_mins = []\n",
    "for min_ in mins:\n",
    "    int_mins.append(int(min_))\n",
    "    print(int(min_))"
   ]
  },
  {
   "cell_type": "code",
   "execution_count": null,
   "metadata": {},
   "outputs": [],
   "source": []
  },
  {
   "cell_type": "markdown",
   "metadata": {},
   "source": [
    "## Какие цифры вообще может дать kNN"
   ]
  },
  {
   "cell_type": "code",
   "execution_count": 89,
   "metadata": {},
   "outputs": [],
   "source": [
    "expected_values = []\n",
    "# freqs = [5, 10, 100, 1000, 5000, 10000, 25000, 50000, 100000, 500000, 1000000]\n",
    "freqs = []\n",
    "for power in range(21):\n",
    "    freqs.append(2**power)"
   ]
  },
  {
   "cell_type": "code",
   "execution_count": 90,
   "metadata": {},
   "outputs": [],
   "source": [
    "from random import seed\n",
    "from random import randint\n",
    "values = [-1, 1, 0]\n",
    "freqs_prev = np.array(freqs)*0.99999 + np.random.choice(values, p = [0.4, 0.4, 0.2])"
   ]
  },
  {
   "cell_type": "code",
   "execution_count": 91,
   "metadata": {},
   "outputs": [],
   "source": [
    "preds = []\n",
    "for i in range(len(freqs_prev)-1):\n",
    "    X_test = pd.DataFrame([{'freq_sum':freqs[i], 'freq_sum_t-1':freqs_prev[i]}])\n",
    "    Y_preds = int(clf.predict(X_test))\n",
    "    Y_preds_m = (np.sin(Y_preds*0.9-1000000)*500000+10)**2**1/2+ 10000000000\n",
    "    preds.append({'X':int(X_test.freq_sum), 'pred':Y_preds, \"modify\":Y_preds_m})"
   ]
  },
  {
   "cell_type": "code",
   "execution_count": 92,
   "metadata": {},
   "outputs": [
    {
     "data": {
      "text/html": [
       "<div>\n",
       "<style scoped>\n",
       "    .dataframe tbody tr th:only-of-type {\n",
       "        vertical-align: middle;\n",
       "    }\n",
       "\n",
       "    .dataframe tbody tr th {\n",
       "        vertical-align: top;\n",
       "    }\n",
       "\n",
       "    .dataframe thead th {\n",
       "        text-align: right;\n",
       "    }\n",
       "</style>\n",
       "<table border=\"1\" class=\"dataframe\">\n",
       "  <thead>\n",
       "    <tr style=\"text-align: right;\">\n",
       "      <th></th>\n",
       "      <th>X</th>\n",
       "      <th>modify</th>\n",
       "      <th>pred</th>\n",
       "    </tr>\n",
       "  </thead>\n",
       "  <tbody>\n",
       "    <tr>\n",
       "      <th>0</th>\n",
       "      <td>1</td>\n",
       "      <td>1.113607e+11</td>\n",
       "      <td>57754083843</td>\n",
       "    </tr>\n",
       "    <tr>\n",
       "      <th>1</th>\n",
       "      <td>2</td>\n",
       "      <td>1.113607e+11</td>\n",
       "      <td>57754083843</td>\n",
       "    </tr>\n",
       "    <tr>\n",
       "      <th>2</th>\n",
       "      <td>4</td>\n",
       "      <td>1.113607e+11</td>\n",
       "      <td>57754083843</td>\n",
       "    </tr>\n",
       "    <tr>\n",
       "      <th>3</th>\n",
       "      <td>8</td>\n",
       "      <td>1.113607e+11</td>\n",
       "      <td>57754083843</td>\n",
       "    </tr>\n",
       "    <tr>\n",
       "      <th>4</th>\n",
       "      <td>16</td>\n",
       "      <td>1.113607e+11</td>\n",
       "      <td>57754083843</td>\n",
       "    </tr>\n",
       "    <tr>\n",
       "      <th>5</th>\n",
       "      <td>32</td>\n",
       "      <td>1.113607e+11</td>\n",
       "      <td>57754083843</td>\n",
       "    </tr>\n",
       "    <tr>\n",
       "      <th>6</th>\n",
       "      <td>64</td>\n",
       "      <td>1.113607e+11</td>\n",
       "      <td>57754083843</td>\n",
       "    </tr>\n",
       "    <tr>\n",
       "      <th>7</th>\n",
       "      <td>128</td>\n",
       "      <td>1.113607e+11</td>\n",
       "      <td>57754083843</td>\n",
       "    </tr>\n",
       "    <tr>\n",
       "      <th>8</th>\n",
       "      <td>256</td>\n",
       "      <td>1.113607e+11</td>\n",
       "      <td>57754083843</td>\n",
       "    </tr>\n",
       "    <tr>\n",
       "      <th>9</th>\n",
       "      <td>512</td>\n",
       "      <td>1.113607e+11</td>\n",
       "      <td>57754083843</td>\n",
       "    </tr>\n",
       "    <tr>\n",
       "      <th>10</th>\n",
       "      <td>1024</td>\n",
       "      <td>8.322581e+10</td>\n",
       "      <td>30258617943</td>\n",
       "    </tr>\n",
       "    <tr>\n",
       "      <th>11</th>\n",
       "      <td>2048</td>\n",
       "      <td>1.010628e+11</td>\n",
       "      <td>89566477837</td>\n",
       "    </tr>\n",
       "    <tr>\n",
       "      <th>12</th>\n",
       "      <td>4096</td>\n",
       "      <td>6.589062e+10</td>\n",
       "      <td>11843959871</td>\n",
       "    </tr>\n",
       "    <tr>\n",
       "      <th>13</th>\n",
       "      <td>8192</td>\n",
       "      <td>1.348057e+11</td>\n",
       "      <td>71330624636</td>\n",
       "    </tr>\n",
       "    <tr>\n",
       "      <th>14</th>\n",
       "      <td>16384</td>\n",
       "      <td>7.605111e+10</td>\n",
       "      <td>83645007848</td>\n",
       "    </tr>\n",
       "    <tr>\n",
       "      <th>15</th>\n",
       "      <td>32768</td>\n",
       "      <td>1.302328e+11</td>\n",
       "      <td>176990004190</td>\n",
       "    </tr>\n",
       "    <tr>\n",
       "      <th>16</th>\n",
       "      <td>65536</td>\n",
       "      <td>9.682347e+10</td>\n",
       "      <td>64533865404</td>\n",
       "    </tr>\n",
       "    <tr>\n",
       "      <th>17</th>\n",
       "      <td>131072</td>\n",
       "      <td>9.682347e+10</td>\n",
       "      <td>64533865404</td>\n",
       "    </tr>\n",
       "    <tr>\n",
       "      <th>18</th>\n",
       "      <td>262144</td>\n",
       "      <td>9.682347e+10</td>\n",
       "      <td>64533865404</td>\n",
       "    </tr>\n",
       "    <tr>\n",
       "      <th>19</th>\n",
       "      <td>524288</td>\n",
       "      <td>5.285753e+10</td>\n",
       "      <td>48307070017</td>\n",
       "    </tr>\n",
       "  </tbody>\n",
       "</table>\n",
       "</div>"
      ],
      "text/plain": [
       "         X        modify          pred\n",
       "0        1  1.113607e+11   57754083843\n",
       "1        2  1.113607e+11   57754083843\n",
       "2        4  1.113607e+11   57754083843\n",
       "3        8  1.113607e+11   57754083843\n",
       "4       16  1.113607e+11   57754083843\n",
       "5       32  1.113607e+11   57754083843\n",
       "6       64  1.113607e+11   57754083843\n",
       "7      128  1.113607e+11   57754083843\n",
       "8      256  1.113607e+11   57754083843\n",
       "9      512  1.113607e+11   57754083843\n",
       "10    1024  8.322581e+10   30258617943\n",
       "11    2048  1.010628e+11   89566477837\n",
       "12    4096  6.589062e+10   11843959871\n",
       "13    8192  1.348057e+11   71330624636\n",
       "14   16384  7.605111e+10   83645007848\n",
       "15   32768  1.302328e+11  176990004190\n",
       "16   65536  9.682347e+10   64533865404\n",
       "17  131072  9.682347e+10   64533865404\n",
       "18  262144  9.682347e+10   64533865404\n",
       "19  524288  5.285753e+10   48307070017"
      ]
     },
     "execution_count": 92,
     "metadata": {},
     "output_type": "execute_result"
    }
   ],
   "source": [
    "preds_df = pd.DataFrame(preds)\n",
    "preds_df"
   ]
  },
  {
   "cell_type": "code",
   "execution_count": 93,
   "metadata": {},
   "outputs": [
    {
     "data": {
      "text/plain": [
       "<matplotlib.collections.PathCollection at 0x7f33b87fc748>"
      ]
     },
     "execution_count": 93,
     "metadata": {},
     "output_type": "execute_result"
    },
    {
     "data": {
      "image/png": "[encoded data removed]",
      "text/plain": [
       "<Figure size 1440x720 with 1 Axes>"
      ]
     },
     "metadata": {
      "needs_background": "light"
     },
     "output_type": "display_data"
    }
   ],
   "source": [
    "plt.figure(figsize=(20,10))\n",
    "plt.plot(preds_df.X, preds_df.pred)\n",
    "plt.plot(preds_df.X, preds_df.modify)\n",
    "plt.scatter(data_16_17.freq_sum, data_16_17.market)"
   ]
  },
  {
   "cell_type": "code",
   "execution_count": 107,
   "metadata": {},
   "outputs": [
    {
     "data": {
      "text/plain": [
       "<matplotlib.legend.Legend at 0x7f33b78157b8>"
      ]
     },
     "execution_count": 107,
     "metadata": {},
     "output_type": "execute_result"
    },
    {
     "data": {
      "image/png": "[encoded data removed]",
      "text/plain": [
       "<Figure size 1080x504 with 1 Axes>"
      ]
     },
     "metadata": {
      "needs_background": "light"
     },
     "output_type": "display_data"
    }
   ],
   "source": [
    "plt.figure(figsize=(15,7))\n",
    "plt.plot(list(preds_df.X)[:15], list(preds_df.pred)[:15], color = \"#0b2247\") #darkblue\n",
    "plt.plot(list(preds_df.X)[:15], list(preds_df.modify)[:15], color = \"#8c0492\") #pink\n",
    "plt.scatter(data_16_17[data_16_17['freq_sum']<10000].freq_sum, data_16_17[data_16_17['freq_sum']<10000].market, color = \"orange\")\n",
    "plt.legend(['Predictions', 'Predictions_modified'])"
   ]
  },
  {
   "cell_type": "code",
   "execution_count": 96,
   "metadata": {},
   "outputs": [
    {
     "data": {
      "text/plain": [
       "11843959871"
      ]
     },
     "execution_count": 96,
     "metadata": {},
     "output_type": "execute_result"
    }
   ],
   "source": [
    "preds_df.pred.min()"
   ]
  },
  {
   "cell_type": "code",
   "execution_count": 97,
   "metadata": {},
   "outputs": [
    {
     "data": {
      "text/plain": [
       "52857528097.79836"
      ]
     },
     "execution_count": 97,
     "metadata": {},
     "output_type": "execute_result"
    }
   ],
   "source": [
    "preds_df.modify.min()"
   ]
  },
  {
   "cell_type": "code",
   "execution_count": 101,
   "metadata": {},
   "outputs": [],
   "source": [
    "int_mins.append(int(preds_df.pred.min()))\n",
    "int_mins.append(int(preds_df.modify.min()))"
   ]
  },
  {
   "cell_type": "code",
   "execution_count": 102,
   "metadata": {},
   "outputs": [
    {
     "data": {
      "text/plain": [
       "[10229837223,\n",
       " 5545392159,\n",
       " 13714300255,\n",
       " 10352579581,\n",
       " 10627209493,\n",
       " 11843959871,\n",
       " 52857528097]"
      ]
     },
     "execution_count": 102,
     "metadata": {},
     "output_type": "execute_result"
    }
   ],
   "source": [
    "int_mins"
   ]
  },
  {
   "cell_type": "markdown",
   "metadata": {},
   "source": [
    "Lowest: 5545392159 - for iso model on corrected dataset"
   ]
  },
  {
   "cell_type": "code",
   "execution_count": null,
   "metadata": {},
   "outputs": [],
   "source": []
  }
 ],
 "metadata": {
  "kernelspec": {
   "display_name": "Python 3",
   "language": "python",
   "name": "python3"
  },
  "language_info": {
   "codemirror_mode": {
    "name": "ipython",
    "version": 3
   },
   "file_extension": ".py",
   "mimetype": "text/x-python",
   "name": "python",
   "nbconvert_exporter": "python",
   "pygments_lexer": "ipython3",
   "version": "3.6.8"
  }
 },
 "nbformat": 4,
 "nbformat_minor": 2
}
